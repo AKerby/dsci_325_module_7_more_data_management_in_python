{
  "cells": [
    {
      "cell_type": "markdown",
      "metadata": {
        "id": "view-in-github",
        "colab_type": "text"
      },
      "source": [
        "<a href=\"https://colab.research.google.com/github/AKerby/dsci_325_module_7_more_data_management_in_python/blob/main/Aggregation%20in%20Python.ipynb\" target=\"_parent\"><img src=\"https://colab.research.google.com/assets/colab-badge.svg\" alt=\"Open In Colab\"/></a>"
      ]
    },
    {
      "cell_type": "markdown",
      "id": "abc323af",
      "metadata": {
        "id": "abc323af"
      },
      "source": [
        "# Aggregation"
      ]
    },
    {
      "cell_type": "code",
      "execution_count": 11,
      "id": "41088836",
      "metadata": {
        "id": "41088836"
      },
      "outputs": [],
      "source": [
        "import polars as pl"
      ]
    },
    {
      "cell_type": "markdown",
      "id": "5712c105",
      "metadata": {
        "id": "5712c105"
      },
      "source": [
        "## What is aggregation?\n",
        "\n",
        "The act of collapsing many rows into few rows."
      ]
    },
    {
      "cell_type": "markdown",
      "id": "3622961b",
      "metadata": {
        "id": "3622961b"
      },
      "source": [
        "## Example - Baseball pitching"
      ]
    },
    {
      "cell_type": "code",
      "execution_count": 12,
      "id": "cb7f4994",
      "metadata": {
        "scrolled": true,
        "id": "cb7f4994",
        "outputId": "ca921afa-d0c6-4ba1-eca3-8b3e06245577",
        "colab": {
          "base_uri": "https://localhost:8080/",
          "height": 255
        }
      },
      "outputs": [
        {
          "output_type": "execute_result",
          "data": {
            "text/plain": [
              "shape: (5, 30)\n",
              "┌───────────┬────────┬───────┬────────┬───┬─────┬──────┬──────┬──────┐\n",
              "│ playerID  ┆ yearID ┆ stint ┆ teamID ┆ … ┆ R   ┆ SH   ┆ SF   ┆ GIDP │\n",
              "│ ---       ┆ ---    ┆ ---   ┆ ---    ┆   ┆ --- ┆ ---  ┆ ---  ┆ ---  │\n",
              "│ str       ┆ i64    ┆ i64   ┆ str    ┆   ┆ i64 ┆ str  ┆ str  ┆ str  │\n",
              "╞═══════════╪════════╪═══════╪════════╪═══╪═════╪══════╪══════╪══════╡\n",
              "│ bechtge01 ┆ 1871   ┆ 1     ┆ PH1    ┆ … ┆ 42  ┆ null ┆ null ┆ null │\n",
              "│ brainas01 ┆ 1871   ┆ 1     ┆ WS3    ┆ … ┆ 292 ┆ null ┆ null ┆ null │\n",
              "│ fergubo01 ┆ 1871   ┆ 1     ┆ NY2    ┆ … ┆ 9   ┆ null ┆ null ┆ null │\n",
              "│ fishech01 ┆ 1871   ┆ 1     ┆ RC1    ┆ … ┆ 257 ┆ null ┆ null ┆ null │\n",
              "│ fleetfr01 ┆ 1871   ┆ 1     ┆ NY2    ┆ … ┆ 21  ┆ null ┆ null ┆ null │\n",
              "└───────────┴────────┴───────┴────────┴───┴─────┴──────┴──────┴──────┘"
            ],
            "text/html": [
              "<div><style>\n",
              ".dataframe > thead > tr,\n",
              ".dataframe > tbody > tr {\n",
              "  text-align: right;\n",
              "  white-space: pre-wrap;\n",
              "}\n",
              "</style>\n",
              "<small>shape: (5, 30)</small><table border=\"1\" class=\"dataframe\"><thead><tr><th>playerID</th><th>yearID</th><th>stint</th><th>teamID</th><th>lgID</th><th>W</th><th>L</th><th>G</th><th>GS</th><th>CG</th><th>SHO</th><th>SV</th><th>IPouts</th><th>H</th><th>ER</th><th>HR</th><th>BB</th><th>SO</th><th>BAOpp</th><th>ERA</th><th>IBB</th><th>WP</th><th>HBP</th><th>BK</th><th>BFP</th><th>GF</th><th>R</th><th>SH</th><th>SF</th><th>GIDP</th></tr><tr><td>str</td><td>i64</td><td>i64</td><td>str</td><td>str</td><td>i64</td><td>i64</td><td>i64</td><td>i64</td><td>i64</td><td>i64</td><td>i64</td><td>i64</td><td>i64</td><td>i64</td><td>i64</td><td>i64</td><td>i64</td><td>str</td><td>f64</td><td>str</td><td>i64</td><td>str</td><td>i64</td><td>i64</td><td>i64</td><td>i64</td><td>str</td><td>str</td><td>str</td></tr></thead><tbody><tr><td>&quot;bechtge01&quot;</td><td>1871</td><td>1</td><td>&quot;PH1&quot;</td><td>&quot;NA&quot;</td><td>1</td><td>2</td><td>3</td><td>3</td><td>2</td><td>0</td><td>0</td><td>78</td><td>43</td><td>23</td><td>0</td><td>11</td><td>1</td><td>null</td><td>7.96</td><td>null</td><td>7</td><td>null</td><td>0</td><td>146</td><td>0</td><td>42</td><td>null</td><td>null</td><td>null</td></tr><tr><td>&quot;brainas01&quot;</td><td>1871</td><td>1</td><td>&quot;WS3&quot;</td><td>&quot;NA&quot;</td><td>12</td><td>15</td><td>30</td><td>30</td><td>30</td><td>0</td><td>0</td><td>792</td><td>361</td><td>132</td><td>4</td><td>37</td><td>13</td><td>null</td><td>4.5</td><td>null</td><td>7</td><td>null</td><td>0</td><td>1291</td><td>0</td><td>292</td><td>null</td><td>null</td><td>null</td></tr><tr><td>&quot;fergubo01&quot;</td><td>1871</td><td>1</td><td>&quot;NY2&quot;</td><td>&quot;NA&quot;</td><td>0</td><td>0</td><td>1</td><td>0</td><td>0</td><td>0</td><td>0</td><td>3</td><td>8</td><td>3</td><td>0</td><td>0</td><td>0</td><td>null</td><td>27.0</td><td>null</td><td>2</td><td>null</td><td>0</td><td>14</td><td>0</td><td>9</td><td>null</td><td>null</td><td>null</td></tr><tr><td>&quot;fishech01&quot;</td><td>1871</td><td>1</td><td>&quot;RC1&quot;</td><td>&quot;NA&quot;</td><td>4</td><td>16</td><td>24</td><td>24</td><td>22</td><td>1</td><td>0</td><td>639</td><td>295</td><td>103</td><td>3</td><td>31</td><td>15</td><td>null</td><td>4.35</td><td>null</td><td>20</td><td>null</td><td>0</td><td>1080</td><td>1</td><td>257</td><td>null</td><td>null</td><td>null</td></tr><tr><td>&quot;fleetfr01&quot;</td><td>1871</td><td>1</td><td>&quot;NY2&quot;</td><td>&quot;NA&quot;</td><td>0</td><td>1</td><td>1</td><td>1</td><td>1</td><td>0</td><td>0</td><td>27</td><td>20</td><td>10</td><td>0</td><td>3</td><td>0</td><td>null</td><td>10.0</td><td>null</td><td>0</td><td>null</td><td>0</td><td>57</td><td>0</td><td>21</td><td>null</td><td>null</td><td>null</td></tr></tbody></table></div>"
            ]
          },
          "metadata": {},
          "execution_count": 12
        }
      ],
      "source": [
        "url = \"https://github.com/AKerby/dsci_325_module_7_more_data_management_in_python/raw/main/sample_data/baseball/core/Pitching.csv\"\n",
        "pitching = pl.read_csv(url)\n",
        "pitching.head()"
      ]
    },
    {
      "cell_type": "markdown",
      "id": "228e2670",
      "metadata": {
        "id": "228e2670"
      },
      "source": [
        "## Simple Aggregation\n",
        "\n",
        "A **simple aggregation** collapses all rows into one row.\n",
        "\n",
        "<img src=\"https://github.com/WSU-DataScience/dsci_325_module_7_more_data_management_in_python/raw/main/img/simple_aggregation.png\" width=800>"
      ]
    },
    {
      "cell_type": "markdown",
      "id": "6f572471",
      "metadata": {
        "id": "6f572471"
      },
      "source": [
        "### Simple aggregation with `df.select`"
      ]
    },
    {
      "cell_type": "code",
      "execution_count": 13,
      "id": "f9702e21",
      "metadata": {
        "id": "f9702e21",
        "outputId": "40db9e5c-0e42-4b27-d7eb-1c80dc1f8103",
        "colab": {
          "base_uri": "https://localhost:8080/",
          "height": 129
        }
      },
      "outputs": [
        {
          "output_type": "execute_result",
          "data": {
            "text/plain": [
              "shape: (1, 4)\n",
              "┌───────────┬──────────┬──────────┬──────────┐\n",
              "│ Mean Hits ┆ SD Hits  ┆ Min Wins ┆ Max Wins │\n",
              "│ ---       ┆ ---      ┆ ---      ┆ ---      │\n",
              "│ f64       ┆ f64      ┆ i64      ┆ i64      │\n",
              "╞═══════════╪══════════╪══════════╪══════════╡\n",
              "│ 5.11792   ┆ 5.466654 ┆ 0        ┆ 60       │\n",
              "└───────────┴──────────┴──────────┴──────────┘"
            ],
            "text/html": [
              "<div><style>\n",
              ".dataframe > thead > tr,\n",
              ".dataframe > tbody > tr {\n",
              "  text-align: right;\n",
              "  white-space: pre-wrap;\n",
              "}\n",
              "</style>\n",
              "<small>shape: (1, 4)</small><table border=\"1\" class=\"dataframe\"><thead><tr><th>Mean Hits</th><th>SD Hits</th><th>Min Wins</th><th>Max Wins</th></tr><tr><td>f64</td><td>f64</td><td>i64</td><td>i64</td></tr></thead><tbody><tr><td>5.11792</td><td>5.466654</td><td>0</td><td>60</td></tr></tbody></table></div>"
            ]
          },
          "metadata": {},
          "execution_count": 13
        }
      ],
      "source": [
        "(pitching\n",
        "  .select([pl.col('ERA').mean().alias('Mean Hits'),\n",
        "           pl.col('ERA').std().alias('SD Hits'),\n",
        "           pl.col('W').min().alias('Min Wins'),\n",
        "           pl.col('W').max().alias('Max Wins'),\n",
        "          ])\n",
        ")"
      ]
    },
    {
      "cell_type": "markdown",
      "id": "94771f6f",
      "metadata": {
        "id": "94771f6f"
      },
      "source": [
        "### Coding Best Practice - Spreading code over many lines improves readability\n",
        "\n",
        "<img src=\"https://github.com/WSU-DataScience/dsci_325_module_7_more_data_management_in_python/raw/main/img/readable_simple_aggregation.png\" width=\"600\">"
      ]
    },
    {
      "cell_type": "code",
      "execution_count": 14,
      "id": "cf5a0a66",
      "metadata": {
        "id": "cf5a0a66",
        "outputId": "cbf6b25e-3f10-4138-a5a3-9710a1ca8287",
        "colab": {
          "base_uri": "https://localhost:8080/",
          "height": 129
        }
      },
      "outputs": [
        {
          "output_type": "execute_result",
          "data": {
            "text/plain": [
              "shape: (1, 4)\n",
              "┌───────────┬──────────┬──────────┬──────────┐\n",
              "│ Mean Hits ┆ SD Hits  ┆ Min Wins ┆ Max Wins │\n",
              "│ ---       ┆ ---      ┆ ---      ┆ ---      │\n",
              "│ f64       ┆ f64      ┆ i64      ┆ i64      │\n",
              "╞═══════════╪══════════╪══════════╪══════════╡\n",
              "│ 5.11792   ┆ 5.466654 ┆ 0        ┆ 60       │\n",
              "└───────────┴──────────┴──────────┴──────────┘"
            ],
            "text/html": [
              "<div><style>\n",
              ".dataframe > thead > tr,\n",
              ".dataframe > tbody > tr {\n",
              "  text-align: right;\n",
              "  white-space: pre-wrap;\n",
              "}\n",
              "</style>\n",
              "<small>shape: (1, 4)</small><table border=\"1\" class=\"dataframe\"><thead><tr><th>Mean Hits</th><th>SD Hits</th><th>Min Wins</th><th>Max Wins</th></tr><tr><td>f64</td><td>f64</td><td>i64</td><td>i64</td></tr></thead><tbody><tr><td>5.11792</td><td>5.466654</td><td>0</td><td>60</td></tr></tbody></table></div>"
            ]
          },
          "metadata": {},
          "execution_count": 14
        }
      ],
      "source": [
        "(pitching\n",
        "  .select([pl.col('ERA')\n",
        "             .mean()\n",
        "             .alias('Mean Hits'),\n",
        "           pl.col('ERA')\n",
        "             .std()\n",
        "             .alias('SD Hits'),\n",
        "           pl.col('W')\n",
        "             .min()\n",
        "             .alias('Min Wins'),\n",
        "           pl.col('W')\n",
        "             .max()\n",
        "             .alias('Max Wins'),\n",
        "          ])\n",
        ")"
      ]
    },
    {
      "cell_type": "markdown",
      "id": "d0e19955",
      "metadata": {
        "id": "d0e19955"
      },
      "source": [
        "### What makes this a simple aggregation?\n",
        "\n",
        "<img src=\"https://github.com/WSU-DataScience/dsci_325_module_7_more_data_management_in_python/raw/main/img/identify_simple_aggregation.png\" width=\"600\">"
      ]
    },
    {
      "cell_type": "markdown",
      "id": "ed5586c0",
      "metadata": {
        "id": "ed5586c0"
      },
      "source": [
        "#### Simple aggregation with a filter."
      ]
    },
    {
      "cell_type": "code",
      "execution_count": 15,
      "id": "c48578b1",
      "metadata": {
        "id": "c48578b1",
        "outputId": "8ca1fdf5-87cd-490a-a77d-f173a64c85c5",
        "colab": {
          "base_uri": "https://localhost:8080/",
          "height": 129
        }
      },
      "outputs": [
        {
          "output_type": "execute_result",
          "data": {
            "text/plain": [
              "shape: (1, 2)\n",
              "┌────────────────────────────────┬────────────────────────────────┐\n",
              "│ Avg Wins per Season (post WW2) ┆ Avg Wins per Season (Interwar) │\n",
              "│ ---                            ┆ ---                            │\n",
              "│ f64                            ┆ f64                            │\n",
              "╞════════════════════════════════╪════════════════════════════════╡\n",
              "│ 4.062594                       ┆ 5.606054                       │\n",
              "└────────────────────────────────┴────────────────────────────────┘"
            ],
            "text/html": [
              "<div><style>\n",
              ".dataframe > thead > tr,\n",
              ".dataframe > tbody > tr {\n",
              "  text-align: right;\n",
              "  white-space: pre-wrap;\n",
              "}\n",
              "</style>\n",
              "<small>shape: (1, 2)</small><table border=\"1\" class=\"dataframe\"><thead><tr><th>Avg Wins per Season (post WW2)</th><th>Avg Wins per Season (Interwar)</th></tr><tr><td>f64</td><td>f64</td></tr></thead><tbody><tr><td>4.062594</td><td>5.606054</td></tr></tbody></table></div>"
            ]
          },
          "metadata": {},
          "execution_count": 15
        }
      ],
      "source": [
        "(pitching\n",
        "  .select([pl.col('W')\n",
        "             .filter(pl.col('yearID') >= 1946)\n",
        "             .mean()\n",
        "             .alias('Avg Wins per Season (post WW2)'),\n",
        "           pl.col('W')\n",
        "             .filter((1918 <= pl.col('yearID')) & (pl.col('yearID') <= 1938))\n",
        "             .mean()\n",
        "             .alias('Avg Wins per Season (Interwar)'),\n",
        "          ])\n",
        ")"
      ]
    },
    {
      "cell_type": "markdown",
      "id": "33855b43",
      "metadata": {
        "id": "33855b43"
      },
      "source": [
        "## <font color=\"red\"> Exercise 7.1.1 </font>\n",
        "\n",
        "The [dead ball era](https://en.wikipedia.org/wiki/Dead-ball_era) in MLB includes the year from about 1900 to 1918, which was known for a low number of runs per game.  After this period, the number of runs per game increased dramatically and one possible reason for this change was a changes made to the baseball at the start of the 1920 season.    \n",
        "\n",
        "**Tasks:** Complete that following tasks using `polars`\n",
        "\n",
        "* Compute the average runs allowed per pitcher (column `R`) for the following two ranges of years:\n",
        "    * 1900-1919 and\n",
        "    * 1920-1939.  \n",
        "* Is there evidence of a difference in the number of runs allowed for each era?"
      ]
    },
    {
      "cell_type": "code",
      "execution_count": null,
      "id": "6f053d14",
      "metadata": {
        "id": "6f053d14"
      },
      "outputs": [],
      "source": [
        "# Your code here"
      ]
    },
    {
      "cell_type": "markdown",
      "id": "fae37f77",
      "metadata": {
        "id": "fae37f77"
      },
      "source": [
        "> *Your thoughts here*"
      ]
    },
    {
      "cell_type": "markdown",
      "id": "b3941322",
      "metadata": {
        "id": "b3941322"
      },
      "source": [
        "## Group and Aggregate\n",
        "\n",
        "Group and aggregate\n",
        "\n",
        "* combines multiple filter + aggregates\n",
        "* considers all possible groups."
      ]
    },
    {
      "cell_type": "markdown",
      "id": "26f8642b",
      "metadata": {
        "id": "26f8642b"
      },
      "source": [
        "<img src=\"https://github.com/WSU-DataScience/dsci_325_module_7_more_data_management_in_python/raw/main/img/group_and_aggregate.png\" width=800>"
      ]
    },
    {
      "cell_type": "markdown",
      "id": "b0d3c0e0",
      "metadata": {
        "id": "b0d3c0e0"
      },
      "source": [
        "## Using `when/then` to classify the years"
      ]
    },
    {
      "cell_type": "code",
      "execution_count": 25,
      "id": "51bab5cd",
      "metadata": {
        "id": "51bab5cd",
        "outputId": "d8ddd596-7c28-4e1b-ef8a-e4d9e86c9d3f",
        "colab": {
          "base_uri": "https://localhost:8080/",
          "height": 255
        }
      },
      "outputs": [
        {
          "output_type": "execute_result",
          "data": {
            "text/plain": [
              "shape: (5, 3)\n",
              "┌────────┬─────┬───────────┐\n",
              "│ yearID ┆ R   ┆ era       │\n",
              "│ ---    ┆ --- ┆ ---       │\n",
              "│ i64    ┆ i64 ┆ str       │\n",
              "╞════════╪═════╪═══════════╡\n",
              "│ 1900   ┆ 16  ┆ dead ball │\n",
              "│ 1900   ┆ 151 ┆ dead ball │\n",
              "│ 1900   ┆ 111 ┆ dead ball │\n",
              "│ 1900   ┆ 195 ┆ dead ball │\n",
              "│ 1900   ┆ 224 ┆ dead ball │\n",
              "└────────┴─────┴───────────┘"
            ],
            "text/html": [
              "<div><style>\n",
              ".dataframe > thead > tr,\n",
              ".dataframe > tbody > tr {\n",
              "  text-align: right;\n",
              "  white-space: pre-wrap;\n",
              "}\n",
              "</style>\n",
              "<small>shape: (5, 3)</small><table border=\"1\" class=\"dataframe\"><thead><tr><th>yearID</th><th>R</th><th>era</th></tr><tr><td>i64</td><td>i64</td><td>str</td></tr></thead><tbody><tr><td>1900</td><td>16</td><td>&quot;dead ball&quot;</td></tr><tr><td>1900</td><td>151</td><td>&quot;dead ball&quot;</td></tr><tr><td>1900</td><td>111</td><td>&quot;dead ball&quot;</td></tr><tr><td>1900</td><td>195</td><td>&quot;dead ball&quot;</td></tr><tr><td>1900</td><td>224</td><td>&quot;dead ball&quot;</td></tr></tbody></table></div>"
            ]
          },
          "metadata": {},
          "execution_count": 25
        }
      ],
      "source": [
        "pl.Config.with_columns_kwargs = True\n",
        "\n",
        "eras = (pitching\n",
        "        .select(['yearID', 'R'])\n",
        "        .filter((pl.col('yearID') >= 1900) & (pl.col('yearID') < 1939))\n",
        "        .with_columns(era = pl.when(pl.col('yearID') < 1920)\n",
        "                              .then(pl.lit('dead ball'))\n",
        "                              .otherwise(pl.lit('live ball'))\n",
        "                  )\n",
        "       )\n",
        "eras.head()"
      ]
    },
    {
      "cell_type": "markdown",
      "id": "2714ddfe",
      "metadata": {
        "id": "2714ddfe"
      },
      "source": [
        "<img src=\"https://github.com/WSU-DataScience/dsci_325_module_7_more_data_management_in_python/raw/main/img/filter_group_aggregate.png\" width=800>\n",
        "\n",
        "What we did here is actually `filter + groupby + aggregate`"
      ]
    },
    {
      "cell_type": "markdown",
      "id": "4449bf4d",
      "metadata": {
        "id": "4449bf4d"
      },
      "source": [
        "## Using `df.group_by` and `df.agg`"
      ]
    },
    {
      "cell_type": "code",
      "execution_count": 27,
      "id": "1c710d84",
      "metadata": {
        "scrolled": true,
        "id": "1c710d84",
        "outputId": "52c1d7d7-abc4-4350-f0a7-89ecdfbf65f2",
        "colab": {
          "base_uri": "https://localhost:8080/",
          "height": 161
        }
      },
      "outputs": [
        {
          "output_type": "execute_result",
          "data": {
            "text/plain": [
              "shape: (2, 2)\n",
              "┌───────────┬───────────┐\n",
              "│ era       ┆ mean_runs │\n",
              "│ ---       ┆ ---       │\n",
              "│ str       ┆ f64       │\n",
              "╞═══════════╪═══════════╡\n",
              "│ dead ball ┆ 49.707696 │\n",
              "│ live ball ┆ 55.76718  │\n",
              "└───────────┴───────────┘"
            ],
            "text/html": [
              "<div><style>\n",
              ".dataframe > thead > tr,\n",
              ".dataframe > tbody > tr {\n",
              "  text-align: right;\n",
              "  white-space: pre-wrap;\n",
              "}\n",
              "</style>\n",
              "<small>shape: (2, 2)</small><table border=\"1\" class=\"dataframe\"><thead><tr><th>era</th><th>mean_runs</th></tr><tr><td>str</td><td>f64</td></tr></thead><tbody><tr><td>&quot;dead ball&quot;</td><td>49.707696</td></tr><tr><td>&quot;live ball&quot;</td><td>55.76718</td></tr></tbody></table></div>"
            ]
          },
          "metadata": {},
          "execution_count": 27
        }
      ],
      "source": [
        "mean_runs = (eras\n",
        "             .group_by(pl.col('era'))\n",
        "             .agg(pl.col('R').mean().alias('mean_runs'))\n",
        "            )\n",
        "mean_runs"
      ]
    },
    {
      "cell_type": "markdown",
      "id": "e9f76259",
      "metadata": {
        "id": "e9f76259"
      },
      "source": [
        "## Visualizing the data with `seaborn`"
      ]
    },
    {
      "cell_type": "code",
      "execution_count": 28,
      "id": "9b100a84",
      "metadata": {
        "id": "9b100a84",
        "outputId": "fb0f9154-fbf4-416b-c30e-3c590bb5e9eb",
        "colab": {
          "base_uri": "https://localhost:8080/",
          "height": 467
        }
      },
      "outputs": [
        {
          "output_type": "execute_result",
          "data": {
            "text/plain": [
              "<Axes: xlabel='era', ylabel='mean_runs'>"
            ]
          },
          "metadata": {},
          "execution_count": 28
        },
        {
          "output_type": "display_data",
          "data": {
            "text/plain": [
              "<Figure size 640x480 with 1 Axes>"
            ],
            "image/png": "[encoded data removed]"
          },
          "metadata": {}
        }
      ],
      "source": [
        "import seaborn as sns\n",
        "import matplotlib.pylab as plt\n",
        "%matplotlib inline\n",
        "sns.barplot(x = \"era\", y=\"mean_runs\", data=mean_runs.to_pandas()) #seaborn needs a pandas.Dataframe"
      ]
    },
    {
      "cell_type": "markdown",
      "id": "a50fc68f",
      "metadata": {
        "id": "a50fc68f"
      },
      "source": [
        "## <font color=\"red\"> Exercise 7.1.2 </font>\n",
        "\n",
        "Compose the two queries into one piped expression (filter + mutate + group_by + summarise)"
      ]
    },
    {
      "cell_type": "code",
      "execution_count": null,
      "id": "b10b4e40",
      "metadata": {
        "id": "b10b4e40"
      },
      "outputs": [],
      "source": [
        "# Your code here"
      ]
    },
    {
      "cell_type": "markdown",
      "id": "36f49c54",
      "metadata": {
        "id": "36f49c54"
      },
      "source": [
        "## Grouping by more than one category\n",
        "\n",
        "* `group_by` accepts multiple columns\n",
        "* Groups all combinations"
      ]
    },
    {
      "cell_type": "markdown",
      "id": "2a5c0eca",
      "metadata": {
        "id": "2a5c0eca"
      },
      "source": [
        "## Example - Find all teams with 100+ wins in a season"
      ]
    },
    {
      "cell_type": "code",
      "execution_count": 30,
      "id": "39992331",
      "metadata": {
        "id": "39992331",
        "outputId": "973393fc-be3e-48e2-dd5b-e321311c80f8",
        "colab": {
          "base_uri": "https://localhost:8080/",
          "height": 412
        }
      },
      "outputs": [
        {
          "output_type": "execute_result",
          "data": {
            "text/plain": [
              "shape: (10, 3)\n",
              "┌────────┬────────┬────────────┐\n",
              "│ yearID ┆ teamID ┆ total_wins │\n",
              "│ ---    ┆ ---    ┆ ---        │\n",
              "│ i64    ┆ str    ┆ i64        │\n",
              "╞════════╪════════╪════════════╡\n",
              "│ 2019   ┆ HOU    ┆ 107        │\n",
              "│ 2019   ┆ LAN    ┆ 106        │\n",
              "│ 2019   ┆ NYA    ┆ 103        │\n",
              "│ 2019   ┆ MIN    ┆ 101        │\n",
              "│ …      ┆ …      ┆ …          │\n",
              "│ 2018   ┆ NYA    ┆ 100        │\n",
              "│ 2017   ┆ LAN    ┆ 104        │\n",
              "│ 2017   ┆ CLE    ┆ 102        │\n",
              "│ 2017   ┆ HOU    ┆ 101        │\n",
              "└────────┴────────┴────────────┘"
            ],
            "text/html": [
              "<div><style>\n",
              ".dataframe > thead > tr,\n",
              ".dataframe > tbody > tr {\n",
              "  text-align: right;\n",
              "  white-space: pre-wrap;\n",
              "}\n",
              "</style>\n",
              "<small>shape: (10, 3)</small><table border=\"1\" class=\"dataframe\"><thead><tr><th>yearID</th><th>teamID</th><th>total_wins</th></tr><tr><td>i64</td><td>str</td><td>i64</td></tr></thead><tbody><tr><td>2019</td><td>&quot;HOU&quot;</td><td>107</td></tr><tr><td>2019</td><td>&quot;LAN&quot;</td><td>106</td></tr><tr><td>2019</td><td>&quot;NYA&quot;</td><td>103</td></tr><tr><td>2019</td><td>&quot;MIN&quot;</td><td>101</td></tr><tr><td>2018</td><td>&quot;BOS&quot;</td><td>108</td></tr><tr><td>2018</td><td>&quot;HOU&quot;</td><td>103</td></tr><tr><td>2018</td><td>&quot;NYA&quot;</td><td>100</td></tr><tr><td>2017</td><td>&quot;LAN&quot;</td><td>104</td></tr><tr><td>2017</td><td>&quot;CLE&quot;</td><td>102</td></tr><tr><td>2017</td><td>&quot;HOU&quot;</td><td>101</td></tr></tbody></table></div>"
            ]
          },
          "metadata": {},
          "execution_count": 30
        }
      ],
      "source": [
        "(pitching\n",
        " .select(['yearID',\n",
        "          'teamID',\n",
        "          'W',\n",
        "         ])\n",
        " .group_by(['yearID',\n",
        "           'teamID',\n",
        "          ])\n",
        " .agg(pl.col('W')\n",
        "        .sum()\n",
        "        .alias('total_wins')\n",
        "     )\n",
        " .filter(pl.col('total_wins') >= 100)\n",
        " .sort([pl.col('yearID'),\n",
        "        pl.col('total_wins'),\n",
        "       ],\n",
        "       descending=[True, True])\n",
        ").head(10)"
      ]
    },
    {
      "cell_type": "markdown",
      "id": "6567b231",
      "metadata": {
        "id": "6567b231"
      },
      "source": [
        "## The last comparison might not be fair\n",
        "\n",
        "Comparison is only fair if pitchers all pitch the same number of outs/games/innings.  Let's see if there is a difference between the eras in terms of outs pitched (`IPouts`)."
      ]
    },
    {
      "cell_type": "code",
      "execution_count": 32,
      "id": "c66d8296",
      "metadata": {
        "id": "c66d8296",
        "outputId": "8276f933-58ce-4cb7-b9b8-3c3f8b1d91d2",
        "colab": {
          "base_uri": "https://localhost:8080/",
          "height": 161
        }
      },
      "outputs": [
        {
          "output_type": "execute_result",
          "data": {
            "text/plain": [
              "shape: (2, 2)\n",
              "┌─────────────────┬────────────┐\n",
              "│ era             ┆ mean_outs  │\n",
              "│ ---             ┆ ---        │\n",
              "│ str             ┆ f64        │\n",
              "╞═════════════════╪════════════╡\n",
              "│ dead ball       ┆ 336.067023 │\n",
              "│ after dead ball ┆ 303.468541 │\n",
              "└─────────────────┴────────────┘"
            ],
            "text/html": [
              "<div><style>\n",
              ".dataframe > thead > tr,\n",
              ".dataframe > tbody > tr {\n",
              "  text-align: right;\n",
              "  white-space: pre-wrap;\n",
              "}\n",
              "</style>\n",
              "<small>shape: (2, 2)</small><table border=\"1\" class=\"dataframe\"><thead><tr><th>era</th><th>mean_outs</th></tr><tr><td>str</td><td>f64</td></tr></thead><tbody><tr><td>&quot;dead ball&quot;</td><td>336.067023</td></tr><tr><td>&quot;after dead bal…</td><td>303.468541</td></tr></tbody></table></div>"
            ]
          },
          "metadata": {},
          "execution_count": 32
        }
      ],
      "source": [
        "mean_outs = (pitching\n",
        "             .select(['IPouts',\n",
        "                      'yearID',\n",
        "                     ])\n",
        "             .filter((pl.col('yearID') >= 1900) & (pl.col('yearID') < 1940))\n",
        "             .with_columns(era = pl.when(pl.col('yearID') < 1920)\n",
        "                                   .then(pl.lit(\"dead ball\"))\n",
        "                                   .otherwise(pl.lit(\"after dead ball\")))\n",
        "             .group_by(pl.col('era'))\n",
        "             .agg(pl.col('IPouts').mean().alias('mean_outs'))\n",
        "            )\n",
        "mean_outs.head()"
      ]
    },
    {
      "cell_type": "code",
      "execution_count": 33,
      "id": "c5db6c40",
      "metadata": {
        "id": "c5db6c40",
        "outputId": "fc8383f7-a3d5-4791-be6b-766dd0d680ec",
        "colab": {
          "base_uri": "https://localhost:8080/",
          "height": 470
        }
      },
      "outputs": [
        {
          "output_type": "execute_result",
          "data": {
            "text/plain": [
              "<Axes: xlabel='era', ylabel='mean_outs'>"
            ]
          },
          "metadata": {},
          "execution_count": 33
        },
        {
          "output_type": "display_data",
          "data": {
            "text/plain": [
              "<Figure size 640x480 with 1 Axes>"
            ],
            "image/png": "[encoded data removed]"
          },
          "metadata": {}
        }
      ],
      "source": [
        "sns.barplot(x = \"era\", y=\"mean_outs\", data=mean_outs.to_pandas())"
      ]
    },
    {
      "cell_type": "markdown",
      "id": "d8102a2e",
      "metadata": {
        "id": "d8102a2e"
      },
      "source": [
        "## A more fair comparison\n",
        "\n",
        "Instead of comparing the era's on a per-pitcher basis, let's compare on a per year basis.  We will\n",
        "\n",
        "1. Compute the total runs and total IPouts per year.\n",
        "2. Compute the ratio of these totals for each year.\n",
        "3. Compute the average value of the ratio for each era"
      ]
    },
    {
      "cell_type": "code",
      "execution_count": 35,
      "id": "5f6133bf",
      "metadata": {
        "id": "5f6133bf",
        "outputId": "53168486-da59-46d3-89d1-1aae0a5060e0",
        "colab": {
          "base_uri": "https://localhost:8080/",
          "height": 161
        }
      },
      "outputs": [
        {
          "output_type": "execute_result",
          "data": {
            "text/plain": [
              "shape: (2, 2)\n",
              "┌─────────────────┬───────────────────┐\n",
              "│ era             ┆ mean_runs_per_out │\n",
              "│ ---             ┆ ---               │\n",
              "│ str             ┆ f64               │\n",
              "╞═════════════════╪═══════════════════╡\n",
              "│ after dead ball ┆ 0.182218          │\n",
              "│ dead ball       ┆ 0.14992           │\n",
              "└─────────────────┴───────────────────┘"
            ],
            "text/html": [
              "<div><style>\n",
              ".dataframe > thead > tr,\n",
              ".dataframe > tbody > tr {\n",
              "  text-align: right;\n",
              "  white-space: pre-wrap;\n",
              "}\n",
              "</style>\n",
              "<small>shape: (2, 2)</small><table border=\"1\" class=\"dataframe\"><thead><tr><th>era</th><th>mean_runs_per_out</th></tr><tr><td>str</td><td>f64</td></tr></thead><tbody><tr><td>&quot;after dead bal…</td><td>0.182218</td></tr><tr><td>&quot;dead ball&quot;</td><td>0.14992</td></tr></tbody></table></div>"
            ]
          },
          "metadata": {},
          "execution_count": 35
        }
      ],
      "source": [
        "mean_runs_per_out = (pitching\n",
        "                     .select([pl.col('IPouts'), pl.col('yearID'), pl.col('R')])\n",
        "                     .filter((pl.col('yearID') >= 1900) & (pl.col('yearID') < 1940))\n",
        "                     .group_by(pl.col('yearID'))\n",
        "                     .agg([pl.col('R').sum().alias('total_runs'),\n",
        "                           pl.col('IPouts').sum().alias('total_ipouts')\n",
        "                          ])\n",
        "                     .with_columns(runs_per_out = pl.col('total_runs')/pl.col('total_ipouts'),\n",
        "                                   era = pl.when(pl.col('yearID') < 1920)\n",
        "                                           .then(pl.lit(\"dead ball\"))\n",
        "                                           .otherwise(pl.lit(\"after dead ball\")))\n",
        "                     .group_by(pl.col('era'))\n",
        "                     .agg(pl.col('runs_per_out').mean().alias('mean_runs_per_out'))\n",
        "                    )\n",
        "mean_runs_per_out"
      ]
    },
    {
      "cell_type": "code",
      "execution_count": null,
      "id": "9014bc82",
      "metadata": {
        "id": "9014bc82",
        "outputId": "13b5838b-7b27-47d2-e01f-20c7405f31d3"
      },
      "outputs": [
        {
          "data": {
            "text/plain": [
              "<AxesSubplot:xlabel='era', ylabel='mean_runs_per_out'>"
            ]
          },
          "execution_count": 39,
          "metadata": {},
          "output_type": "execute_result"
        },
        {
          "data": {
            "image/png": "[encoded data removed]",
            "text/plain": [
              "<Figure size 432x288 with 1 Axes>"
            ]
          },
          "metadata": {
            "needs_background": "light"
          },
          "output_type": "display_data"
        }
      ],
      "source": [
        "sns.barplot(x = \"era\", y=\"mean_runs_per_out\", data=mean_runs_per_out.to_pandas())"
      ]
    },
    {
      "cell_type": "markdown",
      "id": "27a542c4",
      "metadata": {
        "id": "27a542c4"
      },
      "source": [
        "## <font color=\"red\"> Exercise 7.1.3 </font>\n",
        "\n",
        "It would be easier to understand this result if we were computing runs on a per-game basis.  Redo the last problem, both this time compute `mean_runs_per_9_innings`.  **Hint:** There are 27 outs in a 9 inning game."
      ]
    },
    {
      "cell_type": "code",
      "execution_count": null,
      "id": "f1bc6999",
      "metadata": {
        "id": "f1bc6999"
      },
      "outputs": [],
      "source": [
        "# Your code here"
      ]
    },
    {
      "cell_type": "markdown",
      "id": "7097ff33",
      "metadata": {
        "id": "7097ff33"
      },
      "source": [
        "## <font color=\"red\"> Exercise 7.1.4 </font>\n",
        "\n",
        "Compute and plot the average home runs per game allowed per year for all years in the pitching table.  To accomplish this task, you should\n",
        "\n",
        "1. Aggregate total `HR` and `IPouts` for each year.\n",
        "1. Create a `games_pitched`, which is computed by dividing total inning pitched outs `IPouts` by 27, the number of outs in a regular game.\n",
        "2. Create a `hr_per_game` column by dividing the total `HR` for each year by `games_pitched` for each year.\n",
        "4. Make line plot of the results.  You can use [seaborn's lineplot](https://seaborn.pydata.org/generated/seaborn.lineplot.html) to make the graph."
      ]
    },
    {
      "cell_type": "code",
      "execution_count": null,
      "id": "fa7ec0fa",
      "metadata": {
        "id": "fa7ec0fa"
      },
      "outputs": [],
      "source": [
        "# Your code here"
      ]
    }
  ],
  "metadata": {
    "celltoolbar": "Slideshow",
    "kernelspec": {
      "display_name": "Python 3 (ipykernel)",
      "language": "python",
      "name": "python3"
    },
    "language_info": {
      "codemirror_mode": {
        "name": "ipython",
        "version": 3
      },
      "file_extension": ".py",
      "mimetype": "text/x-python",
      "name": "python",
      "nbconvert_exporter": "python",
      "pygments_lexer": "ipython3",
      "version": "3.9.12"
    },
    "varInspector": {
      "cols": {
        "lenName": 16,
        "lenType": 16,
        "lenVar": 40
      },
      "kernels_config": {
        "python": {
          "delete_cmd_postfix": "",
          "delete_cmd_prefix": "del ",
          "library": "var_list.py",
          "varRefreshCmd": "print(var_dic_list())"
        },
        "r": {
          "delete_cmd_postfix": ") ",
          "delete_cmd_prefix": "rm(",
          "library": "var_list.r",
          "varRefreshCmd": "cat(var_dic_list()) "
        }
      },
      "types_to_exclude": [
        "module",
        "function",
        "builtin_function_or_method",
        "instance",
        "_Feature"
      ],
      "window_display": false
    },
    "colab": {
      "provenance": [],
      "include_colab_link": true
    }
  },
  "nbformat": 4,
  "nbformat_minor": 5
}