{
  "cells": [
    {
      "cell_type": "markdown",
      "metadata": {
        "id": "view-in-github",
        "colab_type": "text"
      },
      "source": [
        "<a href=\"https://colab.research.google.com/github/AKerby/dsci_325_module_7_more_data_management_in_python/blob/main/Joining%20Tables%20in%20Python%20Part%202.ipynb\" target=\"_parent\"><img src=\"https://colab.research.google.com/assets/colab-badge.svg\" alt=\"Open In Colab\"/></a>"
      ]
    },
    {
      "cell_type": "markdown",
      "id": "144a7b62",
      "metadata": {
        "id": "144a7b62"
      },
      "source": [
        "# Concatenating Tables with Set-Like Operations\n",
        "\n",
        "One of the two way of combining two tables is to stack one table on top of the other.  When stacking two tables on top of one another, we need to decide\n",
        "\n",
        "1. If we combine columns based on position or name (and if combining by name, what do we do with mismatches?)\n",
        "2. How to decide which rows to keep.  In this case, we will take some guidance from SQL clauses."
      ]
    },
    {
      "cell_type": "markdown",
      "id": "91908097",
      "metadata": {
        "id": "91908097"
      },
      "source": [
        "## Three Types of Operations\n",
        "\n",
        "* **Union:** Keeps rows from either table.\n",
        "* **Intersection:** Only keeps common columns\n",
        "* **Set Difference/Except:** Keep rows from the left table *except* those in the right table."
      ]
    },
    {
      "cell_type": "markdown",
      "id": "9d50b142",
      "metadata": {
        "id": "9d50b142"
      },
      "source": [
        "## Set Operations in Action\n",
        "\n",
        "<img src=\"https://github.com/AKerby/dsci_325_module_7_more_data_management_in_python/blob/main/img/table_verbs_set.gif?raw=1\" width=800>"
      ]
    },
    {
      "cell_type": "markdown",
      "id": "f8b8c261",
      "metadata": {
        "id": "f8b8c261"
      },
      "source": [
        "## All Operations Match by Position\n",
        "\n",
        "All operations\n",
        "\n",
        "* Match columns by position\n",
        "* Require same number/type of columns"
      ]
    },
    {
      "cell_type": "markdown",
      "id": "53bc1ea3",
      "metadata": {
        "id": "53bc1ea3"
      },
      "source": [
        "## Distinct Versus All\n",
        "\n",
        "* **UNION/INTERSECT/SET DIFFERENE** are **DISTINCT**\n",
        "    * Only keeps distinct rows, removing duplicates.\n",
        "* **UNION ALL/INTERSECT ALL/SET DIFFERENCE ALL**\n",
        "    * Keeps duplicate rows"
      ]
    },
    {
      "cell_type": "code",
      "execution_count": 1,
      "id": "dd2b1111",
      "metadata": {
        "id": "dd2b1111",
        "outputId": "73931e3c-a7ae-49ec-e882-12b85a602a90",
        "colab": {
          "base_uri": "https://localhost:8080/"
        }
      },
      "outputs": [
        {
          "output_type": "stream",
          "name": "stdout",
          "text": [
            "Collecting more_polars\n",
            "  Downloading more_polars-0.3.0-py3-none-any.whl (5.0 kB)\n",
            "Collecting composable>=0.5.4 (from more_polars)\n",
            "  Downloading composable-0.5.4-py3-none-any.whl (8.5 kB)\n",
            "Requirement already satisfied: polars>=0.14.26 in /usr/local/lib/python3.10/dist-packages (from more_polars) (0.20.2)\n",
            "Collecting python-forge<19.0,>=18.6 (from composable>=0.5.4->more_polars)\n",
            "  Downloading python_forge-18.6.0-py35-none-any.whl (31 kB)\n",
            "Collecting toolz<0.12.0,>=0.11.1 (from composable>=0.5.4->more_polars)\n",
            "  Downloading toolz-0.11.2-py3-none-any.whl (55 kB)\n",
            "\u001b[2K     \u001b[90m━━━━━━━━━━━━━━━━━━━━━━━━━━━━━━━━━━━━━━━━\u001b[0m \u001b[32m55.8/55.8 kB\u001b[0m \u001b[31m3.2 MB/s\u001b[0m eta \u001b[36m0:00:00\u001b[0m\n",
            "\u001b[?25hInstalling collected packages: python-forge, toolz, composable, more_polars\n",
            "  Attempting uninstall: toolz\n",
            "    Found existing installation: toolz 0.12.1\n",
            "    Uninstalling toolz-0.12.1:\n",
            "      Successfully uninstalled toolz-0.12.1\n",
            "Successfully installed composable-0.5.4 more_polars-0.3.0 python-forge-18.6.0 toolz-0.11.2\n"
          ]
        }
      ],
      "source": [
        "!pip install more_polars\n",
        "import polars as pl"
      ]
    },
    {
      "cell_type": "code",
      "execution_count": 2,
      "id": "80e125b2",
      "metadata": {
        "id": "80e125b2",
        "outputId": "517b09c4-5928-4c9c-8ec6-288e855978e2",
        "colab": {
          "base_uri": "https://localhost:8080/",
          "height": 224
        }
      },
      "outputs": [
        {
          "output_type": "execute_result",
          "data": {
            "text/plain": [
              "shape: (4, 5)\n",
              "┌─────────────┬─────────┬───────┬─────┬───────┐\n",
              "│ Salesperson ┆ Compact ┆ Sedan ┆ SUV ┆ Truck │\n",
              "│ ---         ┆ ---     ┆ ---   ┆ --- ┆ ---   │\n",
              "│ str         ┆ i64     ┆ i64   ┆ i64 ┆ i64   │\n",
              "╞═════════════╪═════════╪═══════╪═════╪═══════╡\n",
              "│ Ann         ┆ 22      ┆ 18    ┆ 15  ┆ 12    │\n",
              "│ Bob         ┆ 19      ┆ 12    ┆ 17  ┆ 20    │\n",
              "│ Yolanda     ┆ 19      ┆ 8     ┆ 32  ┆ 15    │\n",
              "│ Xerxes      ┆ 12      ┆ 23    ┆ 18  ┆ 9     │\n",
              "└─────────────┴─────────┴───────┴─────┴───────┘"
            ],
            "text/html": [
              "<div><style>\n",
              ".dataframe > thead > tr,\n",
              ".dataframe > tbody > tr {\n",
              "  text-align: right;\n",
              "  white-space: pre-wrap;\n",
              "}\n",
              "</style>\n",
              "<small>shape: (4, 5)</small><table border=\"1\" class=\"dataframe\"><thead><tr><th>Salesperson</th><th>Compact</th><th>Sedan</th><th>SUV</th><th>Truck</th></tr><tr><td>str</td><td>i64</td><td>i64</td><td>i64</td><td>i64</td></tr></thead><tbody><tr><td>&quot;Ann&quot;</td><td>22</td><td>18</td><td>15</td><td>12</td></tr><tr><td>&quot;Bob&quot;</td><td>19</td><td>12</td><td>17</td><td>20</td></tr><tr><td>&quot;Yolanda&quot;</td><td>19</td><td>8</td><td>32</td><td>15</td></tr><tr><td>&quot;Xerxes&quot;</td><td>12</td><td>23</td><td>18</td><td>9</td></tr></tbody></table></div>"
            ]
          },
          "metadata": {},
          "execution_count": 2
        }
      ],
      "source": [
        "url = \"https://github.com/AKerby/dsci_325_module_7_more_data_management_in_python/raw/main/sample_data/auto_sales_apr.csv\"\n",
        "sales_apr = pl.read_csv(url)\n",
        "sales_apr"
      ]
    },
    {
      "cell_type": "code",
      "execution_count": 3,
      "id": "c8175140",
      "metadata": {
        "id": "c8175140",
        "outputId": "ace3e08a-a03c-4fcd-d8e3-5f46f3698f23",
        "colab": {
          "base_uri": "https://localhost:8080/",
          "height": 224
        }
      },
      "outputs": [
        {
          "output_type": "execute_result",
          "data": {
            "text/plain": [
              "shape: (4, 5)\n",
              "┌─────────────┬─────────┬───────┬─────┬───────┐\n",
              "│ Salesperson ┆ Compact ┆ Sedan ┆ SUV ┆ Truck │\n",
              "│ ---         ┆ ---     ┆ ---   ┆ --- ┆ ---   │\n",
              "│ str         ┆ i64     ┆ i64   ┆ i64 ┆ i64   │\n",
              "╞═════════════╪═════════╪═══════╪═════╪═══════╡\n",
              "│ Ann         ┆ 22      ┆ 18    ┆ 15  ┆ 12    │\n",
              "│ Bob         ┆ 20      ┆ 14    ┆ 6   ┆ 24    │\n",
              "│ Yolanda     ┆ 19      ┆ 10    ┆ 28  ┆ 17    │\n",
              "│ Xerxes      ┆ 11      ┆ 27    ┆ 17  ┆ 9     │\n",
              "└─────────────┴─────────┴───────┴─────┴───────┘"
            ],
            "text/html": [
              "<div><style>\n",
              ".dataframe > thead > tr,\n",
              ".dataframe > tbody > tr {\n",
              "  text-align: right;\n",
              "  white-space: pre-wrap;\n",
              "}\n",
              "</style>\n",
              "<small>shape: (4, 5)</small><table border=\"1\" class=\"dataframe\"><thead><tr><th>Salesperson</th><th>Compact</th><th>Sedan</th><th>SUV</th><th>Truck</th></tr><tr><td>str</td><td>i64</td><td>i64</td><td>i64</td><td>i64</td></tr></thead><tbody><tr><td>&quot;Ann&quot;</td><td>22</td><td>18</td><td>15</td><td>12</td></tr><tr><td>&quot;Bob&quot;</td><td>20</td><td>14</td><td>6</td><td>24</td></tr><tr><td>&quot;Yolanda&quot;</td><td>19</td><td>10</td><td>28</td><td>17</td></tr><tr><td>&quot;Xerxes&quot;</td><td>11</td><td>27</td><td>17</td><td>9</td></tr></tbody></table></div>"
            ]
          },
          "metadata": {},
          "execution_count": 3
        }
      ],
      "source": [
        "url2 = \"https://github.com/AKerby/dsci_325_module_7_more_data_management_in_python/raw/main/sample_data/auto_sales_may.csv\"\n",
        "sales_may = pl.read_csv(url2)\n",
        "sales_may"
      ]
    },
    {
      "cell_type": "code",
      "execution_count": 4,
      "id": "73052925",
      "metadata": {
        "id": "73052925",
        "outputId": "d4a89daa-209d-4561-d180-23ae90f7e278",
        "colab": {
          "base_uri": "https://localhost:8080/",
          "height": 224
        }
      },
      "outputs": [
        {
          "output_type": "execute_result",
          "data": {
            "text/plain": [
              "shape: (4, 5)\n",
              "┌─────────────┬─────────┬───────┬─────┬───────┐\n",
              "│ Salesperson ┆ Compact ┆ Sedan ┆ SUV ┆ Truck │\n",
              "│ ---         ┆ ---     ┆ ---   ┆ --- ┆ ---   │\n",
              "│ str         ┆ i64     ┆ i64   ┆ i64 ┆ i64   │\n",
              "╞═════════════╪═════════╪═══════╪═════╪═══════╡\n",
              "│ Ann         ┆ 18      ┆ 19    ┆ 17  ┆ 12    │\n",
              "│ Bob         ┆ 20      ┆ 15    ┆ 8   ┆ 23    │\n",
              "│ Yolanda     ┆ 21      ┆ 9     ┆ 22  ┆ 19    │\n",
              "│ Xerxes      ┆ 12      ┆ 25    ┆ 19  ┆ 8     │\n",
              "└─────────────┴─────────┴───────┴─────┴───────┘"
            ],
            "text/html": [
              "<div><style>\n",
              ".dataframe > thead > tr,\n",
              ".dataframe > tbody > tr {\n",
              "  text-align: right;\n",
              "  white-space: pre-wrap;\n",
              "}\n",
              "</style>\n",
              "<small>shape: (4, 5)</small><table border=\"1\" class=\"dataframe\"><thead><tr><th>Salesperson</th><th>Compact</th><th>Sedan</th><th>SUV</th><th>Truck</th></tr><tr><td>str</td><td>i64</td><td>i64</td><td>i64</td><td>i64</td></tr></thead><tbody><tr><td>&quot;Ann&quot;</td><td>18</td><td>19</td><td>17</td><td>12</td></tr><tr><td>&quot;Bob&quot;</td><td>20</td><td>15</td><td>8</td><td>23</td></tr><tr><td>&quot;Yolanda&quot;</td><td>21</td><td>9</td><td>22</td><td>19</td></tr><tr><td>&quot;Xerxes&quot;</td><td>12</td><td>25</td><td>19</td><td>8</td></tr></tbody></table></div>"
            ]
          },
          "metadata": {},
          "execution_count": 4
        }
      ],
      "source": [
        "url3 = \"https://github.com/AKerby/dsci_325_module_7_more_data_management_in_python/raw/main/sample_data/auto_sales_june.csv\"\n",
        "sales_june = pl.read_csv(url3)\n",
        "sales_june"
      ]
    },
    {
      "cell_type": "markdown",
      "id": "81b4e96d",
      "metadata": {
        "id": "81b4e96d"
      },
      "source": [
        "## Unions with `polars`\n",
        "\n",
        "* Use `vstack` to perform a union on 2 tables.\n",
        "* Use `pl.concat` to perform a union of 3+ tables."
      ]
    },
    {
      "cell_type": "code",
      "execution_count": 7,
      "id": "a3f3cbc1",
      "metadata": {
        "scrolled": true,
        "id": "a3f3cbc1",
        "outputId": "b2d2e805-d1c3-4d6a-9aad-633602829586",
        "colab": {
          "base_uri": "https://localhost:8080/",
          "height": 349
        }
      },
      "outputs": [
        {
          "output_type": "execute_result",
          "data": {
            "text/plain": [
              "shape: (8, 5)\n",
              "┌─────────────┬─────────┬───────┬─────┬───────┐\n",
              "│ Salesperson ┆ Compact ┆ Sedan ┆ SUV ┆ Truck │\n",
              "│ ---         ┆ ---     ┆ ---   ┆ --- ┆ ---   │\n",
              "│ str         ┆ i64     ┆ i64   ┆ i64 ┆ i64   │\n",
              "╞═════════════╪═════════╪═══════╪═════╪═══════╡\n",
              "│ Ann         ┆ 22      ┆ 18    ┆ 15  ┆ 12    │\n",
              "│ Bob         ┆ 19      ┆ 12    ┆ 17  ┆ 20    │\n",
              "│ Yolanda     ┆ 19      ┆ 8     ┆ 32  ┆ 15    │\n",
              "│ Xerxes      ┆ 12      ┆ 23    ┆ 18  ┆ 9     │\n",
              "│ Ann         ┆ 22      ┆ 18    ┆ 15  ┆ 12    │\n",
              "│ Bob         ┆ 20      ┆ 14    ┆ 6   ┆ 24    │\n",
              "│ Yolanda     ┆ 19      ┆ 10    ┆ 28  ┆ 17    │\n",
              "│ Xerxes      ┆ 11      ┆ 27    ┆ 17  ┆ 9     │\n",
              "└─────────────┴─────────┴───────┴─────┴───────┘"
            ],
            "text/html": [
              "<div><style>\n",
              ".dataframe > thead > tr,\n",
              ".dataframe > tbody > tr {\n",
              "  text-align: right;\n",
              "  white-space: pre-wrap;\n",
              "}\n",
              "</style>\n",
              "<small>shape: (8, 5)</small><table border=\"1\" class=\"dataframe\"><thead><tr><th>Salesperson</th><th>Compact</th><th>Sedan</th><th>SUV</th><th>Truck</th></tr><tr><td>str</td><td>i64</td><td>i64</td><td>i64</td><td>i64</td></tr></thead><tbody><tr><td>&quot;Ann&quot;</td><td>22</td><td>18</td><td>15</td><td>12</td></tr><tr><td>&quot;Bob&quot;</td><td>19</td><td>12</td><td>17</td><td>20</td></tr><tr><td>&quot;Yolanda&quot;</td><td>19</td><td>8</td><td>32</td><td>15</td></tr><tr><td>&quot;Xerxes&quot;</td><td>12</td><td>23</td><td>18</td><td>9</td></tr><tr><td>&quot;Ann&quot;</td><td>22</td><td>18</td><td>15</td><td>12</td></tr><tr><td>&quot;Bob&quot;</td><td>20</td><td>14</td><td>6</td><td>24</td></tr><tr><td>&quot;Yolanda&quot;</td><td>19</td><td>10</td><td>28</td><td>17</td></tr><tr><td>&quot;Xerxes&quot;</td><td>11</td><td>27</td><td>17</td><td>9</td></tr></tbody></table></div>"
            ]
          },
          "metadata": {},
          "execution_count": 7
        }
      ],
      "source": [
        "sales_apr.vstack(sales_may)"
      ]
    },
    {
      "cell_type": "markdown",
      "id": "2593c9d8",
      "metadata": {
        "id": "2593c9d8"
      },
      "source": [
        "## `df.vstack` is NOT distinct\n",
        "\n",
        "You need to perform a `unique` after the union to get distinct rows."
      ]
    },
    {
      "cell_type": "code",
      "execution_count": 8,
      "id": "f457decc",
      "metadata": {
        "scrolled": false,
        "id": "f457decc",
        "outputId": "41eac87b-7a07-4370-a864-3528b907c4ae",
        "colab": {
          "base_uri": "https://localhost:8080/",
          "height": 318
        }
      },
      "outputs": [
        {
          "output_type": "execute_result",
          "data": {
            "text/plain": [
              "shape: (7, 5)\n",
              "┌─────────────┬─────────┬───────┬─────┬───────┐\n",
              "│ Salesperson ┆ Compact ┆ Sedan ┆ SUV ┆ Truck │\n",
              "│ ---         ┆ ---     ┆ ---   ┆ --- ┆ ---   │\n",
              "│ str         ┆ i64     ┆ i64   ┆ i64 ┆ i64   │\n",
              "╞═════════════╪═════════╪═══════╪═════╪═══════╡\n",
              "│ Ann         ┆ 22      ┆ 18    ┆ 15  ┆ 12    │\n",
              "│ Yolanda     ┆ 19      ┆ 8     ┆ 32  ┆ 15    │\n",
              "│ Bob         ┆ 20      ┆ 14    ┆ 6   ┆ 24    │\n",
              "│ Yolanda     ┆ 19      ┆ 10    ┆ 28  ┆ 17    │\n",
              "│ Xerxes      ┆ 11      ┆ 27    ┆ 17  ┆ 9     │\n",
              "│ Bob         ┆ 19      ┆ 12    ┆ 17  ┆ 20    │\n",
              "│ Xerxes      ┆ 12      ┆ 23    ┆ 18  ┆ 9     │\n",
              "└─────────────┴─────────┴───────┴─────┴───────┘"
            ],
            "text/html": [
              "<div><style>\n",
              ".dataframe > thead > tr,\n",
              ".dataframe > tbody > tr {\n",
              "  text-align: right;\n",
              "  white-space: pre-wrap;\n",
              "}\n",
              "</style>\n",
              "<small>shape: (7, 5)</small><table border=\"1\" class=\"dataframe\"><thead><tr><th>Salesperson</th><th>Compact</th><th>Sedan</th><th>SUV</th><th>Truck</th></tr><tr><td>str</td><td>i64</td><td>i64</td><td>i64</td><td>i64</td></tr></thead><tbody><tr><td>&quot;Ann&quot;</td><td>22</td><td>18</td><td>15</td><td>12</td></tr><tr><td>&quot;Yolanda&quot;</td><td>19</td><td>8</td><td>32</td><td>15</td></tr><tr><td>&quot;Bob&quot;</td><td>20</td><td>14</td><td>6</td><td>24</td></tr><tr><td>&quot;Yolanda&quot;</td><td>19</td><td>10</td><td>28</td><td>17</td></tr><tr><td>&quot;Xerxes&quot;</td><td>11</td><td>27</td><td>17</td><td>9</td></tr><tr><td>&quot;Bob&quot;</td><td>19</td><td>12</td><td>17</td><td>20</td></tr><tr><td>&quot;Xerxes&quot;</td><td>12</td><td>23</td><td>18</td><td>9</td></tr></tbody></table></div>"
            ]
          },
          "metadata": {},
          "execution_count": 8
        }
      ],
      "source": [
        "sales_may.vstack(sales_apr).unique()"
      ]
    },
    {
      "cell_type": "code",
      "execution_count": 9,
      "id": "fe2b9a6d",
      "metadata": {
        "scrolled": false,
        "id": "fe2b9a6d",
        "outputId": "5c743cef-3ddd-4f02-c8b3-d5adf313b88d",
        "colab": {
          "base_uri": "https://localhost:8080/",
          "height": 318
        }
      },
      "outputs": [
        {
          "output_type": "execute_result",
          "data": {
            "text/plain": [
              "shape: (7, 5)\n",
              "┌─────────────┬─────────┬───────┬─────┬───────┐\n",
              "│ Salesperson ┆ Compact ┆ Sedan ┆ SUV ┆ Truck │\n",
              "│ ---         ┆ ---     ┆ ---   ┆ --- ┆ ---   │\n",
              "│ str         ┆ i64     ┆ i64   ┆ i64 ┆ i64   │\n",
              "╞═════════════╪═════════╪═══════╪═════╪═══════╡\n",
              "│ Yolanda     ┆ 19      ┆ 10    ┆ 28  ┆ 17    │\n",
              "│ Xerxes      ┆ 12      ┆ 23    ┆ 18  ┆ 9     │\n",
              "│ Ann         ┆ 22      ┆ 18    ┆ 15  ┆ 12    │\n",
              "│ Bob         ┆ 20      ┆ 14    ┆ 6   ┆ 24    │\n",
              "│ Xerxes      ┆ 11      ┆ 27    ┆ 17  ┆ 9     │\n",
              "│ Bob         ┆ 19      ┆ 12    ┆ 17  ┆ 20    │\n",
              "│ Yolanda     ┆ 19      ┆ 8     ┆ 32  ┆ 15    │\n",
              "└─────────────┴─────────┴───────┴─────┴───────┘"
            ],
            "text/html": [
              "<div><style>\n",
              ".dataframe > thead > tr,\n",
              ".dataframe > tbody > tr {\n",
              "  text-align: right;\n",
              "  white-space: pre-wrap;\n",
              "}\n",
              "</style>\n",
              "<small>shape: (7, 5)</small><table border=\"1\" class=\"dataframe\"><thead><tr><th>Salesperson</th><th>Compact</th><th>Sedan</th><th>SUV</th><th>Truck</th></tr><tr><td>str</td><td>i64</td><td>i64</td><td>i64</td><td>i64</td></tr></thead><tbody><tr><td>&quot;Yolanda&quot;</td><td>19</td><td>10</td><td>28</td><td>17</td></tr><tr><td>&quot;Xerxes&quot;</td><td>12</td><td>23</td><td>18</td><td>9</td></tr><tr><td>&quot;Ann&quot;</td><td>22</td><td>18</td><td>15</td><td>12</td></tr><tr><td>&quot;Bob&quot;</td><td>20</td><td>14</td><td>6</td><td>24</td></tr><tr><td>&quot;Xerxes&quot;</td><td>11</td><td>27</td><td>17</td><td>9</td></tr><tr><td>&quot;Bob&quot;</td><td>19</td><td>12</td><td>17</td><td>20</td></tr><tr><td>&quot;Yolanda&quot;</td><td>19</td><td>8</td><td>32</td><td>15</td></tr></tbody></table></div>"
            ]
          },
          "metadata": {},
          "execution_count": 9
        }
      ],
      "source": [
        "sales_may.vstack(sales_apr).unique(keep='last')"
      ]
    },
    {
      "cell_type": "markdown",
      "id": "dc651bfb",
      "metadata": {
        "id": "dc651bfb"
      },
      "source": [
        "## Columns are stacked by column location/order!"
      ]
    },
    {
      "cell_type": "code",
      "execution_count": null,
      "id": "f95c589e",
      "metadata": {
        "id": "f95c589e",
        "outputId": "752cf5d9-0ae6-415a-cbb8-4ed0c3e09054"
      },
      "outputs": [
        {
          "ename": "SchemaError",
          "evalue": "cannot vstack: because column names in the two DataFrames do not match for left.name='Compact' != right.name='SUV'",
          "output_type": "error",
          "traceback": [
            "\u001b[0;31m---------------------------------------------------------------------------\u001b[0m",
            "\u001b[0;31mSchemaError\u001b[0m                               Traceback (most recent call last)",
            "Input \u001b[0;32mIn [29]\u001b[0m, in \u001b[0;36m<cell line: 1>\u001b[0;34m()\u001b[0m\n\u001b[0;32m----> 1\u001b[0m (\u001b[43msales_apr\u001b[49m\u001b[38;5;241;43m.\u001b[39;49m\u001b[43mselect\u001b[49m\u001b[43m(\u001b[49m\u001b[43m[\u001b[49m\u001b[38;5;124;43m'\u001b[39;49m\u001b[38;5;124;43mSalesperson\u001b[39;49m\u001b[38;5;124;43m'\u001b[39;49m\u001b[43m,\u001b[49m\u001b[38;5;124;43m'\u001b[39;49m\u001b[38;5;124;43mCompact\u001b[39;49m\u001b[38;5;124;43m'\u001b[39;49m\u001b[43m,\u001b[49m\u001b[38;5;124;43m'\u001b[39;49m\u001b[38;5;124;43mSedan\u001b[39;49m\u001b[38;5;124;43m'\u001b[39;49m\u001b[43m,\u001b[49m\u001b[38;5;124;43m'\u001b[39;49m\u001b[38;5;124;43mSUV\u001b[39;49m\u001b[38;5;124;43m'\u001b[39;49m\u001b[43m,\u001b[49m\u001b[38;5;124;43m'\u001b[39;49m\u001b[38;5;124;43mTruck\u001b[39;49m\u001b[38;5;124;43m'\u001b[39;49m\u001b[43m]\u001b[49m\u001b[43m)\u001b[49m\n\u001b[1;32m      2\u001b[0m \u001b[38;5;241;43m.\u001b[39;49m\u001b[43mvstack\u001b[49m\u001b[43m(\u001b[49m\u001b[43msales_may\u001b[49m\u001b[38;5;241;43m.\u001b[39;49m\u001b[43mselect\u001b[49m\u001b[43m(\u001b[49m\u001b[43m[\u001b[49m\u001b[38;5;124;43m'\u001b[39;49m\u001b[38;5;124;43mSalesperson\u001b[39;49m\u001b[38;5;124;43m'\u001b[39;49m\u001b[43m,\u001b[49m\u001b[38;5;124;43m'\u001b[39;49m\u001b[38;5;124;43mSUV\u001b[39;49m\u001b[38;5;124;43m'\u001b[39;49m\u001b[43m,\u001b[49m\u001b[38;5;124;43m'\u001b[39;49m\u001b[38;5;124;43mTruck\u001b[39;49m\u001b[38;5;124;43m'\u001b[39;49m\u001b[43m,\u001b[49m\u001b[38;5;124;43m'\u001b[39;49m\u001b[38;5;124;43mCompact\u001b[39;49m\u001b[38;5;124;43m'\u001b[39;49m\u001b[43m,\u001b[49m\u001b[38;5;124;43m'\u001b[39;49m\u001b[38;5;124;43mSedan\u001b[39;49m\u001b[38;5;124;43m'\u001b[39;49m\u001b[43m]\u001b[49m\u001b[43m)\u001b[49m\u001b[43m)\u001b[49m\n\u001b[1;32m      3\u001b[0m )\n",
            "File \u001b[0;32m~/.pyenv/versions/anaconda3-2022.05/lib/python3.9/site-packages/polars/internals/dataframe/frame.py:4185\u001b[0m, in \u001b[0;36mDataFrame.vstack\u001b[0;34m(self, df, in_place)\u001b[0m\n\u001b[1;32m   4183\u001b[0m     \u001b[38;5;28;01mreturn\u001b[39;00m \u001b[38;5;28mself\u001b[39m\n\u001b[1;32m   4184\u001b[0m \u001b[38;5;28;01melse\u001b[39;00m:\n\u001b[0;32m-> 4185\u001b[0m     \u001b[38;5;28;01mreturn\u001b[39;00m \u001b[38;5;28mself\u001b[39m\u001b[38;5;241m.\u001b[39m_from_pydf(\u001b[38;5;28;43mself\u001b[39;49m\u001b[38;5;241;43m.\u001b[39;49m\u001b[43m_df\u001b[49m\u001b[38;5;241;43m.\u001b[39;49m\u001b[43mvstack\u001b[49m\u001b[43m(\u001b[49m\u001b[43mdf\u001b[49m\u001b[38;5;241;43m.\u001b[39;49m\u001b[43m_df\u001b[49m\u001b[43m)\u001b[49m)\n",
            "\u001b[0;31mSchemaError\u001b[0m: cannot vstack: because column names in the two DataFrames do not match for left.name='Compact' != right.name='SUV'"
          ]
        }
      ],
      "source": [
        "(sales_apr.select(['Salesperson','Compact','Sedan','SUV','Truck'])\n",
        ".vstack(sales_may.select(['Salesperson','SUV','Truck','Compact','Sedan']))\n",
        ")"
      ]
    },
    {
      "cell_type": "markdown",
      "id": "134ccf3e",
      "metadata": {
        "id": "134ccf3e"
      },
      "source": [
        "## Adding a month column\n",
        "\n",
        "Another way to keep both of Ann's sales rows is adding a month column (which we should probably do anyway)."
      ]
    },
    {
      "cell_type": "code",
      "execution_count": 17,
      "id": "7b136696",
      "metadata": {
        "scrolled": false,
        "id": "7b136696",
        "outputId": "e770ca8e-1957-45bc-ebdd-ede6666dc64c",
        "colab": {
          "base_uri": "https://localhost:8080/",
          "height": 349
        }
      },
      "outputs": [
        {
          "output_type": "execute_result",
          "data": {
            "text/plain": [
              "shape: (8, 6)\n",
              "┌─────────────┬─────────┬───────┬─────┬───────┬───────┐\n",
              "│ Salesperson ┆ Compact ┆ Sedan ┆ SUV ┆ Truck ┆ month │\n",
              "│ ---         ┆ ---     ┆ ---   ┆ --- ┆ ---   ┆ ---   │\n",
              "│ str         ┆ i64     ┆ i64   ┆ i64 ┆ i64   ┆ str   │\n",
              "╞═════════════╪═════════╪═══════╪═════╪═══════╪═══════╡\n",
              "│ Ann         ┆ 22      ┆ 18    ┆ 15  ┆ 12    ┆ May   │\n",
              "│ Bob         ┆ 20      ┆ 14    ┆ 6   ┆ 24    ┆ May   │\n",
              "│ Yolanda     ┆ 19      ┆ 10    ┆ 28  ┆ 17    ┆ May   │\n",
              "│ Xerxes      ┆ 11      ┆ 27    ┆ 17  ┆ 9     ┆ May   │\n",
              "│ Ann         ┆ 22      ┆ 18    ┆ 15  ┆ 12    ┆ April │\n",
              "│ Bob         ┆ 19      ┆ 12    ┆ 17  ┆ 20    ┆ April │\n",
              "│ Yolanda     ┆ 19      ┆ 8     ┆ 32  ┆ 15    ┆ April │\n",
              "│ Xerxes      ┆ 12      ┆ 23    ┆ 18  ┆ 9     ┆ April │\n",
              "└─────────────┴─────────┴───────┴─────┴───────┴───────┘"
            ],
            "text/html": [
              "<div><style>\n",
              ".dataframe > thead > tr,\n",
              ".dataframe > tbody > tr {\n",
              "  text-align: right;\n",
              "  white-space: pre-wrap;\n",
              "}\n",
              "</style>\n",
              "<small>shape: (8, 6)</small><table border=\"1\" class=\"dataframe\"><thead><tr><th>Salesperson</th><th>Compact</th><th>Sedan</th><th>SUV</th><th>Truck</th><th>month</th></tr><tr><td>str</td><td>i64</td><td>i64</td><td>i64</td><td>i64</td><td>str</td></tr></thead><tbody><tr><td>&quot;Ann&quot;</td><td>22</td><td>18</td><td>15</td><td>12</td><td>&quot;May&quot;</td></tr><tr><td>&quot;Bob&quot;</td><td>20</td><td>14</td><td>6</td><td>24</td><td>&quot;May&quot;</td></tr><tr><td>&quot;Yolanda&quot;</td><td>19</td><td>10</td><td>28</td><td>17</td><td>&quot;May&quot;</td></tr><tr><td>&quot;Xerxes&quot;</td><td>11</td><td>27</td><td>17</td><td>9</td><td>&quot;May&quot;</td></tr><tr><td>&quot;Ann&quot;</td><td>22</td><td>18</td><td>15</td><td>12</td><td>&quot;April&quot;</td></tr><tr><td>&quot;Bob&quot;</td><td>19</td><td>12</td><td>17</td><td>20</td><td>&quot;April&quot;</td></tr><tr><td>&quot;Yolanda&quot;</td><td>19</td><td>8</td><td>32</td><td>15</td><td>&quot;April&quot;</td></tr><tr><td>&quot;Xerxes&quot;</td><td>12</td><td>23</td><td>18</td><td>9</td><td>&quot;April&quot;</td></tr></tbody></table></div>"
            ]
          },
          "metadata": {},
          "execution_count": 17
        }
      ],
      "source": [
        "pl.Config.with_columns_kwargs = True\n",
        "\n",
        "(sales_may\n",
        " .with_columns(month = pl.lit('May'))\n",
        " .vstack(sales_apr\n",
        "        .with_columns(month = pl.lit('April'))\n",
        "        )\n",
        ")"
      ]
    },
    {
      "cell_type": "markdown",
      "id": "80af9cfb",
      "metadata": {
        "id": "80af9cfb"
      },
      "source": [
        "## No `INTERSECT` or `DIFFERENCE` in `polars`\n",
        "\n",
        "As of Fall 2022, `polars` lacks the either of these set operations."
      ]
    },
    {
      "cell_type": "markdown",
      "id": "413fd9df",
      "metadata": {
        "id": "413fd9df"
      },
      "source": [
        "## Combining multiple files using vstack\n",
        "\n",
        "The first method of performing a union on more than two tables function is to dot-chain `vstack`."
      ]
    },
    {
      "cell_type": "markdown",
      "id": "748bf2e9",
      "metadata": {
        "id": "748bf2e9"
      },
      "source": [
        "#### Combining the raw files"
      ]
    },
    {
      "cell_type": "code",
      "execution_count": 18,
      "id": "1c338f5c",
      "metadata": {
        "id": "1c338f5c",
        "outputId": "706f0ed8-595c-48aa-ae54-fae6d52602ca",
        "colab": {
          "base_uri": "https://localhost:8080/",
          "height": 475
        }
      },
      "outputs": [
        {
          "output_type": "execute_result",
          "data": {
            "text/plain": [
              "shape: (12, 5)\n",
              "┌─────────────┬─────────┬───────┬─────┬───────┐\n",
              "│ Salesperson ┆ Compact ┆ Sedan ┆ SUV ┆ Truck │\n",
              "│ ---         ┆ ---     ┆ ---   ┆ --- ┆ ---   │\n",
              "│ str         ┆ i64     ┆ i64   ┆ i64 ┆ i64   │\n",
              "╞═════════════╪═════════╪═══════╪═════╪═══════╡\n",
              "│ Ann         ┆ 22      ┆ 18    ┆ 15  ┆ 12    │\n",
              "│ Bob         ┆ 19      ┆ 12    ┆ 17  ┆ 20    │\n",
              "│ Yolanda     ┆ 19      ┆ 8     ┆ 32  ┆ 15    │\n",
              "│ Xerxes      ┆ 12      ┆ 23    ┆ 18  ┆ 9     │\n",
              "│ …           ┆ …       ┆ …     ┆ …   ┆ …     │\n",
              "│ Ann         ┆ 18      ┆ 19    ┆ 17  ┆ 12    │\n",
              "│ Bob         ┆ 20      ┆ 15    ┆ 8   ┆ 23    │\n",
              "│ Yolanda     ┆ 21      ┆ 9     ┆ 22  ┆ 19    │\n",
              "│ Xerxes      ┆ 12      ┆ 25    ┆ 19  ┆ 8     │\n",
              "└─────────────┴─────────┴───────┴─────┴───────┘"
            ],
            "text/html": [
              "<div><style>\n",
              ".dataframe > thead > tr,\n",
              ".dataframe > tbody > tr {\n",
              "  text-align: right;\n",
              "  white-space: pre-wrap;\n",
              "}\n",
              "</style>\n",
              "<small>shape: (12, 5)</small><table border=\"1\" class=\"dataframe\"><thead><tr><th>Salesperson</th><th>Compact</th><th>Sedan</th><th>SUV</th><th>Truck</th></tr><tr><td>str</td><td>i64</td><td>i64</td><td>i64</td><td>i64</td></tr></thead><tbody><tr><td>&quot;Ann&quot;</td><td>22</td><td>18</td><td>15</td><td>12</td></tr><tr><td>&quot;Bob&quot;</td><td>19</td><td>12</td><td>17</td><td>20</td></tr><tr><td>&quot;Yolanda&quot;</td><td>19</td><td>8</td><td>32</td><td>15</td></tr><tr><td>&quot;Xerxes&quot;</td><td>12</td><td>23</td><td>18</td><td>9</td></tr><tr><td>&quot;Ann&quot;</td><td>22</td><td>18</td><td>15</td><td>12</td></tr><tr><td>&quot;Bob&quot;</td><td>20</td><td>14</td><td>6</td><td>24</td></tr><tr><td>&quot;Yolanda&quot;</td><td>19</td><td>10</td><td>28</td><td>17</td></tr><tr><td>&quot;Xerxes&quot;</td><td>11</td><td>27</td><td>17</td><td>9</td></tr><tr><td>&quot;Ann&quot;</td><td>18</td><td>19</td><td>17</td><td>12</td></tr><tr><td>&quot;Bob&quot;</td><td>20</td><td>15</td><td>8</td><td>23</td></tr><tr><td>&quot;Yolanda&quot;</td><td>21</td><td>9</td><td>22</td><td>19</td></tr><tr><td>&quot;Xerxes&quot;</td><td>12</td><td>25</td><td>19</td><td>8</td></tr></tbody></table></div>"
            ]
          },
          "metadata": {},
          "execution_count": 18
        }
      ],
      "source": [
        "(sales_apr\n",
        " .vstack(sales_may)\n",
        " .vstack(sales_june)\n",
        ")"
      ]
    },
    {
      "cell_type": "markdown",
      "id": "df6eae1a",
      "metadata": {
        "id": "df6eae1a"
      },
      "source": [
        "#### Adding a month column to each\n",
        "\n",
        "This approach becomes messy when processing each table, as the processing of all subsequent table most be nested inside `vstack`."
      ]
    },
    {
      "cell_type": "code",
      "execution_count": 20,
      "id": "97ff3242",
      "metadata": {
        "id": "97ff3242",
        "outputId": "70bd611c-7a00-4089-cb17-5980f378df5c",
        "colab": {
          "base_uri": "https://localhost:8080/",
          "height": 475
        }
      },
      "outputs": [
        {
          "output_type": "execute_result",
          "data": {
            "text/plain": [
              "shape: (12, 6)\n",
              "┌─────────────┬─────────┬───────┬─────┬───────┬───────┐\n",
              "│ Salesperson ┆ Compact ┆ Sedan ┆ SUV ┆ Truck ┆ month │\n",
              "│ ---         ┆ ---     ┆ ---   ┆ --- ┆ ---   ┆ ---   │\n",
              "│ str         ┆ i64     ┆ i64   ┆ i64 ┆ i64   ┆ str   │\n",
              "╞═════════════╪═════════╪═══════╪═════╪═══════╪═══════╡\n",
              "│ Ann         ┆ 22      ┆ 18    ┆ 15  ┆ 12    ┆ April │\n",
              "│ Bob         ┆ 19      ┆ 12    ┆ 17  ┆ 20    ┆ April │\n",
              "│ Yolanda     ┆ 19      ┆ 8     ┆ 32  ┆ 15    ┆ April │\n",
              "│ Xerxes      ┆ 12      ┆ 23    ┆ 18  ┆ 9     ┆ April │\n",
              "│ …           ┆ …       ┆ …     ┆ …   ┆ …     ┆ …     │\n",
              "│ Ann         ┆ 18      ┆ 19    ┆ 17  ┆ 12    ┆ June  │\n",
              "│ Bob         ┆ 20      ┆ 15    ┆ 8   ┆ 23    ┆ June  │\n",
              "│ Yolanda     ┆ 21      ┆ 9     ┆ 22  ┆ 19    ┆ June  │\n",
              "│ Xerxes      ┆ 12      ┆ 25    ┆ 19  ┆ 8     ┆ June  │\n",
              "└─────────────┴─────────┴───────┴─────┴───────┴───────┘"
            ],
            "text/html": [
              "<div><style>\n",
              ".dataframe > thead > tr,\n",
              ".dataframe > tbody > tr {\n",
              "  text-align: right;\n",
              "  white-space: pre-wrap;\n",
              "}\n",
              "</style>\n",
              "<small>shape: (12, 6)</small><table border=\"1\" class=\"dataframe\"><thead><tr><th>Salesperson</th><th>Compact</th><th>Sedan</th><th>SUV</th><th>Truck</th><th>month</th></tr><tr><td>str</td><td>i64</td><td>i64</td><td>i64</td><td>i64</td><td>str</td></tr></thead><tbody><tr><td>&quot;Ann&quot;</td><td>22</td><td>18</td><td>15</td><td>12</td><td>&quot;April&quot;</td></tr><tr><td>&quot;Bob&quot;</td><td>19</td><td>12</td><td>17</td><td>20</td><td>&quot;April&quot;</td></tr><tr><td>&quot;Yolanda&quot;</td><td>19</td><td>8</td><td>32</td><td>15</td><td>&quot;April&quot;</td></tr><tr><td>&quot;Xerxes&quot;</td><td>12</td><td>23</td><td>18</td><td>9</td><td>&quot;April&quot;</td></tr><tr><td>&quot;Ann&quot;</td><td>22</td><td>18</td><td>15</td><td>12</td><td>&quot;May&quot;</td></tr><tr><td>&quot;Bob&quot;</td><td>20</td><td>14</td><td>6</td><td>24</td><td>&quot;May&quot;</td></tr><tr><td>&quot;Yolanda&quot;</td><td>19</td><td>10</td><td>28</td><td>17</td><td>&quot;May&quot;</td></tr><tr><td>&quot;Xerxes&quot;</td><td>11</td><td>27</td><td>17</td><td>9</td><td>&quot;May&quot;</td></tr><tr><td>&quot;Ann&quot;</td><td>18</td><td>19</td><td>17</td><td>12</td><td>&quot;June&quot;</td></tr><tr><td>&quot;Bob&quot;</td><td>20</td><td>15</td><td>8</td><td>23</td><td>&quot;June&quot;</td></tr><tr><td>&quot;Yolanda&quot;</td><td>21</td><td>9</td><td>22</td><td>19</td><td>&quot;June&quot;</td></tr><tr><td>&quot;Xerxes&quot;</td><td>12</td><td>25</td><td>19</td><td>8</td><td>&quot;June&quot;</td></tr></tbody></table></div>"
            ]
          },
          "metadata": {},
          "execution_count": 20
        }
      ],
      "source": [
        "(sales_apr\n",
        " .with_columns(month = pl.lit('April'))\n",
        " .vstack(sales_may\n",
        "         .with_columns(month = pl.lit('May'))\n",
        "        )\n",
        " .vstack(sales_june\n",
        "         .with_columns(month = pl.lit('June'))\n",
        "        )\n",
        ")"
      ]
    },
    {
      "cell_type": "markdown",
      "id": "c8f21031",
      "metadata": {
        "id": "c8f21031"
      },
      "source": [
        "## Combining multiple files using concatenate\n",
        "\n",
        "Another way to perform unions on many files is the function `pl.concat` allows stacking any number of files with the same columns."
      ]
    },
    {
      "cell_type": "markdown",
      "id": "e73ae360",
      "metadata": {
        "id": "e73ae360"
      },
      "source": [
        "#### Combining the raw files"
      ]
    },
    {
      "cell_type": "code",
      "execution_count": 22,
      "id": "6f0553bf",
      "metadata": {
        "id": "6f0553bf",
        "outputId": "20651dc7-ff09-484c-d004-f3c5b10fb013",
        "colab": {
          "base_uri": "https://localhost:8080/",
          "height": 475
        }
      },
      "outputs": [
        {
          "output_type": "execute_result",
          "data": {
            "text/plain": [
              "shape: (12, 5)\n",
              "┌─────────────┬─────────┬───────┬─────┬───────┐\n",
              "│ Salesperson ┆ Compact ┆ Sedan ┆ SUV ┆ Truck │\n",
              "│ ---         ┆ ---     ┆ ---   ┆ --- ┆ ---   │\n",
              "│ str         ┆ i64     ┆ i64   ┆ i64 ┆ i64   │\n",
              "╞═════════════╪═════════╪═══════╪═════╪═══════╡\n",
              "│ Ann         ┆ 22      ┆ 18    ┆ 15  ┆ 12    │\n",
              "│ Bob         ┆ 19      ┆ 12    ┆ 17  ┆ 20    │\n",
              "│ Yolanda     ┆ 19      ┆ 8     ┆ 32  ┆ 15    │\n",
              "│ Xerxes      ┆ 12      ┆ 23    ┆ 18  ┆ 9     │\n",
              "│ …           ┆ …       ┆ …     ┆ …   ┆ …     │\n",
              "│ Ann         ┆ 18      ┆ 19    ┆ 17  ┆ 12    │\n",
              "│ Bob         ┆ 20      ┆ 15    ┆ 8   ┆ 23    │\n",
              "│ Yolanda     ┆ 21      ┆ 9     ┆ 22  ┆ 19    │\n",
              "│ Xerxes      ┆ 12      ┆ 25    ┆ 19  ┆ 8     │\n",
              "└─────────────┴─────────┴───────┴─────┴───────┘"
            ],
            "text/html": [
              "<div><style>\n",
              ".dataframe > thead > tr,\n",
              ".dataframe > tbody > tr {\n",
              "  text-align: right;\n",
              "  white-space: pre-wrap;\n",
              "}\n",
              "</style>\n",
              "<small>shape: (12, 5)</small><table border=\"1\" class=\"dataframe\"><thead><tr><th>Salesperson</th><th>Compact</th><th>Sedan</th><th>SUV</th><th>Truck</th></tr><tr><td>str</td><td>i64</td><td>i64</td><td>i64</td><td>i64</td></tr></thead><tbody><tr><td>&quot;Ann&quot;</td><td>22</td><td>18</td><td>15</td><td>12</td></tr><tr><td>&quot;Bob&quot;</td><td>19</td><td>12</td><td>17</td><td>20</td></tr><tr><td>&quot;Yolanda&quot;</td><td>19</td><td>8</td><td>32</td><td>15</td></tr><tr><td>&quot;Xerxes&quot;</td><td>12</td><td>23</td><td>18</td><td>9</td></tr><tr><td>&quot;Ann&quot;</td><td>22</td><td>18</td><td>15</td><td>12</td></tr><tr><td>&quot;Bob&quot;</td><td>20</td><td>14</td><td>6</td><td>24</td></tr><tr><td>&quot;Yolanda&quot;</td><td>19</td><td>10</td><td>28</td><td>17</td></tr><tr><td>&quot;Xerxes&quot;</td><td>11</td><td>27</td><td>17</td><td>9</td></tr><tr><td>&quot;Ann&quot;</td><td>18</td><td>19</td><td>17</td><td>12</td></tr><tr><td>&quot;Bob&quot;</td><td>20</td><td>15</td><td>8</td><td>23</td></tr><tr><td>&quot;Yolanda&quot;</td><td>21</td><td>9</td><td>22</td><td>19</td></tr><tr><td>&quot;Xerxes&quot;</td><td>12</td><td>25</td><td>19</td><td>8</td></tr></tbody></table></div>"
            ]
          },
          "metadata": {},
          "execution_count": 22
        }
      ],
      "source": [
        "pl.concat([sales_apr, sales_may, sales_june])"
      ]
    },
    {
      "cell_type": "markdown",
      "id": "09d5a94f",
      "metadata": {
        "id": "09d5a94f"
      },
      "source": [
        "#### Adding a month column to each"
      ]
    },
    {
      "cell_type": "code",
      "execution_count": 24,
      "id": "af5f9214",
      "metadata": {
        "id": "af5f9214",
        "outputId": "2d90dfdf-6033-4780-b55d-0248bb83eeff",
        "colab": {
          "base_uri": "https://localhost:8080/",
          "height": 475
        }
      },
      "outputs": [
        {
          "output_type": "execute_result",
          "data": {
            "text/plain": [
              "shape: (12, 6)\n",
              "┌─────────────┬─────────┬───────┬─────┬───────┬───────┐\n",
              "│ Salesperson ┆ Compact ┆ Sedan ┆ SUV ┆ Truck ┆ month │\n",
              "│ ---         ┆ ---     ┆ ---   ┆ --- ┆ ---   ┆ ---   │\n",
              "│ str         ┆ i64     ┆ i64   ┆ i64 ┆ i64   ┆ str   │\n",
              "╞═════════════╪═════════╪═══════╪═════╪═══════╪═══════╡\n",
              "│ Ann         ┆ 22      ┆ 18    ┆ 15  ┆ 12    ┆ April │\n",
              "│ Bob         ┆ 19      ┆ 12    ┆ 17  ┆ 20    ┆ April │\n",
              "│ Yolanda     ┆ 19      ┆ 8     ┆ 32  ┆ 15    ┆ April │\n",
              "│ Xerxes      ┆ 12      ┆ 23    ┆ 18  ┆ 9     ┆ April │\n",
              "│ …           ┆ …       ┆ …     ┆ …   ┆ …     ┆ …     │\n",
              "│ Ann         ┆ 18      ┆ 19    ┆ 17  ┆ 12    ┆ June  │\n",
              "│ Bob         ┆ 20      ┆ 15    ┆ 8   ┆ 23    ┆ June  │\n",
              "│ Yolanda     ┆ 21      ┆ 9     ┆ 22  ┆ 19    ┆ June  │\n",
              "│ Xerxes      ┆ 12      ┆ 25    ┆ 19  ┆ 8     ┆ June  │\n",
              "└─────────────┴─────────┴───────┴─────┴───────┴───────┘"
            ],
            "text/html": [
              "<div><style>\n",
              ".dataframe > thead > tr,\n",
              ".dataframe > tbody > tr {\n",
              "  text-align: right;\n",
              "  white-space: pre-wrap;\n",
              "}\n",
              "</style>\n",
              "<small>shape: (12, 6)</small><table border=\"1\" class=\"dataframe\"><thead><tr><th>Salesperson</th><th>Compact</th><th>Sedan</th><th>SUV</th><th>Truck</th><th>month</th></tr><tr><td>str</td><td>i64</td><td>i64</td><td>i64</td><td>i64</td><td>str</td></tr></thead><tbody><tr><td>&quot;Ann&quot;</td><td>22</td><td>18</td><td>15</td><td>12</td><td>&quot;April&quot;</td></tr><tr><td>&quot;Bob&quot;</td><td>19</td><td>12</td><td>17</td><td>20</td><td>&quot;April&quot;</td></tr><tr><td>&quot;Yolanda&quot;</td><td>19</td><td>8</td><td>32</td><td>15</td><td>&quot;April&quot;</td></tr><tr><td>&quot;Xerxes&quot;</td><td>12</td><td>23</td><td>18</td><td>9</td><td>&quot;April&quot;</td></tr><tr><td>&quot;Ann&quot;</td><td>22</td><td>18</td><td>15</td><td>12</td><td>&quot;May&quot;</td></tr><tr><td>&quot;Bob&quot;</td><td>20</td><td>14</td><td>6</td><td>24</td><td>&quot;May&quot;</td></tr><tr><td>&quot;Yolanda&quot;</td><td>19</td><td>10</td><td>28</td><td>17</td><td>&quot;May&quot;</td></tr><tr><td>&quot;Xerxes&quot;</td><td>11</td><td>27</td><td>17</td><td>9</td><td>&quot;May&quot;</td></tr><tr><td>&quot;Ann&quot;</td><td>18</td><td>19</td><td>17</td><td>12</td><td>&quot;June&quot;</td></tr><tr><td>&quot;Bob&quot;</td><td>20</td><td>15</td><td>8</td><td>23</td><td>&quot;June&quot;</td></tr><tr><td>&quot;Yolanda&quot;</td><td>21</td><td>9</td><td>22</td><td>19</td><td>&quot;June&quot;</td></tr><tr><td>&quot;Xerxes&quot;</td><td>12</td><td>25</td><td>19</td><td>8</td><td>&quot;June&quot;</td></tr></tbody></table></div>"
            ]
          },
          "metadata": {},
          "execution_count": 24
        }
      ],
      "source": [
        "pl.concat([sales_apr.with_columns(month = pl.lit('April')),\n",
        "           sales_may.with_columns(month = pl.lit('May')),\n",
        "           sales_june.with_columns(month = pl.lit('June')),\n",
        "           ])"
      ]
    },
    {
      "cell_type": "markdown",
      "id": "ad1ec5cc",
      "metadata": {
        "id": "ad1ec5cc"
      },
      "source": [
        "## <font color=\"red\"> Exercise 7.4.1</font>\n",
        "\n",
        "In the data folder, you will find 6 files that contain a sample 100,000 rows from the uber data for the month apr14-sep14.  Perform the following tasks:\n",
        "\n",
        "1. Read the April-August data frames.\n",
        "2. Add the month column each data frame\n",
        "3. Use `df.vstack` to combine these data frames into one combined `df`\n",
        "4. Use `pd.concat` to combine these data frames into one combined `df`"
      ]
    },
    {
      "cell_type": "code",
      "source": [
        "# Links to the datafiles\n",
        "url_apr = \"https://github.com/AKerby/dsci_325_module_7_more_data_management_in_python/raw/main/sample_data/uber-raw-data-apr14-sample.csv\"\n",
        "url_may = \"https://github.com/AKerby/dsci_325_module_7_more_data_management_in_python/raw/main/sample_data/uber-raw-data-may14-sample.csv\"\n",
        "url_jun = \"https://github.com/AKerby/dsci_325_module_7_more_data_management_in_python/raw/main/sample_data/uber-raw-data-jun14-sample.csv\"\n",
        "url_jul = \"https://github.com/AKerby/dsci_325_module_7_more_data_management_in_python/raw/main/sample_data/uber-raw-data-jul14-sample.csv\"\n",
        "url_aug = \"https://github.com/AKerby/dsci_325_module_7_more_data_management_in_python/raw/main/sample_data/uber-raw-data-aug14-sample.csv\""
      ],
      "metadata": {
        "id": "UUz9vxL3djJ3"
      },
      "id": "UUz9vxL3djJ3",
      "execution_count": null,
      "outputs": []
    },
    {
      "cell_type": "code",
      "execution_count": null,
      "id": "debbd7c4",
      "metadata": {
        "id": "debbd7c4"
      },
      "outputs": [],
      "source": [
        "# Your code here"
      ]
    }
  ],
  "metadata": {
    "kernelspec": {
      "display_name": "Python 3 (ipykernel)",
      "language": "python",
      "name": "python3"
    },
    "language_info": {
      "codemirror_mode": {
        "name": "ipython",
        "version": 3
      },
      "file_extension": ".py",
      "mimetype": "text/x-python",
      "name": "python",
      "nbconvert_exporter": "python",
      "pygments_lexer": "ipython3",
      "version": "3.9.12"
    },
    "colab": {
      "provenance": [],
      "include_colab_link": true
    }
  },
  "nbformat": 4,
  "nbformat_minor": 5
}