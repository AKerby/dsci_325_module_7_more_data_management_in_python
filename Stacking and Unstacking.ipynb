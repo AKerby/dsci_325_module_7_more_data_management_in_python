{
  "cells": [
    {
      "cell_type": "markdown",
      "metadata": {
        "id": "view-in-github",
        "colab_type": "text"
      },
      "source": [
        "<a href=\"https://colab.research.google.com/github/AKerby/dsci_325_module_7_more_data_management_in_python/blob/main/Stacking%20and%20Unstacking.ipynb\" target=\"_parent\"><img src=\"https://colab.research.google.com/assets/colab-badge.svg\" alt=\"Open In Colab\"/></a>"
      ]
    },
    {
      "cell_type": "markdown",
      "id": "96836e2f",
      "metadata": {
        "id": "96836e2f"
      },
      "source": [
        "# Stacking and Unstacking Data"
      ]
    },
    {
      "cell_type": "code",
      "execution_count": 1,
      "id": "8979311e",
      "metadata": {
        "scrolled": true,
        "id": "8979311e"
      },
      "outputs": [],
      "source": [
        "import polars as pl"
      ]
    },
    {
      "cell_type": "markdown",
      "id": "67dcdc86",
      "metadata": {
        "id": "67dcdc86"
      },
      "source": [
        "## Reshaping data\n",
        "\n",
        "Two ways\n",
        "\n",
        "* We can **stack** data into a *tall* format.\n",
        "* We can **unstack** data into a *long* format."
      ]
    },
    {
      "cell_type": "markdown",
      "id": "36646d1a",
      "metadata": {
        "id": "36646d1a"
      },
      "source": [
        "## (totally real and not at all made-up) Example - Quarterly Auto Sales\n",
        "\n",
        "**Note** the last four columns are\n",
        "\n",
        "* same measurements\n",
        "* same units"
      ]
    },
    {
      "cell_type": "code",
      "execution_count": 2,
      "id": "5278f682",
      "metadata": {
        "id": "5278f682",
        "outputId": "a078f5f6-6971-4098-9f86-cad199f08460",
        "colab": {
          "base_uri": "https://localhost:8080/",
          "height": 255
        }
      },
      "outputs": [
        {
          "output_type": "execute_result",
          "data": {
            "text/plain": [
              "shape: (5, 5)\n",
              "┌─────────────┬─────────┬───────┬──────┬───────┐\n",
              "│ Salesperson ┆ Compact ┆ Sedan ┆ SUV  ┆ Truck │\n",
              "│ ---         ┆ ---     ┆ ---   ┆ ---  ┆ ---   │\n",
              "│ str         ┆ i64     ┆ i64   ┆ i64  ┆ i64   │\n",
              "╞═════════════╪═════════╪═══════╪══════╪═══════╡\n",
              "│ Ann         ┆ 22      ┆ 18    ┆ 15   ┆ 12    │\n",
              "│ Bob         ┆ 19      ┆ 12    ┆ 17   ┆ 20    │\n",
              "│ Doug        ┆ 20      ┆ 13    ┆ null ┆ 20    │\n",
              "│ Yolanda     ┆ 19      ┆ 8     ┆ 32   ┆ 15    │\n",
              "│ Xerxes      ┆ 12      ┆ 23    ┆ 18   ┆ 9     │\n",
              "└─────────────┴─────────┴───────┴──────┴───────┘"
            ],
            "text/html": [
              "<div><style>\n",
              ".dataframe > thead > tr,\n",
              ".dataframe > tbody > tr {\n",
              "  text-align: right;\n",
              "  white-space: pre-wrap;\n",
              "}\n",
              "</style>\n",
              "<small>shape: (5, 5)</small><table border=\"1\" class=\"dataframe\"><thead><tr><th>Salesperson</th><th>Compact</th><th>Sedan</th><th>SUV</th><th>Truck</th></tr><tr><td>str</td><td>i64</td><td>i64</td><td>i64</td><td>i64</td></tr></thead><tbody><tr><td>&quot;Ann&quot;</td><td>22</td><td>18</td><td>15</td><td>12</td></tr><tr><td>&quot;Bob&quot;</td><td>19</td><td>12</td><td>17</td><td>20</td></tr><tr><td>&quot;Doug&quot;</td><td>20</td><td>13</td><td>null</td><td>20</td></tr><tr><td>&quot;Yolanda&quot;</td><td>19</td><td>8</td><td>32</td><td>15</td></tr><tr><td>&quot;Xerxes&quot;</td><td>12</td><td>23</td><td>18</td><td>9</td></tr></tbody></table></div>"
            ]
          },
          "metadata": {},
          "execution_count": 2
        }
      ],
      "source": [
        "url = \"https://github.com/AKerby/dsci_325_module_7_more_data_management_in_python/raw/main/sample_data/auto_sales.csv\"\n",
        "sales = pl.read_csv(url)\n",
        "sales"
      ]
    },
    {
      "cell_type": "markdown",
      "id": "4e71879a",
      "metadata": {
        "id": "4e71879a"
      },
      "source": [
        "## Stacking measurements of the same type/units\n",
        "\n",
        "<img src=\"https://github.com/WSU-DataScience/dsci_325_module_7_more_data_management_in_python/raw/main/img/stack_in_action.gif\" width=600>\n",
        "\n",
        "We can fix issues with informative column labels by stacking the data with `gather`"
      ]
    },
    {
      "cell_type": "markdown",
      "id": "20284ef5",
      "metadata": {
        "id": "20284ef5"
      },
      "source": [
        "## A Stack by any other name ...\n",
        "\n",
        "The act of stacking similar columns goes by various names.\n",
        "\n",
        "* `polars` calls this `melt`\n",
        "* JMP and Minitab call this *stack*\n",
        "* Wickham/`tidyr`/`dfply` call this *gather*\n",
        "\n",
        "I prefer **stack**, primarily because it makes it clear we are *melting*/*gathering* data vertically."
      ]
    },
    {
      "cell_type": "markdown",
      "id": "f5b42653",
      "metadata": {
        "id": "f5b42653"
      },
      "source": [
        "## Stacking data in `polars` with `melt`\n",
        "\n",
        "Syntax: `df.melt(id_cols, val_vars, variable_name, value_name)`"
      ]
    },
    {
      "cell_type": "code",
      "execution_count": 3,
      "id": "f49977cf",
      "metadata": {
        "id": "f49977cf",
        "outputId": "76388bdd-a7c2-4980-e1de-693659ecfecb",
        "colab": {
          "base_uri": "https://localhost:8080/",
          "height": 725
        }
      },
      "outputs": [
        {
          "output_type": "execute_result",
          "data": {
            "text/plain": [
              "shape: (20, 3)\n",
              "┌─────────────┬─────────┬──────────┐\n",
              "│ Salesperson ┆ CarType ┆ QrtSales │\n",
              "│ ---         ┆ ---     ┆ ---      │\n",
              "│ str         ┆ str     ┆ i64      │\n",
              "╞═════════════╪═════════╪══════════╡\n",
              "│ Ann         ┆ Compact ┆ 22       │\n",
              "│ Bob         ┆ Compact ┆ 19       │\n",
              "│ Doug        ┆ Compact ┆ 20       │\n",
              "│ Yolanda     ┆ Compact ┆ 19       │\n",
              "│ …           ┆ …       ┆ …        │\n",
              "│ Bob         ┆ Truck   ┆ 20       │\n",
              "│ Doug        ┆ Truck   ┆ 20       │\n",
              "│ Yolanda     ┆ Truck   ┆ 15       │\n",
              "│ Xerxes      ┆ Truck   ┆ 9        │\n",
              "└─────────────┴─────────┴──────────┘"
            ],
            "text/html": [
              "<div><style>\n",
              ".dataframe > thead > tr,\n",
              ".dataframe > tbody > tr {\n",
              "  text-align: right;\n",
              "  white-space: pre-wrap;\n",
              "}\n",
              "</style>\n",
              "<small>shape: (20, 3)</small><table border=\"1\" class=\"dataframe\"><thead><tr><th>Salesperson</th><th>CarType</th><th>QrtSales</th></tr><tr><td>str</td><td>str</td><td>i64</td></tr></thead><tbody><tr><td>&quot;Ann&quot;</td><td>&quot;Compact&quot;</td><td>22</td></tr><tr><td>&quot;Bob&quot;</td><td>&quot;Compact&quot;</td><td>19</td></tr><tr><td>&quot;Doug&quot;</td><td>&quot;Compact&quot;</td><td>20</td></tr><tr><td>&quot;Yolanda&quot;</td><td>&quot;Compact&quot;</td><td>19</td></tr><tr><td>&quot;Xerxes&quot;</td><td>&quot;Compact&quot;</td><td>12</td></tr><tr><td>&quot;Ann&quot;</td><td>&quot;Sedan&quot;</td><td>18</td></tr><tr><td>&quot;Bob&quot;</td><td>&quot;Sedan&quot;</td><td>12</td></tr><tr><td>&quot;Doug&quot;</td><td>&quot;Sedan&quot;</td><td>13</td></tr><tr><td>&quot;Yolanda&quot;</td><td>&quot;Sedan&quot;</td><td>8</td></tr><tr><td>&quot;Xerxes&quot;</td><td>&quot;Sedan&quot;</td><td>23</td></tr><tr><td>&quot;Ann&quot;</td><td>&quot;SUV&quot;</td><td>15</td></tr><tr><td>&quot;Bob&quot;</td><td>&quot;SUV&quot;</td><td>17</td></tr><tr><td>&quot;Doug&quot;</td><td>&quot;SUV&quot;</td><td>null</td></tr><tr><td>&quot;Yolanda&quot;</td><td>&quot;SUV&quot;</td><td>32</td></tr><tr><td>&quot;Xerxes&quot;</td><td>&quot;SUV&quot;</td><td>18</td></tr><tr><td>&quot;Ann&quot;</td><td>&quot;Truck&quot;</td><td>12</td></tr><tr><td>&quot;Bob&quot;</td><td>&quot;Truck&quot;</td><td>20</td></tr><tr><td>&quot;Doug&quot;</td><td>&quot;Truck&quot;</td><td>20</td></tr><tr><td>&quot;Yolanda&quot;</td><td>&quot;Truck&quot;</td><td>15</td></tr><tr><td>&quot;Xerxes&quot;</td><td>&quot;Truck&quot;</td><td>9</td></tr></tbody></table></div>"
            ]
          },
          "metadata": {},
          "execution_count": 3
        }
      ],
      "source": [
        "sales_cols = ['Compact', 'Sedan', 'SUV', 'Truck']\n",
        "sales_stacked = (sales\n",
        "                 .melt('Salesperson', sales_cols, \"CarType\",\"QrtSales\")\n",
        "                )\n",
        "sales_stacked"
      ]
    },
    {
      "cell_type": "markdown",
      "id": "20c22462",
      "metadata": {
        "id": "20c22462"
      },
      "source": [
        "## Unstacking Data with `unstack`\n",
        "\n",
        "Syntax: `pivot(values, index, columns, aggregate_fn = 'first')`"
      ]
    },
    {
      "cell_type": "code",
      "execution_count": 4,
      "id": "2e3cbdaf",
      "metadata": {
        "id": "2e3cbdaf",
        "outputId": "b1beed9c-6a34-41c6-8ca4-3ebe95cbdee5",
        "colab": {
          "base_uri": "https://localhost:8080/",
          "height": 255
        }
      },
      "outputs": [
        {
          "output_type": "execute_result",
          "data": {
            "text/plain": [
              "shape: (5, 5)\n",
              "┌─────────────┬─────────┬───────┬──────┬───────┐\n",
              "│ Salesperson ┆ Compact ┆ Sedan ┆ SUV  ┆ Truck │\n",
              "│ ---         ┆ ---     ┆ ---   ┆ ---  ┆ ---   │\n",
              "│ str         ┆ i64     ┆ i64   ┆ i64  ┆ i64   │\n",
              "╞═════════════╪═════════╪═══════╪══════╪═══════╡\n",
              "│ Ann         ┆ 22      ┆ 18    ┆ 15   ┆ 12    │\n",
              "│ Bob         ┆ 19      ┆ 12    ┆ 17   ┆ 20    │\n",
              "│ Doug        ┆ 20      ┆ 13    ┆ null ┆ 20    │\n",
              "│ Yolanda     ┆ 19      ┆ 8     ┆ 32   ┆ 15    │\n",
              "│ Xerxes      ┆ 12      ┆ 23    ┆ 18   ┆ 9     │\n",
              "└─────────────┴─────────┴───────┴──────┴───────┘"
            ],
            "text/html": [
              "<div><style>\n",
              ".dataframe > thead > tr,\n",
              ".dataframe > tbody > tr {\n",
              "  text-align: right;\n",
              "  white-space: pre-wrap;\n",
              "}\n",
              "</style>\n",
              "<small>shape: (5, 5)</small><table border=\"1\" class=\"dataframe\"><thead><tr><th>Salesperson</th><th>Compact</th><th>Sedan</th><th>SUV</th><th>Truck</th></tr><tr><td>str</td><td>i64</td><td>i64</td><td>i64</td><td>i64</td></tr></thead><tbody><tr><td>&quot;Ann&quot;</td><td>22</td><td>18</td><td>15</td><td>12</td></tr><tr><td>&quot;Bob&quot;</td><td>19</td><td>12</td><td>17</td><td>20</td></tr><tr><td>&quot;Doug&quot;</td><td>20</td><td>13</td><td>null</td><td>20</td></tr><tr><td>&quot;Yolanda&quot;</td><td>19</td><td>8</td><td>32</td><td>15</td></tr><tr><td>&quot;Xerxes&quot;</td><td>12</td><td>23</td><td>18</td><td>9</td></tr></tbody></table></div>"
            ]
          },
          "metadata": {},
          "execution_count": 4
        }
      ],
      "source": [
        "(sales_stacked\n",
        " .pivot('QrtSales', 'Salesperson', 'CarType')\n",
        ")"
      ]
    },
    {
      "cell_type": "markdown",
      "id": "da299462",
      "metadata": {
        "id": "da299462"
      },
      "source": [
        "## Safely STACK then UNSTACK\n",
        "\n",
        "\n",
        "If we want to ensure we can unstack after stacking,\n",
        "\n",
        "* Add an `ID`/`index` column of unique values\n",
        "* Use this column as one of the index columns.\n",
        "* Use `'first'` as the `aggregation_fn`.\n"
      ]
    },
    {
      "cell_type": "code",
      "execution_count": 6,
      "id": "abccd8e8",
      "metadata": {
        "id": "abccd8e8",
        "outputId": "ec0fb2b6-b91c-4b87-953d-dda21db15f71",
        "colab": {
          "base_uri": "https://localhost:8080/",
          "height": 255
        }
      },
      "outputs": [
        {
          "output_type": "execute_result",
          "data": {
            "text/plain": [
              "shape: (5, 6)\n",
              "┌─────┬─────────────┬─────────┬───────┬──────┬───────┐\n",
              "│ ID  ┆ Salesperson ┆ Compact ┆ Sedan ┆ SUV  ┆ Truck │\n",
              "│ --- ┆ ---         ┆ ---     ┆ ---   ┆ ---  ┆ ---   │\n",
              "│ i64 ┆ str         ┆ i64     ┆ i64   ┆ i64  ┆ i64   │\n",
              "╞═════╪═════════════╪═════════╪═══════╪══════╪═══════╡\n",
              "│ 0   ┆ Ann         ┆ 22      ┆ 18    ┆ 15   ┆ 12    │\n",
              "│ 1   ┆ Bob         ┆ 19      ┆ 12    ┆ 17   ┆ 20    │\n",
              "│ 2   ┆ Doug        ┆ 20      ┆ 13    ┆ null ┆ 20    │\n",
              "│ 3   ┆ Yolanda     ┆ 19      ┆ 8     ┆ 32   ┆ 15    │\n",
              "│ 4   ┆ Xerxes      ┆ 12      ┆ 23    ┆ 18   ┆ 9     │\n",
              "└─────┴─────────────┴─────────┴───────┴──────┴───────┘"
            ],
            "text/html": [
              "<div><style>\n",
              ".dataframe > thead > tr,\n",
              ".dataframe > tbody > tr {\n",
              "  text-align: right;\n",
              "  white-space: pre-wrap;\n",
              "}\n",
              "</style>\n",
              "<small>shape: (5, 6)</small><table border=\"1\" class=\"dataframe\"><thead><tr><th>ID</th><th>Salesperson</th><th>Compact</th><th>Sedan</th><th>SUV</th><th>Truck</th></tr><tr><td>i64</td><td>str</td><td>i64</td><td>i64</td><td>i64</td><td>i64</td></tr></thead><tbody><tr><td>0</td><td>&quot;Ann&quot;</td><td>22</td><td>18</td><td>15</td><td>12</td></tr><tr><td>1</td><td>&quot;Bob&quot;</td><td>19</td><td>12</td><td>17</td><td>20</td></tr><tr><td>2</td><td>&quot;Doug&quot;</td><td>20</td><td>13</td><td>null</td><td>20</td></tr><tr><td>3</td><td>&quot;Yolanda&quot;</td><td>19</td><td>8</td><td>32</td><td>15</td></tr><tr><td>4</td><td>&quot;Xerxes&quot;</td><td>12</td><td>23</td><td>18</td><td>9</td></tr></tbody></table></div>"
            ]
          },
          "metadata": {},
          "execution_count": 6
        }
      ],
      "source": [
        "(sales\n",
        " .with_columns(pl.arange(0, len(sales)).alias('ID'))\n",
        " .melt(['ID', 'Salesperson'], sales_cols, \"CarType\",\"QrtSales\")\n",
        " .pivot('QrtSales', ['ID','Salesperson'], 'CarType')\n",
        ")"
      ]
    },
    {
      "cell_type": "markdown",
      "id": "549eb28b",
      "metadata": {
        "id": "549eb28b"
      },
      "source": [
        "## Why Stack?\n",
        "\n",
        "* Perform transformations on many columns.\n",
        "* Fix problems with the Golden Rule"
      ]
    },
    {
      "cell_type": "markdown",
      "id": "07893fc1",
      "metadata": {
        "id": "07893fc1"
      },
      "source": [
        "## Example - Switching Units on All Sales\n",
        "\n",
        "Suppose your manager wants these numbers in *monthly* sales.  You could\n",
        "\n",
        "1. Adjust each column with a separate formula\n",
        "2. Stack --> Transform once --> Unstack"
      ]
    },
    {
      "cell_type": "markdown",
      "id": "11e1ae0c",
      "metadata": {
        "id": "11e1ae0c"
      },
      "source": [
        "#### Method 1 - Brute-force Column Transformations"
      ]
    },
    {
      "cell_type": "code",
      "execution_count": 7,
      "id": "498bb025",
      "metadata": {
        "id": "498bb025",
        "outputId": "637caec8-586a-495b-dc1d-77ef06a6b385",
        "colab": {
          "base_uri": "https://localhost:8080/",
          "height": 255
        }
      },
      "outputs": [
        {
          "output_type": "execute_result",
          "data": {
            "text/plain": [
              "shape: (5, 5)\n",
              "┌─────────────┬──────────┬──────────┬───────────┬──────────┐\n",
              "│ Salesperson ┆ Compact  ┆ Sedan    ┆ SUV       ┆ Truck    │\n",
              "│ ---         ┆ ---      ┆ ---      ┆ ---       ┆ ---      │\n",
              "│ str         ┆ f64      ┆ f64      ┆ f64       ┆ f64      │\n",
              "╞═════════════╪══════════╪══════════╪═══════════╪══════════╡\n",
              "│ Ann         ┆ 7.333333 ┆ 6.0      ┆ 5.0       ┆ 4.0      │\n",
              "│ Bob         ┆ 6.333333 ┆ 4.0      ┆ 5.666667  ┆ 6.666667 │\n",
              "│ Doug        ┆ 6.666667 ┆ 4.333333 ┆ null      ┆ 6.666667 │\n",
              "│ Yolanda     ┆ 6.333333 ┆ 2.666667 ┆ 10.666667 ┆ 5.0      │\n",
              "│ Xerxes      ┆ 4.0      ┆ 7.666667 ┆ 6.0       ┆ 3.0      │\n",
              "└─────────────┴──────────┴──────────┴───────────┴──────────┘"
            ],
            "text/html": [
              "<div><style>\n",
              ".dataframe > thead > tr,\n",
              ".dataframe > tbody > tr {\n",
              "  text-align: right;\n",
              "  white-space: pre-wrap;\n",
              "}\n",
              "</style>\n",
              "<small>shape: (5, 5)</small><table border=\"1\" class=\"dataframe\"><thead><tr><th>Salesperson</th><th>Compact</th><th>Sedan</th><th>SUV</th><th>Truck</th></tr><tr><td>str</td><td>f64</td><td>f64</td><td>f64</td><td>f64</td></tr></thead><tbody><tr><td>&quot;Ann&quot;</td><td>7.333333</td><td>6.0</td><td>5.0</td><td>4.0</td></tr><tr><td>&quot;Bob&quot;</td><td>6.333333</td><td>4.0</td><td>5.666667</td><td>6.666667</td></tr><tr><td>&quot;Doug&quot;</td><td>6.666667</td><td>4.333333</td><td>null</td><td>6.666667</td></tr><tr><td>&quot;Yolanda&quot;</td><td>6.333333</td><td>2.666667</td><td>10.666667</td><td>5.0</td></tr><tr><td>&quot;Xerxes&quot;</td><td>4.0</td><td>7.666667</td><td>6.0</td><td>3.0</td></tr></tbody></table></div>"
            ]
          },
          "metadata": {},
          "execution_count": 7
        }
      ],
      "source": [
        "pl.Config.with_columns_kwargs = True\n",
        "\n",
        "(sales\n",
        " .with_columns([(pl.col('Compact')/3).alias('Compact'),\n",
        "                (pl.col('SUV')/3).alias('SUV'),\n",
        "                (pl.col('Sedan')/3).alias('Sedan'),\n",
        "                (pl.col('Truck')/3).alias('Truck')\n",
        "               ])\n",
        ")"
      ]
    },
    {
      "cell_type": "markdown",
      "id": "eac96a4b",
      "metadata": {
        "id": "eac96a4b"
      },
      "source": [
        "#### Method 2 - Stack-Transform-Unstack"
      ]
    },
    {
      "cell_type": "code",
      "execution_count": 8,
      "id": "1fca7224",
      "metadata": {
        "id": "1fca7224",
        "outputId": "4c23141f-d184-4fec-d632-61e1e16b45f0",
        "colab": {
          "base_uri": "https://localhost:8080/",
          "height": 255
        }
      },
      "outputs": [
        {
          "output_type": "execute_result",
          "data": {
            "text/plain": [
              "shape: (5, 5)\n",
              "┌─────────────┬──────────┬──────────┬───────────┬──────────┐\n",
              "│ Salesperson ┆ Compact  ┆ Sedan    ┆ SUV       ┆ Truck    │\n",
              "│ ---         ┆ ---      ┆ ---      ┆ ---       ┆ ---      │\n",
              "│ str         ┆ f64      ┆ f64      ┆ f64       ┆ f64      │\n",
              "╞═════════════╪══════════╪══════════╪═══════════╪══════════╡\n",
              "│ Ann         ┆ 7.333333 ┆ 6.0      ┆ 5.0       ┆ 4.0      │\n",
              "│ Bob         ┆ 6.333333 ┆ 4.0      ┆ 5.666667  ┆ 6.666667 │\n",
              "│ Doug        ┆ 6.666667 ┆ 4.333333 ┆ null      ┆ 6.666667 │\n",
              "│ Yolanda     ┆ 6.333333 ┆ 2.666667 ┆ 10.666667 ┆ 5.0      │\n",
              "│ Xerxes      ┆ 4.0      ┆ 7.666667 ┆ 6.0       ┆ 3.0      │\n",
              "└─────────────┴──────────┴──────────┴───────────┴──────────┘"
            ],
            "text/html": [
              "<div><style>\n",
              ".dataframe > thead > tr,\n",
              ".dataframe > tbody > tr {\n",
              "  text-align: right;\n",
              "  white-space: pre-wrap;\n",
              "}\n",
              "</style>\n",
              "<small>shape: (5, 5)</small><table border=\"1\" class=\"dataframe\"><thead><tr><th>Salesperson</th><th>Compact</th><th>Sedan</th><th>SUV</th><th>Truck</th></tr><tr><td>str</td><td>f64</td><td>f64</td><td>f64</td><td>f64</td></tr></thead><tbody><tr><td>&quot;Ann&quot;</td><td>7.333333</td><td>6.0</td><td>5.0</td><td>4.0</td></tr><tr><td>&quot;Bob&quot;</td><td>6.333333</td><td>4.0</td><td>5.666667</td><td>6.666667</td></tr><tr><td>&quot;Doug&quot;</td><td>6.666667</td><td>4.333333</td><td>null</td><td>6.666667</td></tr><tr><td>&quot;Yolanda&quot;</td><td>6.333333</td><td>2.666667</td><td>10.666667</td><td>5.0</td></tr><tr><td>&quot;Xerxes&quot;</td><td>4.0</td><td>7.666667</td><td>6.0</td><td>3.0</td></tr></tbody></table></div>"
            ]
          },
          "metadata": {},
          "execution_count": 8
        }
      ],
      "source": [
        "(sales\n",
        " .melt('Salesperson', sales_cols, \"CarType\",\"QrtSales\")\n",
        " .with_columns(MonSales = pl.col('QrtSales')/3)\n",
        " .drop('QrtSales')\n",
        " .pivot('MonSales', 'Salesperson', 'CarType')\n",
        ")"
      ]
    },
    {
      "cell_type": "markdown",
      "id": "127b6caa",
      "metadata": {
        "id": "127b6caa"
      },
      "source": [
        "## Comparing the two methods\n",
        "\n",
        "**Method 1:**\n",
        "* More straight forward\n",
        "* Lots of repeated code\n",
        "* Doesn't scale ... imagine 100+ columns\n",
        "\n",
        "**Method 2:**\n",
        "* More complicated\n",
        "* Scales well $\\longrightarrow$ same code regardless of number of columns\n",
        "* Easier with more complicated transformations"
      ]
    },
    {
      "cell_type": "markdown",
      "id": "4f7c1bd9",
      "metadata": {
        "id": "4f7c1bd9"
      },
      "source": [
        "## <font color=\"red\"> Exercise 7.2.1 </font>\n",
        "    \n",
        "**Task:** Load the `Artwork.csv` data and use the Stack-Transform-Unstack trick to convert all measurements in cm to mm.\n",
        "\n",
        "**Hints.**\n",
        "1. You will need to fix the `dtypes` for some of the measurement columns by passing the `artwork_dtypes` to `pl.read_csv`.\n",
        "2. You will want to add an `ID` column to make the stack and unstack safe.\n",
        "3. You can use `cols.from_` and `cols.to` to get the list of columns needed in `melt`.\n",
        "4. `pivot` can't group by float columns, so you need to stack all measurements.\n",
        "5. To process only the `cm` columns, use a `pl.when(cond).then(expr).otherwise(expr)` expression.\n",
        "6. You should also replace the `cm` with `mm` in the label column (using the same trick in the last hint) before unstacking."
      ]
    },
    {
      "cell_type": "code",
      "execution_count": null,
      "id": "51471266",
      "metadata": {
        "id": "51471266"
      },
      "outputs": [],
      "source": [
        "artwork_dtypes = {'Title': pl.datatypes.Utf8,\n",
        "                  'Artist': pl.datatypes.Utf8,\n",
        "                  'ConstituentID': pl.datatypes.Utf8,\n",
        "                  'ArtistBio': pl.datatypes.Utf8,\n",
        "                  'Nationality': pl.datatypes.Utf8,\n",
        "                  'BeginDate': pl.datatypes.Utf8,\n",
        "                  'EndDate': pl.datatypes.Utf8,\n",
        "                  'Gender': pl.datatypes.Utf8,\n",
        "                  'Date': pl.datatypes.Utf8,\n",
        "                  'Medium': pl.datatypes.Utf8,\n",
        "                  'Dimensions': pl.datatypes.Utf8,\n",
        "                  'CreditLine': pl.datatypes.Utf8,\n",
        "                  'AccessionNumber': pl.datatypes.Utf8,\n",
        "                  'Classification': pl.datatypes.Utf8,\n",
        "                  'Department': pl.datatypes.Utf8,\n",
        "                  'DateAcquired': pl.datatypes.Utf8,\n",
        "                  'Cataloged': pl.datatypes.Utf8,\n",
        "                  'ObjectID': pl.datatypes.Int64,\n",
        "                  'URL': pl.datatypes.Utf8,\n",
        "                  'ThumbnailURL': pl.datatypes.Utf8,\n",
        "                  'Circumference (cm)': pl.datatypes.Float64,\n",
        "                  'Depth (cm)': pl.datatypes.Float64,\n",
        "                  'Diameter (cm)': pl.datatypes.Float64,\n",
        "                  'Height (cm)': pl.datatypes.Float64,\n",
        "                  'Length (cm)': pl.datatypes.Float64,\n",
        "                  'Weight (kg)': pl.datatypes.Float64,\n",
        "                  'Width (cm)': pl.datatypes.Float64,\n",
        "                  'Seat Height (cm)': pl.datatypes.Float64,\n",
        "                  'Duration (sec.)': pl.datatypes.Float64}"
      ]
    },
    {
      "cell_type": "code",
      "execution_count": null,
      "id": "b60ab44b",
      "metadata": {
        "id": "b60ab44b"
      },
      "outputs": [],
      "source": [
        "# Your code here"
      ]
    }
  ],
  "metadata": {
    "celltoolbar": "Slideshow",
    "kernelspec": {
      "display_name": "Python 3 (ipykernel)",
      "language": "python",
      "name": "python3"
    },
    "language_info": {
      "codemirror_mode": {
        "name": "ipython",
        "version": 3
      },
      "file_extension": ".py",
      "mimetype": "text/x-python",
      "name": "python",
      "nbconvert_exporter": "python",
      "pygments_lexer": "ipython3",
      "version": "3.9.12"
    },
    "varInspector": {
      "cols": {
        "lenName": 16,
        "lenType": 16,
        "lenVar": 40
      },
      "kernels_config": {
        "python": {
          "delete_cmd_postfix": "",
          "delete_cmd_prefix": "del ",
          "library": "var_list.py",
          "varRefreshCmd": "print(var_dic_list())"
        },
        "r": {
          "delete_cmd_postfix": ") ",
          "delete_cmd_prefix": "rm(",
          "library": "var_list.r",
          "varRefreshCmd": "cat(var_dic_list()) "
        }
      },
      "types_to_exclude": [
        "module",
        "function",
        "builtin_function_or_method",
        "instance",
        "_Feature"
      ],
      "window_display": false
    },
    "colab": {
      "provenance": [],
      "include_colab_link": true
    }
  },
  "nbformat": 4,
  "nbformat_minor": 5
}