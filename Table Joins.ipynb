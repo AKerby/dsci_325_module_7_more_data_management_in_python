{
  "cells": [
    {
      "cell_type": "markdown",
      "metadata": {
        "id": "view-in-github",
        "colab_type": "text"
      },
      "source": [
        "<a href=\"https://colab.research.google.com/github/AKerby/dsci_325_module_7_more_data_management_in_python/blob/main/Table%20Joins.ipynb\" target=\"_parent\"><img src=\"https://colab.research.google.com/assets/colab-badge.svg\" alt=\"Open In Colab\"/></a>"
      ]
    },
    {
      "cell_type": "markdown",
      "id": "4860bf4a",
      "metadata": {
        "id": "4860bf4a"
      },
      "source": [
        "# Joining Tables with `dfply`"
      ]
    },
    {
      "cell_type": "code",
      "execution_count": 1,
      "id": "1736398e",
      "metadata": {
        "id": "1736398e",
        "outputId": "136eb13d-47e9-4b6f-f835-eae1038c879f",
        "colab": {
          "base_uri": "https://localhost:8080/"
        }
      },
      "outputs": [
        {
          "output_type": "stream",
          "name": "stdout",
          "text": [
            "Collecting more_polars\n",
            "  Downloading more_polars-0.3.0-py3-none-any.whl (5.0 kB)\n",
            "Collecting composable>=0.5.4 (from more_polars)\n",
            "  Downloading composable-0.5.4-py3-none-any.whl (8.5 kB)\n",
            "Requirement already satisfied: polars>=0.14.26 in /usr/local/lib/python3.10/dist-packages (from more_polars) (0.20.2)\n",
            "Collecting python-forge<19.0,>=18.6 (from composable>=0.5.4->more_polars)\n",
            "  Downloading python_forge-18.6.0-py35-none-any.whl (31 kB)\n",
            "Collecting toolz<0.12.0,>=0.11.1 (from composable>=0.5.4->more_polars)\n",
            "  Downloading toolz-0.11.2-py3-none-any.whl (55 kB)\n",
            "\u001b[2K     \u001b[90m━━━━━━━━━━━━━━━━━━━━━━━━━━━━━━━━━━━━━━━━\u001b[0m \u001b[32m55.8/55.8 kB\u001b[0m \u001b[31m4.6 MB/s\u001b[0m eta \u001b[36m0:00:00\u001b[0m\n",
            "\u001b[?25hInstalling collected packages: python-forge, toolz, composable, more_polars\n",
            "  Attempting uninstall: toolz\n",
            "    Found existing installation: toolz 0.12.1\n",
            "    Uninstalling toolz-0.12.1:\n",
            "      Successfully uninstalled toolz-0.12.1\n",
            "Successfully installed composable-0.5.4 more_polars-0.3.0 python-forge-18.6.0 toolz-0.11.2\n"
          ]
        }
      ],
      "source": [
        "!pip install more_polars\n",
        "import polars as pl"
      ]
    },
    {
      "cell_type": "markdown",
      "id": "c22bbb5b",
      "metadata": {
        "id": "c22bbb5b"
      },
      "source": [
        "## Example\n",
        "\n",
        "The following tables were taken from the Wikipedia page for joins and will provide a small but sufficiently complicated example for introducing joins."
      ]
    },
    {
      "cell_type": "code",
      "execution_count": 2,
      "id": "ede04292",
      "metadata": {
        "id": "ede04292",
        "outputId": "56d765dd-5477-4f56-bc76-44aa3a104e6f",
        "colab": {
          "base_uri": "https://localhost:8080/",
          "height": 224
        }
      },
      "outputs": [
        {
          "output_type": "execute_result",
          "data": {
            "text/plain": [
              "shape: (4, 2)\n",
              "┌────────┬─────────────┐\n",
              "│ DeptID ┆ DeptName    │\n",
              "│ ---    ┆ ---         │\n",
              "│ i64    ┆ str         │\n",
              "╞════════╪═════════════╡\n",
              "│ 31     ┆ Sales       │\n",
              "│ 33     ┆ Engineering │\n",
              "│ 34     ┆ Clerical    │\n",
              "│ 35     ┆ Marketing   │\n",
              "└────────┴─────────────┘"
            ],
            "text/html": [
              "<div><style>\n",
              ".dataframe > thead > tr,\n",
              ".dataframe > tbody > tr {\n",
              "  text-align: right;\n",
              "  white-space: pre-wrap;\n",
              "}\n",
              "</style>\n",
              "<small>shape: (4, 2)</small><table border=\"1\" class=\"dataframe\"><thead><tr><th>DeptID</th><th>DeptName</th></tr><tr><td>i64</td><td>str</td></tr></thead><tbody><tr><td>31</td><td>&quot;Sales&quot;</td></tr><tr><td>33</td><td>&quot;Engineering&quot;</td></tr><tr><td>34</td><td>&quot;Clerical&quot;</td></tr><tr><td>35</td><td>&quot;Marketing&quot;</td></tr></tbody></table></div>"
            ]
          },
          "metadata": {},
          "execution_count": 2
        }
      ],
      "source": [
        "url = \"https://github.com/AKerby/dsci_325_module_7_more_data_management_in_python/raw/main/sample_data/department.csv\"\n",
        "dept = pl.read_csv(url)\n",
        "dept"
      ]
    },
    {
      "cell_type": "code",
      "execution_count": 3,
      "id": "695cf9ec",
      "metadata": {
        "id": "695cf9ec",
        "outputId": "78d74a07-8c12-4a6e-fe71-0a23f8f5c3c9",
        "colab": {
          "base_uri": "https://localhost:8080/",
          "height": 286
        }
      },
      "outputs": [
        {
          "output_type": "execute_result",
          "data": {
            "text/plain": [
              "shape: (6, 3)\n",
              "┌────────────┬────────────┬────────┐\n",
              "│ LastName   ┆ EmployeeID ┆ DeptID │\n",
              "│ ---        ┆ ---        ┆ ---    │\n",
              "│ str        ┆ i64        ┆ i64    │\n",
              "╞════════════╪════════════╪════════╡\n",
              "│ Rafferty   ┆ 102        ┆ 31     │\n",
              "│ Jones      ┆ 105        ┆ 33     │\n",
              "│ Heisenberg ┆ 106        ┆ 33     │\n",
              "│ Robinson   ┆ 108        ┆ 34     │\n",
              "│ Smith      ┆ 110        ┆ 34     │\n",
              "│ Williams   ┆ 111        ┆ null   │\n",
              "└────────────┴────────────┴────────┘"
            ],
            "text/html": [
              "<div><style>\n",
              ".dataframe > thead > tr,\n",
              ".dataframe > tbody > tr {\n",
              "  text-align: right;\n",
              "  white-space: pre-wrap;\n",
              "}\n",
              "</style>\n",
              "<small>shape: (6, 3)</small><table border=\"1\" class=\"dataframe\"><thead><tr><th>LastName</th><th>EmployeeID</th><th>DeptID</th></tr><tr><td>str</td><td>i64</td><td>i64</td></tr></thead><tbody><tr><td>&quot;Rafferty&quot;</td><td>102</td><td>31</td></tr><tr><td>&quot;Jones&quot;</td><td>105</td><td>33</td></tr><tr><td>&quot;Heisenberg&quot;</td><td>106</td><td>33</td></tr><tr><td>&quot;Robinson&quot;</td><td>108</td><td>34</td></tr><tr><td>&quot;Smith&quot;</td><td>110</td><td>34</td></tr><tr><td>&quot;Williams&quot;</td><td>111</td><td>null</td></tr></tbody></table></div>"
            ]
          },
          "metadata": {},
          "execution_count": 3
        }
      ],
      "source": [
        "url2 = \"https://github.com/AKerby/dsci_325_module_7_more_data_management_in_python/raw/main/sample_data/employee.csv\"\n",
        "empl = pl.read_csv(url2)\n",
        "empl"
      ]
    },
    {
      "cell_type": "code",
      "execution_count": 4,
      "id": "ce093637",
      "metadata": {
        "id": "ce093637",
        "outputId": "04acd741-6303-4866-d597-5b8ae6b18b09",
        "colab": {
          "base_uri": "https://localhost:8080/",
          "height": 663
        }
      },
      "outputs": [
        {
          "output_type": "execute_result",
          "data": {
            "text/plain": [
              "shape: (18, 3)\n",
              "┌────────────┬──────┬────────┐\n",
              "│ EmployeeID ┆ Year ┆ Salary │\n",
              "│ ---        ┆ ---  ┆ ---    │\n",
              "│ i64        ┆ i64  ┆ i64    │\n",
              "╞════════════╪══════╪════════╡\n",
              "│ 102        ┆ 2020 ┆ 52000  │\n",
              "│ 102        ┆ 2021 ┆ 53000  │\n",
              "│ 102        ┆ 2022 ┆ 54000  │\n",
              "│ 105        ┆ 2020 ┆ 73000  │\n",
              "│ …          ┆ …    ┆ …      │\n",
              "│ 110        ┆ 2022 ┆ 61000  │\n",
              "│ 111        ┆ 2020 ┆ 72000  │\n",
              "│ 111        ┆ 2021 ┆ 73000  │\n",
              "│ 111        ┆ 2022 ┆ 74000  │\n",
              "└────────────┴──────┴────────┘"
            ],
            "text/html": [
              "<div><style>\n",
              ".dataframe > thead > tr,\n",
              ".dataframe > tbody > tr {\n",
              "  text-align: right;\n",
              "  white-space: pre-wrap;\n",
              "}\n",
              "</style>\n",
              "<small>shape: (18, 3)</small><table border=\"1\" class=\"dataframe\"><thead><tr><th>EmployeeID</th><th>Year</th><th>Salary</th></tr><tr><td>i64</td><td>i64</td><td>i64</td></tr></thead><tbody><tr><td>102</td><td>2020</td><td>52000</td></tr><tr><td>102</td><td>2021</td><td>53000</td></tr><tr><td>102</td><td>2022</td><td>54000</td></tr><tr><td>105</td><td>2020</td><td>73000</td></tr><tr><td>105</td><td>2021</td><td>74000</td></tr><tr><td>105</td><td>2022</td><td>75000</td></tr><tr><td>106</td><td>2020</td><td>82000</td></tr><tr><td>106</td><td>2021</td><td>84000</td></tr><tr><td>106</td><td>2022</td><td>86000</td></tr><tr><td>108</td><td>2020</td><td>93000</td></tr><tr><td>108</td><td>2021</td><td>95000</td></tr><tr><td>108</td><td>2022</td><td>96000</td></tr><tr><td>110</td><td>2020</td><td>58000</td></tr><tr><td>110</td><td>2021</td><td>59000</td></tr><tr><td>110</td><td>2022</td><td>61000</td></tr><tr><td>111</td><td>2020</td><td>72000</td></tr><tr><td>111</td><td>2021</td><td>73000</td></tr><tr><td>111</td><td>2022</td><td>74000</td></tr></tbody></table></div>"
            ]
          },
          "metadata": {},
          "execution_count": 4
        }
      ],
      "source": [
        "url3 = \"https://github.com/AKerby/dsci_325_module_7_more_data_management_in_python/raw/main/sample_data/salary.csv\"\n",
        "salary = pl.read_csv(url3)\n",
        "salary"
      ]
    },
    {
      "cell_type": "markdown",
      "id": "a0c27ff8",
      "metadata": {
        "id": "a0c27ff8"
      },
      "source": [
        "## LEFT JOIN"
      ]
    },
    {
      "cell_type": "code",
      "execution_count": 6,
      "id": "eb99c54b",
      "metadata": {
        "scrolled": true,
        "id": "eb99c54b",
        "outputId": "76e7ba80-8747-4d40-c52c-ac3b9a0e338b",
        "colab": {
          "base_uri": "https://localhost:8080/",
          "height": 286
        }
      },
      "outputs": [
        {
          "output_type": "execute_result",
          "data": {
            "text/plain": [
              "shape: (6, 4)\n",
              "┌────────────┬────────────┬────────┬─────────────┐\n",
              "│ LastName   ┆ EmployeeID ┆ DeptID ┆ DeptName    │\n",
              "│ ---        ┆ ---        ┆ ---    ┆ ---         │\n",
              "│ str        ┆ i64        ┆ i64    ┆ str         │\n",
              "╞════════════╪════════════╪════════╪═════════════╡\n",
              "│ Rafferty   ┆ 102        ┆ 31     ┆ Sales       │\n",
              "│ Jones      ┆ 105        ┆ 33     ┆ Engineering │\n",
              "│ Heisenberg ┆ 106        ┆ 33     ┆ Engineering │\n",
              "│ Robinson   ┆ 108        ┆ 34     ┆ Clerical    │\n",
              "│ Smith      ┆ 110        ┆ 34     ┆ Clerical    │\n",
              "│ Williams   ┆ 111        ┆ null   ┆ null        │\n",
              "└────────────┴────────────┴────────┴─────────────┘"
            ],
            "text/html": [
              "<div><style>\n",
              ".dataframe > thead > tr,\n",
              ".dataframe > tbody > tr {\n",
              "  text-align: right;\n",
              "  white-space: pre-wrap;\n",
              "}\n",
              "</style>\n",
              "<small>shape: (6, 4)</small><table border=\"1\" class=\"dataframe\"><thead><tr><th>LastName</th><th>EmployeeID</th><th>DeptID</th><th>DeptName</th></tr><tr><td>str</td><td>i64</td><td>i64</td><td>str</td></tr></thead><tbody><tr><td>&quot;Rafferty&quot;</td><td>102</td><td>31</td><td>&quot;Sales&quot;</td></tr><tr><td>&quot;Jones&quot;</td><td>105</td><td>33</td><td>&quot;Engineering&quot;</td></tr><tr><td>&quot;Heisenberg&quot;</td><td>106</td><td>33</td><td>&quot;Engineering&quot;</td></tr><tr><td>&quot;Robinson&quot;</td><td>108</td><td>34</td><td>&quot;Clerical&quot;</td></tr><tr><td>&quot;Smith&quot;</td><td>110</td><td>34</td><td>&quot;Clerical&quot;</td></tr><tr><td>&quot;Williams&quot;</td><td>111</td><td>null</td><td>null</td></tr></tbody></table></div>"
            ]
          },
          "metadata": {},
          "execution_count": 6
        }
      ],
      "source": [
        "empl.join(dept, on='DeptID', how='left')"
      ]
    },
    {
      "cell_type": "markdown",
      "id": "3e646506",
      "metadata": {
        "id": "3e646506"
      },
      "source": [
        "## When the index names differ"
      ]
    },
    {
      "cell_type": "code",
      "execution_count": 9,
      "id": "90d5d469",
      "metadata": {
        "id": "90d5d469",
        "outputId": "ed31ab7e-4f36-4eea-e66c-0bcd9cf6831b",
        "colab": {
          "base_uri": "https://localhost:8080/",
          "height": 286
        }
      },
      "outputs": [
        {
          "output_type": "execute_result",
          "data": {
            "text/plain": [
              "shape: (6, 3)\n",
              "┌────────────┬────────────┬─────────┐\n",
              "│ LastName   ┆ EmployeeID ┆ dept_id │\n",
              "│ ---        ┆ ---        ┆ ---     │\n",
              "│ str        ┆ i64        ┆ i64     │\n",
              "╞════════════╪════════════╪═════════╡\n",
              "│ Rafferty   ┆ 102        ┆ 31      │\n",
              "│ Jones      ┆ 105        ┆ 33      │\n",
              "│ Heisenberg ┆ 106        ┆ 33      │\n",
              "│ Robinson   ┆ 108        ┆ 34      │\n",
              "│ Smith      ┆ 110        ┆ 34      │\n",
              "│ Williams   ┆ 111        ┆ null    │\n",
              "└────────────┴────────────┴─────────┘"
            ],
            "text/html": [
              "<div><style>\n",
              ".dataframe > thead > tr,\n",
              ".dataframe > tbody > tr {\n",
              "  text-align: right;\n",
              "  white-space: pre-wrap;\n",
              "}\n",
              "</style>\n",
              "<small>shape: (6, 3)</small><table border=\"1\" class=\"dataframe\"><thead><tr><th>LastName</th><th>EmployeeID</th><th>dept_id</th></tr><tr><td>str</td><td>i64</td><td>i64</td></tr></thead><tbody><tr><td>&quot;Rafferty&quot;</td><td>102</td><td>31</td></tr><tr><td>&quot;Jones&quot;</td><td>105</td><td>33</td></tr><tr><td>&quot;Heisenberg&quot;</td><td>106</td><td>33</td></tr><tr><td>&quot;Robinson&quot;</td><td>108</td><td>34</td></tr><tr><td>&quot;Smith&quot;</td><td>110</td><td>34</td></tr><tr><td>&quot;Williams&quot;</td><td>111</td><td>null</td></tr></tbody></table></div>"
            ]
          },
          "metadata": {},
          "execution_count": 9
        }
      ],
      "source": [
        "empl2 = empl.rename({'DeptID':'dept_id'})\n",
        "empl2"
      ]
    },
    {
      "cell_type": "code",
      "execution_count": 10,
      "id": "b236f9e7",
      "metadata": {
        "scrolled": true,
        "id": "b236f9e7",
        "outputId": "288e2e95-f4bc-4da4-8b66-4d158cba7cc5",
        "colab": {
          "base_uri": "https://localhost:8080/",
          "height": 286
        }
      },
      "outputs": [
        {
          "output_type": "execute_result",
          "data": {
            "text/plain": [
              "shape: (6, 4)\n",
              "┌────────────┬────────────┬─────────┬─────────────┐\n",
              "│ LastName   ┆ EmployeeID ┆ dept_id ┆ DeptName    │\n",
              "│ ---        ┆ ---        ┆ ---     ┆ ---         │\n",
              "│ str        ┆ i64        ┆ i64     ┆ str         │\n",
              "╞════════════╪════════════╪═════════╪═════════════╡\n",
              "│ Rafferty   ┆ 102        ┆ 31      ┆ Sales       │\n",
              "│ Jones      ┆ 105        ┆ 33      ┆ Engineering │\n",
              "│ Heisenberg ┆ 106        ┆ 33      ┆ Engineering │\n",
              "│ Robinson   ┆ 108        ┆ 34      ┆ Clerical    │\n",
              "│ Smith      ┆ 110        ┆ 34      ┆ Clerical    │\n",
              "│ Williams   ┆ 111        ┆ null    ┆ null        │\n",
              "└────────────┴────────────┴─────────┴─────────────┘"
            ],
            "text/html": [
              "<div><style>\n",
              ".dataframe > thead > tr,\n",
              ".dataframe > tbody > tr {\n",
              "  text-align: right;\n",
              "  white-space: pre-wrap;\n",
              "}\n",
              "</style>\n",
              "<small>shape: (6, 4)</small><table border=\"1\" class=\"dataframe\"><thead><tr><th>LastName</th><th>EmployeeID</th><th>dept_id</th><th>DeptName</th></tr><tr><td>str</td><td>i64</td><td>i64</td><td>str</td></tr></thead><tbody><tr><td>&quot;Rafferty&quot;</td><td>102</td><td>31</td><td>&quot;Sales&quot;</td></tr><tr><td>&quot;Jones&quot;</td><td>105</td><td>33</td><td>&quot;Engineering&quot;</td></tr><tr><td>&quot;Heisenberg&quot;</td><td>106</td><td>33</td><td>&quot;Engineering&quot;</td></tr><tr><td>&quot;Robinson&quot;</td><td>108</td><td>34</td><td>&quot;Clerical&quot;</td></tr><tr><td>&quot;Smith&quot;</td><td>110</td><td>34</td><td>&quot;Clerical&quot;</td></tr><tr><td>&quot;Williams&quot;</td><td>111</td><td>null</td><td>null</td></tr></tbody></table></div>"
            ]
          },
          "metadata": {},
          "execution_count": 10
        }
      ],
      "source": [
        "empl2.join(dept, left_on='dept_id', right_on='DeptID', how='left')"
      ]
    },
    {
      "cell_type": "markdown",
      "id": "b97b4331",
      "metadata": {
        "id": "b97b4331"
      },
      "source": [
        "## No RIGHT JOIN, use a LEFT JOIN"
      ]
    },
    {
      "cell_type": "code",
      "execution_count": 11,
      "id": "51eb028c",
      "metadata": {
        "scrolled": true,
        "id": "51eb028c",
        "outputId": "7b85ad0f-8d7b-47fa-e002-7c0764cf0ab8",
        "colab": {
          "base_uri": "https://localhost:8080/",
          "height": 286
        }
      },
      "outputs": [
        {
          "output_type": "execute_result",
          "data": {
            "text/plain": [
              "shape: (6, 4)\n",
              "┌────────┬─────────────┬────────────┬────────────┐\n",
              "│ DeptID ┆ DeptName    ┆ LastName   ┆ EmployeeID │\n",
              "│ ---    ┆ ---         ┆ ---        ┆ ---        │\n",
              "│ i64    ┆ str         ┆ str        ┆ i64        │\n",
              "╞════════╪═════════════╪════════════╪════════════╡\n",
              "│ 31     ┆ Sales       ┆ Rafferty   ┆ 102        │\n",
              "│ 33     ┆ Engineering ┆ Jones      ┆ 105        │\n",
              "│ 33     ┆ Engineering ┆ Heisenberg ┆ 106        │\n",
              "│ 34     ┆ Clerical    ┆ Robinson   ┆ 108        │\n",
              "│ 34     ┆ Clerical    ┆ Smith      ┆ 110        │\n",
              "│ 35     ┆ Marketing   ┆ null       ┆ null       │\n",
              "└────────┴─────────────┴────────────┴────────────┘"
            ],
            "text/html": [
              "<div><style>\n",
              ".dataframe > thead > tr,\n",
              ".dataframe > tbody > tr {\n",
              "  text-align: right;\n",
              "  white-space: pre-wrap;\n",
              "}\n",
              "</style>\n",
              "<small>shape: (6, 4)</small><table border=\"1\" class=\"dataframe\"><thead><tr><th>DeptID</th><th>DeptName</th><th>LastName</th><th>EmployeeID</th></tr><tr><td>i64</td><td>str</td><td>str</td><td>i64</td></tr></thead><tbody><tr><td>31</td><td>&quot;Sales&quot;</td><td>&quot;Rafferty&quot;</td><td>102</td></tr><tr><td>33</td><td>&quot;Engineering&quot;</td><td>&quot;Jones&quot;</td><td>105</td></tr><tr><td>33</td><td>&quot;Engineering&quot;</td><td>&quot;Heisenberg&quot;</td><td>106</td></tr><tr><td>34</td><td>&quot;Clerical&quot;</td><td>&quot;Robinson&quot;</td><td>108</td></tr><tr><td>34</td><td>&quot;Clerical&quot;</td><td>&quot;Smith&quot;</td><td>110</td></tr><tr><td>35</td><td>&quot;Marketing&quot;</td><td>null</td><td>null</td></tr></tbody></table></div>"
            ]
          },
          "metadata": {},
          "execution_count": 11
        }
      ],
      "source": [
        "dept.join(empl, on='DeptID', how='left')"
      ]
    },
    {
      "cell_type": "markdown",
      "id": "a4b95613",
      "metadata": {
        "id": "a4b95613"
      },
      "source": [
        "## Full Outer Join"
      ]
    },
    {
      "cell_type": "code",
      "execution_count": 14,
      "id": "eb1b0c41",
      "metadata": {
        "scrolled": true,
        "id": "eb1b0c41",
        "outputId": "ef4e5faa-c240-42f5-ea2e-069b9de8ba23",
        "colab": {
          "base_uri": "https://localhost:8080/",
          "height": 318
        }
      },
      "outputs": [
        {
          "output_type": "execute_result",
          "data": {
            "text/plain": [
              "shape: (7, 5)\n",
              "┌────────────┬────────────┬────────┬──────────────┬─────────────┐\n",
              "│ LastName   ┆ EmployeeID ┆ DeptID ┆ DeptID_right ┆ DeptName    │\n",
              "│ ---        ┆ ---        ┆ ---    ┆ ---          ┆ ---         │\n",
              "│ str        ┆ i64        ┆ i64    ┆ i64          ┆ str         │\n",
              "╞════════════╪════════════╪════════╪══════════════╪═════════════╡\n",
              "│ Rafferty   ┆ 102        ┆ 31     ┆ 31           ┆ Sales       │\n",
              "│ Jones      ┆ 105        ┆ 33     ┆ 33           ┆ Engineering │\n",
              "│ Heisenberg ┆ 106        ┆ 33     ┆ 33           ┆ Engineering │\n",
              "│ Robinson   ┆ 108        ┆ 34     ┆ 34           ┆ Clerical    │\n",
              "│ Smith      ┆ 110        ┆ 34     ┆ 34           ┆ Clerical    │\n",
              "│ Williams   ┆ 111        ┆ null   ┆ null         ┆ null        │\n",
              "│ null       ┆ null       ┆ null   ┆ 35           ┆ Marketing   │\n",
              "└────────────┴────────────┴────────┴──────────────┴─────────────┘"
            ],
            "text/html": [
              "<div><style>\n",
              ".dataframe > thead > tr,\n",
              ".dataframe > tbody > tr {\n",
              "  text-align: right;\n",
              "  white-space: pre-wrap;\n",
              "}\n",
              "</style>\n",
              "<small>shape: (7, 5)</small><table border=\"1\" class=\"dataframe\"><thead><tr><th>LastName</th><th>EmployeeID</th><th>DeptID</th><th>DeptID_right</th><th>DeptName</th></tr><tr><td>str</td><td>i64</td><td>i64</td><td>i64</td><td>str</td></tr></thead><tbody><tr><td>&quot;Rafferty&quot;</td><td>102</td><td>31</td><td>31</td><td>&quot;Sales&quot;</td></tr><tr><td>&quot;Jones&quot;</td><td>105</td><td>33</td><td>33</td><td>&quot;Engineering&quot;</td></tr><tr><td>&quot;Heisenberg&quot;</td><td>106</td><td>33</td><td>33</td><td>&quot;Engineering&quot;</td></tr><tr><td>&quot;Robinson&quot;</td><td>108</td><td>34</td><td>34</td><td>&quot;Clerical&quot;</td></tr><tr><td>&quot;Smith&quot;</td><td>110</td><td>34</td><td>34</td><td>&quot;Clerical&quot;</td></tr><tr><td>&quot;Williams&quot;</td><td>111</td><td>null</td><td>null</td><td>null</td></tr><tr><td>null</td><td>null</td><td>null</td><td>35</td><td>&quot;Marketing&quot;</td></tr></tbody></table></div>"
            ]
          },
          "metadata": {},
          "execution_count": 14
        }
      ],
      "source": [
        "empl.join(dept, on='DeptID', how='outer')"
      ]
    },
    {
      "cell_type": "markdown",
      "id": "5476d4d1",
      "metadata": {
        "id": "5476d4d1"
      },
      "source": [
        "## Inner Join"
      ]
    },
    {
      "cell_type": "code",
      "execution_count": 15,
      "id": "f1ad6378",
      "metadata": {
        "scrolled": true,
        "id": "f1ad6378",
        "outputId": "b79282be-1411-47b8-8f1e-d7d4ed901ce9",
        "colab": {
          "base_uri": "https://localhost:8080/",
          "height": 255
        }
      },
      "outputs": [
        {
          "output_type": "execute_result",
          "data": {
            "text/plain": [
              "shape: (5, 4)\n",
              "┌────────────┬────────────┬────────┬─────────────┐\n",
              "│ LastName   ┆ EmployeeID ┆ DeptID ┆ DeptName    │\n",
              "│ ---        ┆ ---        ┆ ---    ┆ ---         │\n",
              "│ str        ┆ i64        ┆ i64    ┆ str         │\n",
              "╞════════════╪════════════╪════════╪═════════════╡\n",
              "│ Rafferty   ┆ 102        ┆ 31     ┆ Sales       │\n",
              "│ Jones      ┆ 105        ┆ 33     ┆ Engineering │\n",
              "│ Heisenberg ┆ 106        ┆ 33     ┆ Engineering │\n",
              "│ Robinson   ┆ 108        ┆ 34     ┆ Clerical    │\n",
              "│ Smith      ┆ 110        ┆ 34     ┆ Clerical    │\n",
              "└────────────┴────────────┴────────┴─────────────┘"
            ],
            "text/html": [
              "<div><style>\n",
              ".dataframe > thead > tr,\n",
              ".dataframe > tbody > tr {\n",
              "  text-align: right;\n",
              "  white-space: pre-wrap;\n",
              "}\n",
              "</style>\n",
              "<small>shape: (5, 4)</small><table border=\"1\" class=\"dataframe\"><thead><tr><th>LastName</th><th>EmployeeID</th><th>DeptID</th><th>DeptName</th></tr><tr><td>str</td><td>i64</td><td>i64</td><td>str</td></tr></thead><tbody><tr><td>&quot;Rafferty&quot;</td><td>102</td><td>31</td><td>&quot;Sales&quot;</td></tr><tr><td>&quot;Jones&quot;</td><td>105</td><td>33</td><td>&quot;Engineering&quot;</td></tr><tr><td>&quot;Heisenberg&quot;</td><td>106</td><td>33</td><td>&quot;Engineering&quot;</td></tr><tr><td>&quot;Robinson&quot;</td><td>108</td><td>34</td><td>&quot;Clerical&quot;</td></tr><tr><td>&quot;Smith&quot;</td><td>110</td><td>34</td><td>&quot;Clerical&quot;</td></tr></tbody></table></div>"
            ]
          },
          "metadata": {},
          "execution_count": 15
        }
      ],
      "source": [
        "empl.join(dept, on='DeptID', how='inner')"
      ]
    },
    {
      "cell_type": "markdown",
      "id": "66d6f787",
      "metadata": {
        "id": "66d6f787"
      },
      "source": [
        "## Chaining multiple joins\n",
        "\n",
        "To join more than two tables, simply dot-chain each join onto the first table.\n",
        "\n",
        "```{python}\n",
        "(table1\n",
        " .join(table2, ...)\n",
        " .join(table3, ...)\n",
        ")\n",
        "```"
      ]
    },
    {
      "cell_type": "markdown",
      "id": "f6a0170c",
      "metadata": {
        "id": "f6a0170c"
      },
      "source": [
        "### Example - Average salary by department\n",
        "\n",
        "Suppose we want to compute the average salary for each department, sorted from largest to smallest.  Before performing the query, make sure you understand the relationships between tables.\n",
        "\n",
        "<img src=\"https://github.com/WSU-DataScience/dsci_325_module_7_more_data_management_in_python/raw/main/img/table_relationship.png\" width=\"800\">\n"
      ]
    },
    {
      "cell_type": "markdown",
      "id": "dc1cbefe",
      "metadata": {
        "id": "dc1cbefe"
      },
      "source": [
        "#### Edit 1 - Joining the salary and employee tables\n",
        "\n",
        "**Notes.**\n",
        "\n",
        "1. We can't perform the aggregation until *after* joining the departments and salaries.\n",
        "2. Since we are primarily interested in aggregating salaries, we need to use a *left* join with the salary table on the left.\n",
        "3. To illustrate the coding process, we will show each successive edit in a separate cell.  In practice, all the code would be developed in one cell, but rerun to check the results at each step."
      ]
    },
    {
      "cell_type": "code",
      "execution_count": 16,
      "id": "5d96a57b",
      "metadata": {
        "id": "5d96a57b",
        "outputId": "ad7deb0b-0645-4582-9814-7bb93110df0b",
        "colab": {
          "base_uri": "https://localhost:8080/",
          "height": 255
        }
      },
      "outputs": [
        {
          "output_type": "execute_result",
          "data": {
            "text/plain": [
              "shape: (5, 5)\n",
              "┌────────────┬──────┬────────┬──────────┬────────┐\n",
              "│ EmployeeID ┆ Year ┆ Salary ┆ LastName ┆ DeptID │\n",
              "│ ---        ┆ ---  ┆ ---    ┆ ---      ┆ ---    │\n",
              "│ i64        ┆ i64  ┆ i64    ┆ str      ┆ i64    │\n",
              "╞════════════╪══════╪════════╪══════════╪════════╡\n",
              "│ 102        ┆ 2020 ┆ 52000  ┆ Rafferty ┆ 31     │\n",
              "│ 102        ┆ 2021 ┆ 53000  ┆ Rafferty ┆ 31     │\n",
              "│ 102        ┆ 2022 ┆ 54000  ┆ Rafferty ┆ 31     │\n",
              "│ 105        ┆ 2020 ┆ 73000  ┆ Jones    ┆ 33     │\n",
              "│ 105        ┆ 2021 ┆ 74000  ┆ Jones    ┆ 33     │\n",
              "└────────────┴──────┴────────┴──────────┴────────┘"
            ],
            "text/html": [
              "<div><style>\n",
              ".dataframe > thead > tr,\n",
              ".dataframe > tbody > tr {\n",
              "  text-align: right;\n",
              "  white-space: pre-wrap;\n",
              "}\n",
              "</style>\n",
              "<small>shape: (5, 5)</small><table border=\"1\" class=\"dataframe\"><thead><tr><th>EmployeeID</th><th>Year</th><th>Salary</th><th>LastName</th><th>DeptID</th></tr><tr><td>i64</td><td>i64</td><td>i64</td><td>str</td><td>i64</td></tr></thead><tbody><tr><td>102</td><td>2020</td><td>52000</td><td>&quot;Rafferty&quot;</td><td>31</td></tr><tr><td>102</td><td>2021</td><td>53000</td><td>&quot;Rafferty&quot;</td><td>31</td></tr><tr><td>102</td><td>2022</td><td>54000</td><td>&quot;Rafferty&quot;</td><td>31</td></tr><tr><td>105</td><td>2020</td><td>73000</td><td>&quot;Jones&quot;</td><td>33</td></tr><tr><td>105</td><td>2021</td><td>74000</td><td>&quot;Jones&quot;</td><td>33</td></tr></tbody></table></div>"
            ]
          },
          "metadata": {},
          "execution_count": 16
        }
      ],
      "source": [
        "(salary\n",
        " .join(empl, on='EmployeeID', how='left')\n",
        ").head()"
      ]
    },
    {
      "cell_type": "markdown",
      "id": "4c5f345d",
      "metadata": {
        "id": "4c5f345d"
      },
      "source": [
        "#### Edit 2  - Joining on the departments"
      ]
    },
    {
      "cell_type": "code",
      "execution_count": 17,
      "id": "a569b19c",
      "metadata": {
        "id": "a569b19c",
        "outputId": "9d9a1978-e2cd-4830-b95b-82dd9834072a",
        "colab": {
          "base_uri": "https://localhost:8080/",
          "height": 255
        }
      },
      "outputs": [
        {
          "output_type": "execute_result",
          "data": {
            "text/plain": [
              "shape: (5, 6)\n",
              "┌────────────┬──────┬────────┬──────────┬────────┬─────────────┐\n",
              "│ EmployeeID ┆ Year ┆ Salary ┆ LastName ┆ DeptID ┆ DeptName    │\n",
              "│ ---        ┆ ---  ┆ ---    ┆ ---      ┆ ---    ┆ ---         │\n",
              "│ i64        ┆ i64  ┆ i64    ┆ str      ┆ i64    ┆ str         │\n",
              "╞════════════╪══════╪════════╪══════════╪════════╪═════════════╡\n",
              "│ 102        ┆ 2020 ┆ 52000  ┆ Rafferty ┆ 31     ┆ Sales       │\n",
              "│ 102        ┆ 2021 ┆ 53000  ┆ Rafferty ┆ 31     ┆ Sales       │\n",
              "│ 102        ┆ 2022 ┆ 54000  ┆ Rafferty ┆ 31     ┆ Sales       │\n",
              "│ 105        ┆ 2020 ┆ 73000  ┆ Jones    ┆ 33     ┆ Engineering │\n",
              "│ 105        ┆ 2021 ┆ 74000  ┆ Jones    ┆ 33     ┆ Engineering │\n",
              "└────────────┴──────┴────────┴──────────┴────────┴─────────────┘"
            ],
            "text/html": [
              "<div><style>\n",
              ".dataframe > thead > tr,\n",
              ".dataframe > tbody > tr {\n",
              "  text-align: right;\n",
              "  white-space: pre-wrap;\n",
              "}\n",
              "</style>\n",
              "<small>shape: (5, 6)</small><table border=\"1\" class=\"dataframe\"><thead><tr><th>EmployeeID</th><th>Year</th><th>Salary</th><th>LastName</th><th>DeptID</th><th>DeptName</th></tr><tr><td>i64</td><td>i64</td><td>i64</td><td>str</td><td>i64</td><td>str</td></tr></thead><tbody><tr><td>102</td><td>2020</td><td>52000</td><td>&quot;Rafferty&quot;</td><td>31</td><td>&quot;Sales&quot;</td></tr><tr><td>102</td><td>2021</td><td>53000</td><td>&quot;Rafferty&quot;</td><td>31</td><td>&quot;Sales&quot;</td></tr><tr><td>102</td><td>2022</td><td>54000</td><td>&quot;Rafferty&quot;</td><td>31</td><td>&quot;Sales&quot;</td></tr><tr><td>105</td><td>2020</td><td>73000</td><td>&quot;Jones&quot;</td><td>33</td><td>&quot;Engineering&quot;</td></tr><tr><td>105</td><td>2021</td><td>74000</td><td>&quot;Jones&quot;</td><td>33</td><td>&quot;Engineering&quot;</td></tr></tbody></table></div>"
            ]
          },
          "metadata": {},
          "execution_count": 17
        }
      ],
      "source": [
        "(salary\n",
        " .join(empl, on='EmployeeID', how='left')\n",
        " .join(dept, on='DeptID', how='left')\n",
        ").head()"
      ]
    },
    {
      "cell_type": "markdown",
      "id": "8c0a8c25",
      "metadata": {
        "id": "8c0a8c25"
      },
      "source": [
        "#### Edit 3  - Group and aggregate"
      ]
    },
    {
      "cell_type": "code",
      "execution_count": 25,
      "id": "1767b60d",
      "metadata": {
        "id": "1767b60d",
        "outputId": "67068ec7-cbeb-470d-a1b2-94eb7b7e09e0",
        "colab": {
          "base_uri": "https://localhost:8080/",
          "height": 224
        }
      },
      "outputs": [
        {
          "output_type": "execute_result",
          "data": {
            "text/plain": [
              "shape: (4, 2)\n",
              "┌─────────────┬────────────────┐\n",
              "│ DeptName    ┆ Average Salary │\n",
              "│ ---         ┆ ---            │\n",
              "│ str         ┆ f64            │\n",
              "╞═════════════╪════════════════╡\n",
              "│ Sales       ┆ 53000.0        │\n",
              "│ Engineering ┆ 79000.0        │\n",
              "│ null        ┆ 73000.0        │\n",
              "│ Clerical    ┆ 77000.0        │\n",
              "└─────────────┴────────────────┘"
            ],
            "text/html": [
              "<div><style>\n",
              ".dataframe > thead > tr,\n",
              ".dataframe > tbody > tr {\n",
              "  text-align: right;\n",
              "  white-space: pre-wrap;\n",
              "}\n",
              "</style>\n",
              "<small>shape: (4, 2)</small><table border=\"1\" class=\"dataframe\"><thead><tr><th>DeptName</th><th>Average Salary</th></tr><tr><td>str</td><td>f64</td></tr></thead><tbody><tr><td>&quot;Sales&quot;</td><td>53000.0</td></tr><tr><td>&quot;Engineering&quot;</td><td>79000.0</td></tr><tr><td>null</td><td>73000.0</td></tr><tr><td>&quot;Clerical&quot;</td><td>77000.0</td></tr></tbody></table></div>"
            ]
          },
          "metadata": {},
          "execution_count": 25
        }
      ],
      "source": [
        "(salary\n",
        " .join(empl, on='EmployeeID', how='left')\n",
        " .join(dept, on='DeptID', how='left')\n",
        " .group_by('DeptName')\n",
        " .agg([pl.col('Salary').mean().alias('Average Salary'),\n",
        "      ])\n",
        ")"
      ]
    },
    {
      "cell_type": "markdown",
      "id": "25834b09",
      "metadata": {
        "id": "25834b09"
      },
      "source": [
        "#### Edit 4  - Sort the results from largest to smallest"
      ]
    },
    {
      "cell_type": "code",
      "execution_count": 24,
      "id": "f3d25fc0",
      "metadata": {
        "id": "f3d25fc0",
        "outputId": "fb0028b0-54ce-4a40-b030-9031f63dc146",
        "colab": {
          "base_uri": "https://localhost:8080/",
          "height": 224
        }
      },
      "outputs": [
        {
          "output_type": "execute_result",
          "data": {
            "text/plain": [
              "shape: (4, 2)\n",
              "┌─────────────┬────────────────┐\n",
              "│ DeptName    ┆ Average Salary │\n",
              "│ ---         ┆ ---            │\n",
              "│ str         ┆ f64            │\n",
              "╞═════════════╪════════════════╡\n",
              "│ Engineering ┆ 79000.0        │\n",
              "│ Clerical    ┆ 77000.0        │\n",
              "│ null        ┆ 73000.0        │\n",
              "│ Sales       ┆ 53000.0        │\n",
              "└─────────────┴────────────────┘"
            ],
            "text/html": [
              "<div><style>\n",
              ".dataframe > thead > tr,\n",
              ".dataframe > tbody > tr {\n",
              "  text-align: right;\n",
              "  white-space: pre-wrap;\n",
              "}\n",
              "</style>\n",
              "<small>shape: (4, 2)</small><table border=\"1\" class=\"dataframe\"><thead><tr><th>DeptName</th><th>Average Salary</th></tr><tr><td>str</td><td>f64</td></tr></thead><tbody><tr><td>&quot;Engineering&quot;</td><td>79000.0</td></tr><tr><td>&quot;Clerical&quot;</td><td>77000.0</td></tr><tr><td>null</td><td>73000.0</td></tr><tr><td>&quot;Sales&quot;</td><td>53000.0</td></tr></tbody></table></div>"
            ]
          },
          "metadata": {},
          "execution_count": 24
        }
      ],
      "source": [
        "(salary\n",
        " .join(empl, on='EmployeeID', how='left')\n",
        " .join(dept, on='DeptID', how='left')\n",
        " .group_by('DeptName')\n",
        " .agg([pl.col('Salary').mean().alias('Average Salary'),\n",
        "      ])\n",
        " .sort('Average Salary', descending=True)\n",
        ")"
      ]
    },
    {
      "cell_type": "markdown",
      "id": "e9d70090",
      "metadata": {
        "id": "e9d70090"
      },
      "source": [
        "## Example 2 - Joining Batting to People\n",
        "\n",
        "As an example of a joining on more than 1 column, consider the following task.\n",
        "\n",
        "**Task:** Create a table with the total runs score for each team in 2009.  Include the teams proper name and the name of their home park."
      ]
    },
    {
      "cell_type": "code",
      "execution_count": 26,
      "id": "8cfbe73d",
      "metadata": {
        "id": "8cfbe73d",
        "outputId": "da1456b2-3ea9-4d07-aac0-67da0a91dfa8",
        "colab": {
          "base_uri": "https://localhost:8080/",
          "height": 255
        }
      },
      "outputs": [
        {
          "output_type": "execute_result",
          "data": {
            "text/plain": [
              "shape: (5, 22)\n",
              "┌───────────┬────────┬───────┬────────┬───┬──────┬──────┬──────┬──────┐\n",
              "│ playerID  ┆ yearID ┆ stint ┆ teamID ┆ … ┆ HBP  ┆ SH   ┆ SF   ┆ GIDP │\n",
              "│ ---       ┆ ---    ┆ ---   ┆ ---    ┆   ┆ ---  ┆ ---  ┆ ---  ┆ ---  │\n",
              "│ str       ┆ i64    ┆ i64   ┆ str    ┆   ┆ str  ┆ str  ┆ str  ┆ i64  │\n",
              "╞═══════════╪════════╪═══════╪════════╪═══╪══════╪══════╪══════╪══════╡\n",
              "│ abercda01 ┆ 1871   ┆ 1     ┆ TRO    ┆ … ┆ null ┆ null ┆ null ┆ 0    │\n",
              "│ addybo01  ┆ 1871   ┆ 1     ┆ RC1    ┆ … ┆ null ┆ null ┆ null ┆ 0    │\n",
              "│ allisar01 ┆ 1871   ┆ 1     ┆ CL1    ┆ … ┆ null ┆ null ┆ null ┆ 1    │\n",
              "│ allisdo01 ┆ 1871   ┆ 1     ┆ WS3    ┆ … ┆ null ┆ null ┆ null ┆ 0    │\n",
              "│ ansonca01 ┆ 1871   ┆ 1     ┆ RC1    ┆ … ┆ null ┆ null ┆ null ┆ 0    │\n",
              "└───────────┴────────┴───────┴────────┴───┴──────┴──────┴──────┴──────┘"
            ],
            "text/html": [
              "<div><style>\n",
              ".dataframe > thead > tr,\n",
              ".dataframe > tbody > tr {\n",
              "  text-align: right;\n",
              "  white-space: pre-wrap;\n",
              "}\n",
              "</style>\n",
              "<small>shape: (5, 22)</small><table border=\"1\" class=\"dataframe\"><thead><tr><th>playerID</th><th>yearID</th><th>stint</th><th>teamID</th><th>lgID</th><th>G</th><th>AB</th><th>R</th><th>H</th><th>2B</th><th>3B</th><th>HR</th><th>RBI</th><th>SB</th><th>CS</th><th>BB</th><th>SO</th><th>IBB</th><th>HBP</th><th>SH</th><th>SF</th><th>GIDP</th></tr><tr><td>str</td><td>i64</td><td>i64</td><td>str</td><td>str</td><td>i64</td><td>i64</td><td>i64</td><td>i64</td><td>i64</td><td>i64</td><td>i64</td><td>i64</td><td>i64</td><td>i64</td><td>i64</td><td>i64</td><td>str</td><td>str</td><td>str</td><td>str</td><td>i64</td></tr></thead><tbody><tr><td>&quot;abercda01&quot;</td><td>1871</td><td>1</td><td>&quot;TRO&quot;</td><td>&quot;NA&quot;</td><td>1</td><td>4</td><td>0</td><td>0</td><td>0</td><td>0</td><td>0</td><td>0</td><td>0</td><td>0</td><td>0</td><td>0</td><td>null</td><td>null</td><td>null</td><td>null</td><td>0</td></tr><tr><td>&quot;addybo01&quot;</td><td>1871</td><td>1</td><td>&quot;RC1&quot;</td><td>&quot;NA&quot;</td><td>25</td><td>118</td><td>30</td><td>32</td><td>6</td><td>0</td><td>0</td><td>13</td><td>8</td><td>1</td><td>4</td><td>0</td><td>null</td><td>null</td><td>null</td><td>null</td><td>0</td></tr><tr><td>&quot;allisar01&quot;</td><td>1871</td><td>1</td><td>&quot;CL1&quot;</td><td>&quot;NA&quot;</td><td>29</td><td>137</td><td>28</td><td>40</td><td>4</td><td>5</td><td>0</td><td>19</td><td>3</td><td>1</td><td>2</td><td>5</td><td>null</td><td>null</td><td>null</td><td>null</td><td>1</td></tr><tr><td>&quot;allisdo01&quot;</td><td>1871</td><td>1</td><td>&quot;WS3&quot;</td><td>&quot;NA&quot;</td><td>27</td><td>133</td><td>28</td><td>44</td><td>10</td><td>2</td><td>2</td><td>27</td><td>1</td><td>1</td><td>0</td><td>2</td><td>null</td><td>null</td><td>null</td><td>null</td><td>0</td></tr><tr><td>&quot;ansonca01&quot;</td><td>1871</td><td>1</td><td>&quot;RC1&quot;</td><td>&quot;NA&quot;</td><td>25</td><td>120</td><td>29</td><td>39</td><td>11</td><td>3</td><td>0</td><td>16</td><td>6</td><td>2</td><td>2</td><td>1</td><td>null</td><td>null</td><td>null</td><td>null</td><td>0</td></tr></tbody></table></div>"
            ]
          },
          "metadata": {},
          "execution_count": 26
        }
      ],
      "source": [
        "url4 = \"https://github.com/AKerby/dsci_325_module_7_more_data_management_in_python/raw/main/sample_data/baseball/core/Batting.csv\"\n",
        "batting = pl.read_csv(url4)\n",
        "batting.head()"
      ]
    },
    {
      "cell_type": "code",
      "execution_count": 27,
      "id": "48fae7b6",
      "metadata": {
        "id": "48fae7b6",
        "outputId": "fbaf6327-796a-4240-b53e-666221636643",
        "colab": {
          "base_uri": "https://localhost:8080/",
          "height": 431
        }
      },
      "outputs": [
        {
          "output_type": "execute_result",
          "data": {
            "text/plain": [
              "shape: (5, 48)\n",
              "┌────────┬──────┬────────┬──────────┬───┬─────┬──────────┬────────────────┬─────────────┐\n",
              "│ yearID ┆ lgID ┆ teamID ┆ franchID ┆ … ┆ PPF ┆ teamIDBR ┆ teamIDlahman45 ┆ teamIDretro │\n",
              "│ ---    ┆ ---  ┆ ---    ┆ ---      ┆   ┆ --- ┆ ---      ┆ ---            ┆ ---         │\n",
              "│ i64    ┆ str  ┆ str    ┆ str      ┆   ┆ i64 ┆ str      ┆ str            ┆ str         │\n",
              "╞════════╪══════╪════════╪══════════╪═══╪═════╪══════════╪════════════════╪═════════════╡\n",
              "│ 1871   ┆ NA   ┆ BS1    ┆ BNA      ┆ … ┆ 98  ┆ BOS      ┆ BS1            ┆ BS1         │\n",
              "│ 1871   ┆ NA   ┆ CH1    ┆ CNA      ┆ … ┆ 102 ┆ CHI      ┆ CH1            ┆ CH1         │\n",
              "│ 1871   ┆ NA   ┆ CL1    ┆ CFC      ┆ … ┆ 100 ┆ CLE      ┆ CL1            ┆ CL1         │\n",
              "│ 1871   ┆ NA   ┆ FW1    ┆ KEK      ┆ … ┆ 107 ┆ KEK      ┆ FW1            ┆ FW1         │\n",
              "│ 1871   ┆ NA   ┆ NY2    ┆ NNA      ┆ … ┆ 88  ┆ NYU      ┆ NY2            ┆ NY2         │\n",
              "└────────┴──────┴────────┴──────────┴───┴─────┴──────────┴────────────────┴─────────────┘"
            ],
            "text/html": [
              "<div><style>\n",
              ".dataframe > thead > tr,\n",
              ".dataframe > tbody > tr {\n",
              "  text-align: right;\n",
              "  white-space: pre-wrap;\n",
              "}\n",
              "</style>\n",
              "<small>shape: (5, 48)</small><table border=\"1\" class=\"dataframe\"><thead><tr><th>yearID</th><th>lgID</th><th>teamID</th><th>franchID</th><th>divID</th><th>Rank</th><th>G</th><th>Ghome</th><th>W</th><th>L</th><th>DivWin</th><th>WCWin</th><th>LgWin</th><th>WSWin</th><th>R</th><th>AB</th><th>H</th><th>2B</th><th>3B</th><th>HR</th><th>BB</th><th>SO</th><th>SB</th><th>CS</th><th>HBP</th><th>SF</th><th>RA</th><th>ER</th><th>ERA</th><th>CG</th><th>SHO</th><th>SV</th><th>IPouts</th><th>HA</th><th>HRA</th><th>BBA</th><th>SOA</th><th>E</th><th>DP</th><th>FP</th><th>name</th><th>park</th><th>attendance</th><th>BPF</th><th>PPF</th><th>teamIDBR</th><th>teamIDlahman45</th><th>teamIDretro</th></tr><tr><td>i64</td><td>str</td><td>str</td><td>str</td><td>str</td><td>i64</td><td>i64</td><td>str</td><td>i64</td><td>i64</td><td>str</td><td>str</td><td>str</td><td>str</td><td>i64</td><td>i64</td><td>i64</td><td>i64</td><td>i64</td><td>i64</td><td>i64</td><td>i64</td><td>i64</td><td>i64</td><td>str</td><td>str</td><td>i64</td><td>i64</td><td>f64</td><td>i64</td><td>i64</td><td>i64</td><td>i64</td><td>i64</td><td>i64</td><td>i64</td><td>i64</td><td>i64</td><td>i64</td><td>f64</td><td>str</td><td>str</td><td>str</td><td>i64</td><td>i64</td><td>str</td><td>str</td><td>str</td></tr></thead><tbody><tr><td>1871</td><td>&quot;NA&quot;</td><td>&quot;BS1&quot;</td><td>&quot;BNA&quot;</td><td>null</td><td>3</td><td>31</td><td>null</td><td>20</td><td>10</td><td>null</td><td>null</td><td>&quot;N&quot;</td><td>null</td><td>401</td><td>1372</td><td>426</td><td>70</td><td>37</td><td>3</td><td>60</td><td>19</td><td>73</td><td>16</td><td>null</td><td>null</td><td>303</td><td>109</td><td>3.55</td><td>22</td><td>1</td><td>3</td><td>828</td><td>367</td><td>2</td><td>42</td><td>23</td><td>243</td><td>24</td><td>0.834</td><td>&quot;Boston Red Sto…</td><td>&quot;South End Grou…</td><td>null</td><td>103</td><td>98</td><td>&quot;BOS&quot;</td><td>&quot;BS1&quot;</td><td>&quot;BS1&quot;</td></tr><tr><td>1871</td><td>&quot;NA&quot;</td><td>&quot;CH1&quot;</td><td>&quot;CNA&quot;</td><td>null</td><td>2</td><td>28</td><td>null</td><td>19</td><td>9</td><td>null</td><td>null</td><td>&quot;N&quot;</td><td>null</td><td>302</td><td>1196</td><td>323</td><td>52</td><td>21</td><td>10</td><td>60</td><td>22</td><td>69</td><td>21</td><td>null</td><td>null</td><td>241</td><td>77</td><td>2.76</td><td>25</td><td>0</td><td>1</td><td>753</td><td>308</td><td>6</td><td>28</td><td>22</td><td>229</td><td>16</td><td>0.829</td><td>&quot;Chicago White …</td><td>&quot;Union Base-Bal…</td><td>null</td><td>104</td><td>102</td><td>&quot;CHI&quot;</td><td>&quot;CH1&quot;</td><td>&quot;CH1&quot;</td></tr><tr><td>1871</td><td>&quot;NA&quot;</td><td>&quot;CL1&quot;</td><td>&quot;CFC&quot;</td><td>null</td><td>8</td><td>29</td><td>null</td><td>10</td><td>19</td><td>null</td><td>null</td><td>&quot;N&quot;</td><td>null</td><td>249</td><td>1186</td><td>328</td><td>35</td><td>40</td><td>7</td><td>26</td><td>25</td><td>18</td><td>8</td><td>null</td><td>null</td><td>341</td><td>116</td><td>4.11</td><td>23</td><td>0</td><td>0</td><td>762</td><td>346</td><td>13</td><td>53</td><td>34</td><td>234</td><td>15</td><td>0.818</td><td>&quot;Cleveland Fore…</td><td>&quot;National Assoc…</td><td>null</td><td>96</td><td>100</td><td>&quot;CLE&quot;</td><td>&quot;CL1&quot;</td><td>&quot;CL1&quot;</td></tr><tr><td>1871</td><td>&quot;NA&quot;</td><td>&quot;FW1&quot;</td><td>&quot;KEK&quot;</td><td>null</td><td>7</td><td>19</td><td>null</td><td>7</td><td>12</td><td>null</td><td>null</td><td>&quot;N&quot;</td><td>null</td><td>137</td><td>746</td><td>178</td><td>19</td><td>8</td><td>2</td><td>33</td><td>9</td><td>16</td><td>4</td><td>null</td><td>null</td><td>243</td><td>97</td><td>5.17</td><td>19</td><td>1</td><td>0</td><td>507</td><td>261</td><td>5</td><td>21</td><td>17</td><td>163</td><td>8</td><td>0.803</td><td>&quot;Fort Wayne Kek…</td><td>&quot;Hamilton Field…</td><td>null</td><td>101</td><td>107</td><td>&quot;KEK&quot;</td><td>&quot;FW1&quot;</td><td>&quot;FW1&quot;</td></tr><tr><td>1871</td><td>&quot;NA&quot;</td><td>&quot;NY2&quot;</td><td>&quot;NNA&quot;</td><td>null</td><td>5</td><td>33</td><td>null</td><td>16</td><td>17</td><td>null</td><td>null</td><td>&quot;N&quot;</td><td>null</td><td>302</td><td>1404</td><td>403</td><td>43</td><td>21</td><td>1</td><td>33</td><td>15</td><td>46</td><td>15</td><td>null</td><td>null</td><td>313</td><td>121</td><td>3.72</td><td>32</td><td>1</td><td>0</td><td>879</td><td>373</td><td>7</td><td>42</td><td>22</td><td>235</td><td>14</td><td>0.84</td><td>&quot;New York Mutua…</td><td>&quot;Union Grounds …</td><td>null</td><td>90</td><td>88</td><td>&quot;NYU&quot;</td><td>&quot;NY2&quot;</td><td>&quot;NY2&quot;</td></tr></tbody></table></div>"
            ]
          },
          "metadata": {},
          "execution_count": 27
        }
      ],
      "source": [
        "url5 = \"https://github.com/AKerby/dsci_325_module_7_more_data_management_in_python/raw/main/sample_data/baseball/core/Teams.csv\"\n",
        "teams = pl.read_csv(url5)\n",
        "teams.head()"
      ]
    },
    {
      "cell_type": "markdown",
      "id": "e7517e07",
      "metadata": {
        "id": "e7517e07"
      },
      "source": [
        "## Things we need from `Batting.csv`\n",
        "\n",
        "* Year\n",
        "* Runs\n",
        "* Team"
      ]
    },
    {
      "cell_type": "code",
      "execution_count": 28,
      "id": "b9c81f54",
      "metadata": {
        "scrolled": true,
        "id": "b9c81f54",
        "outputId": "45c23ad1-6a30-4862-ffe9-48501bb99da0",
        "colab": {
          "base_uri": "https://localhost:8080/",
          "height": 161
        }
      },
      "outputs": [
        {
          "output_type": "execute_result",
          "data": {
            "text/plain": [
              "shape: (2, 22)\n",
              "┌───────────┬────────┬───────┬────────┬───┬──────┬──────┬──────┬──────┐\n",
              "│ playerID  ┆ yearID ┆ stint ┆ teamID ┆ … ┆ HBP  ┆ SH   ┆ SF   ┆ GIDP │\n",
              "│ ---       ┆ ---    ┆ ---   ┆ ---    ┆   ┆ ---  ┆ ---  ┆ ---  ┆ ---  │\n",
              "│ str       ┆ i64    ┆ i64   ┆ str    ┆   ┆ str  ┆ str  ┆ str  ┆ i64  │\n",
              "╞═══════════╪════════╪═══════╪════════╪═══╪══════╪══════╪══════╪══════╡\n",
              "│ abercda01 ┆ 1871   ┆ 1     ┆ TRO    ┆ … ┆ null ┆ null ┆ null ┆ 0    │\n",
              "│ addybo01  ┆ 1871   ┆ 1     ┆ RC1    ┆ … ┆ null ┆ null ┆ null ┆ 0    │\n",
              "└───────────┴────────┴───────┴────────┴───┴──────┴──────┴──────┴──────┘"
            ],
            "text/html": [
              "<div><style>\n",
              ".dataframe > thead > tr,\n",
              ".dataframe > tbody > tr {\n",
              "  text-align: right;\n",
              "  white-space: pre-wrap;\n",
              "}\n",
              "</style>\n",
              "<small>shape: (2, 22)</small><table border=\"1\" class=\"dataframe\"><thead><tr><th>playerID</th><th>yearID</th><th>stint</th><th>teamID</th><th>lgID</th><th>G</th><th>AB</th><th>R</th><th>H</th><th>2B</th><th>3B</th><th>HR</th><th>RBI</th><th>SB</th><th>CS</th><th>BB</th><th>SO</th><th>IBB</th><th>HBP</th><th>SH</th><th>SF</th><th>GIDP</th></tr><tr><td>str</td><td>i64</td><td>i64</td><td>str</td><td>str</td><td>i64</td><td>i64</td><td>i64</td><td>i64</td><td>i64</td><td>i64</td><td>i64</td><td>i64</td><td>i64</td><td>i64</td><td>i64</td><td>i64</td><td>str</td><td>str</td><td>str</td><td>str</td><td>i64</td></tr></thead><tbody><tr><td>&quot;abercda01&quot;</td><td>1871</td><td>1</td><td>&quot;TRO&quot;</td><td>&quot;NA&quot;</td><td>1</td><td>4</td><td>0</td><td>0</td><td>0</td><td>0</td><td>0</td><td>0</td><td>0</td><td>0</td><td>0</td><td>0</td><td>null</td><td>null</td><td>null</td><td>null</td><td>0</td></tr><tr><td>&quot;addybo01&quot;</td><td>1871</td><td>1</td><td>&quot;RC1&quot;</td><td>&quot;NA&quot;</td><td>25</td><td>118</td><td>30</td><td>32</td><td>6</td><td>0</td><td>0</td><td>13</td><td>8</td><td>1</td><td>4</td><td>0</td><td>null</td><td>null</td><td>null</td><td>null</td><td>0</td></tr></tbody></table></div>"
            ]
          },
          "metadata": {},
          "execution_count": 28
        }
      ],
      "source": [
        "batting.head(2)"
      ]
    },
    {
      "cell_type": "markdown",
      "id": "4b9f507b",
      "metadata": {
        "id": "4b9f507b"
      },
      "source": [
        "#### Selecting down to the necessary columns"
      ]
    },
    {
      "cell_type": "code",
      "execution_count": 29,
      "id": "7d763545",
      "metadata": {
        "id": "7d763545",
        "outputId": "3cf8a488-136e-4a53-85f0-b6f3f68de5ff",
        "colab": {
          "base_uri": "https://localhost:8080/",
          "height": 255
        }
      },
      "outputs": [
        {
          "output_type": "execute_result",
          "data": {
            "text/plain": [
              "shape: (5, 3)\n",
              "┌────────┬────────┬─────┐\n",
              "│ teamID ┆ yearID ┆ R   │\n",
              "│ ---    ┆ ---    ┆ --- │\n",
              "│ str    ┆ i64    ┆ i64 │\n",
              "╞════════╪════════╪═════╡\n",
              "│ TRO    ┆ 1871   ┆ 0   │\n",
              "│ RC1    ┆ 1871   ┆ 30  │\n",
              "│ CL1    ┆ 1871   ┆ 28  │\n",
              "│ WS3    ┆ 1871   ┆ 28  │\n",
              "│ RC1    ┆ 1871   ┆ 29  │\n",
              "└────────┴────────┴─────┘"
            ],
            "text/html": [
              "<div><style>\n",
              ".dataframe > thead > tr,\n",
              ".dataframe > tbody > tr {\n",
              "  text-align: right;\n",
              "  white-space: pre-wrap;\n",
              "}\n",
              "</style>\n",
              "<small>shape: (5, 3)</small><table border=\"1\" class=\"dataframe\"><thead><tr><th>teamID</th><th>yearID</th><th>R</th></tr><tr><td>str</td><td>i64</td><td>i64</td></tr></thead><tbody><tr><td>&quot;TRO&quot;</td><td>1871</td><td>0</td></tr><tr><td>&quot;RC1&quot;</td><td>1871</td><td>30</td></tr><tr><td>&quot;CL1&quot;</td><td>1871</td><td>28</td></tr><tr><td>&quot;WS3&quot;</td><td>1871</td><td>28</td></tr><tr><td>&quot;RC1&quot;</td><td>1871</td><td>29</td></tr></tbody></table></div>"
            ]
          },
          "metadata": {},
          "execution_count": 29
        }
      ],
      "source": [
        "batting_select = (batting\n",
        "                  .select(['teamID',\n",
        "                           'yearID',\n",
        "                           'R'])\n",
        "                 )\n",
        "batting_select.head()"
      ]
    },
    {
      "cell_type": "code",
      "execution_count": 30,
      "id": "abda9540",
      "metadata": {
        "id": "abda9540",
        "outputId": "dedd12bc-f5d0-422b-9a62-1d9a9b229b1f",
        "colab": {
          "base_uri": "https://localhost:8080/"
        }
      },
      "outputs": [
        {
          "output_type": "execute_result",
          "data": {
            "text/plain": [
              "(107429, 3)"
            ]
          },
          "metadata": {},
          "execution_count": 30
        }
      ],
      "source": [
        "batting_select.shape"
      ]
    },
    {
      "cell_type": "markdown",
      "id": "9b9bba04",
      "metadata": {
        "id": "9b9bba04"
      },
      "source": [
        "## Things we need from `Teams.csv`\n",
        "\n",
        "* Year\n",
        "* Runs\n",
        "* Team"
      ]
    },
    {
      "cell_type": "code",
      "execution_count": 31,
      "id": "f9f71cc6",
      "metadata": {
        "scrolled": true,
        "id": "f9f71cc6",
        "outputId": "80ebbc02-f2be-476e-875c-efd3a2c2d7b7",
        "colab": {
          "base_uri": "https://localhost:8080/",
          "height": 250
        }
      },
      "outputs": [
        {
          "output_type": "execute_result",
          "data": {
            "text/plain": [
              "shape: (2, 48)\n",
              "┌────────┬──────┬────────┬──────────┬───┬─────┬──────────┬────────────────┬─────────────┐\n",
              "│ yearID ┆ lgID ┆ teamID ┆ franchID ┆ … ┆ PPF ┆ teamIDBR ┆ teamIDlahman45 ┆ teamIDretro │\n",
              "│ ---    ┆ ---  ┆ ---    ┆ ---      ┆   ┆ --- ┆ ---      ┆ ---            ┆ ---         │\n",
              "│ i64    ┆ str  ┆ str    ┆ str      ┆   ┆ i64 ┆ str      ┆ str            ┆ str         │\n",
              "╞════════╪══════╪════════╪══════════╪═══╪═════╪══════════╪════════════════╪═════════════╡\n",
              "│ 1871   ┆ NA   ┆ BS1    ┆ BNA      ┆ … ┆ 98  ┆ BOS      ┆ BS1            ┆ BS1         │\n",
              "│ 1871   ┆ NA   ┆ CH1    ┆ CNA      ┆ … ┆ 102 ┆ CHI      ┆ CH1            ┆ CH1         │\n",
              "└────────┴──────┴────────┴──────────┴───┴─────┴──────────┴────────────────┴─────────────┘"
            ],
            "text/html": [
              "<div><style>\n",
              ".dataframe > thead > tr,\n",
              ".dataframe > tbody > tr {\n",
              "  text-align: right;\n",
              "  white-space: pre-wrap;\n",
              "}\n",
              "</style>\n",
              "<small>shape: (2, 48)</small><table border=\"1\" class=\"dataframe\"><thead><tr><th>yearID</th><th>lgID</th><th>teamID</th><th>franchID</th><th>divID</th><th>Rank</th><th>G</th><th>Ghome</th><th>W</th><th>L</th><th>DivWin</th><th>WCWin</th><th>LgWin</th><th>WSWin</th><th>R</th><th>AB</th><th>H</th><th>2B</th><th>3B</th><th>HR</th><th>BB</th><th>SO</th><th>SB</th><th>CS</th><th>HBP</th><th>SF</th><th>RA</th><th>ER</th><th>ERA</th><th>CG</th><th>SHO</th><th>SV</th><th>IPouts</th><th>HA</th><th>HRA</th><th>BBA</th><th>SOA</th><th>E</th><th>DP</th><th>FP</th><th>name</th><th>park</th><th>attendance</th><th>BPF</th><th>PPF</th><th>teamIDBR</th><th>teamIDlahman45</th><th>teamIDretro</th></tr><tr><td>i64</td><td>str</td><td>str</td><td>str</td><td>str</td><td>i64</td><td>i64</td><td>str</td><td>i64</td><td>i64</td><td>str</td><td>str</td><td>str</td><td>str</td><td>i64</td><td>i64</td><td>i64</td><td>i64</td><td>i64</td><td>i64</td><td>i64</td><td>i64</td><td>i64</td><td>i64</td><td>str</td><td>str</td><td>i64</td><td>i64</td><td>f64</td><td>i64</td><td>i64</td><td>i64</td><td>i64</td><td>i64</td><td>i64</td><td>i64</td><td>i64</td><td>i64</td><td>i64</td><td>f64</td><td>str</td><td>str</td><td>str</td><td>i64</td><td>i64</td><td>str</td><td>str</td><td>str</td></tr></thead><tbody><tr><td>1871</td><td>&quot;NA&quot;</td><td>&quot;BS1&quot;</td><td>&quot;BNA&quot;</td><td>null</td><td>3</td><td>31</td><td>null</td><td>20</td><td>10</td><td>null</td><td>null</td><td>&quot;N&quot;</td><td>null</td><td>401</td><td>1372</td><td>426</td><td>70</td><td>37</td><td>3</td><td>60</td><td>19</td><td>73</td><td>16</td><td>null</td><td>null</td><td>303</td><td>109</td><td>3.55</td><td>22</td><td>1</td><td>3</td><td>828</td><td>367</td><td>2</td><td>42</td><td>23</td><td>243</td><td>24</td><td>0.834</td><td>&quot;Boston Red Sto…</td><td>&quot;South End Grou…</td><td>null</td><td>103</td><td>98</td><td>&quot;BOS&quot;</td><td>&quot;BS1&quot;</td><td>&quot;BS1&quot;</td></tr><tr><td>1871</td><td>&quot;NA&quot;</td><td>&quot;CH1&quot;</td><td>&quot;CNA&quot;</td><td>null</td><td>2</td><td>28</td><td>null</td><td>19</td><td>9</td><td>null</td><td>null</td><td>&quot;N&quot;</td><td>null</td><td>302</td><td>1196</td><td>323</td><td>52</td><td>21</td><td>10</td><td>60</td><td>22</td><td>69</td><td>21</td><td>null</td><td>null</td><td>241</td><td>77</td><td>2.76</td><td>25</td><td>0</td><td>1</td><td>753</td><td>308</td><td>6</td><td>28</td><td>22</td><td>229</td><td>16</td><td>0.829</td><td>&quot;Chicago White …</td><td>&quot;Union Base-Bal…</td><td>null</td><td>104</td><td>102</td><td>&quot;CHI&quot;</td><td>&quot;CH1&quot;</td><td>&quot;CH1&quot;</td></tr></tbody></table></div>"
            ]
          },
          "metadata": {},
          "execution_count": 31
        }
      ],
      "source": [
        "teams.head(2)"
      ]
    },
    {
      "cell_type": "markdown",
      "id": "9c048e2a",
      "metadata": {
        "id": "9c048e2a"
      },
      "source": [
        "#### Selecting down to the necessary columns"
      ]
    },
    {
      "cell_type": "code",
      "execution_count": 32,
      "id": "89088a93",
      "metadata": {
        "scrolled": true,
        "id": "89088a93",
        "outputId": "a528ee20-5a4c-43d4-e643-055c8d0fdda5",
        "colab": {
          "base_uri": "https://localhost:8080/",
          "height": 255
        }
      },
      "outputs": [
        {
          "output_type": "execute_result",
          "data": {
            "text/plain": [
              "shape: (5, 4)\n",
              "┌────────┬────────┬─────────────────────────┬──────────────────────────────┐\n",
              "│ yearID ┆ teamID ┆ name                    ┆ park                         │\n",
              "│ ---    ┆ ---    ┆ ---                     ┆ ---                          │\n",
              "│ i64    ┆ str    ┆ str                     ┆ str                          │\n",
              "╞════════╪════════╪═════════════════════════╪══════════════════════════════╡\n",
              "│ 1871   ┆ BS1    ┆ Boston Red Stockings    ┆ South End Grounds I          │\n",
              "│ 1871   ┆ CH1    ┆ Chicago White Stockings ┆ Union Base-Ball Grounds      │\n",
              "│ 1871   ┆ CL1    ┆ Cleveland Forest Citys  ┆ National Association Grounds │\n",
              "│ 1871   ┆ FW1    ┆ Fort Wayne Kekiongas    ┆ Hamilton Field               │\n",
              "│ 1871   ┆ NY2    ┆ New York Mutuals        ┆ Union Grounds (Brooklyn)     │\n",
              "└────────┴────────┴─────────────────────────┴──────────────────────────────┘"
            ],
            "text/html": [
              "<div><style>\n",
              ".dataframe > thead > tr,\n",
              ".dataframe > tbody > tr {\n",
              "  text-align: right;\n",
              "  white-space: pre-wrap;\n",
              "}\n",
              "</style>\n",
              "<small>shape: (5, 4)</small><table border=\"1\" class=\"dataframe\"><thead><tr><th>yearID</th><th>teamID</th><th>name</th><th>park</th></tr><tr><td>i64</td><td>str</td><td>str</td><td>str</td></tr></thead><tbody><tr><td>1871</td><td>&quot;BS1&quot;</td><td>&quot;Boston Red Sto…</td><td>&quot;South End Grou…</td></tr><tr><td>1871</td><td>&quot;CH1&quot;</td><td>&quot;Chicago White …</td><td>&quot;Union Base-Bal…</td></tr><tr><td>1871</td><td>&quot;CL1&quot;</td><td>&quot;Cleveland Fore…</td><td>&quot;National Assoc…</td></tr><tr><td>1871</td><td>&quot;FW1&quot;</td><td>&quot;Fort Wayne Kek…</td><td>&quot;Hamilton Field…</td></tr><tr><td>1871</td><td>&quot;NY2&quot;</td><td>&quot;New York Mutua…</td><td>&quot;Union Grounds …</td></tr></tbody></table></div>"
            ]
          },
          "metadata": {},
          "execution_count": 32
        }
      ],
      "source": [
        "teams_select = (teams.select(['yearID',\n",
        "                              'teamID',\n",
        "                              'name',\n",
        "                              'park',\n",
        "                             ]))\n",
        "teams_select.head()"
      ]
    },
    {
      "cell_type": "code",
      "execution_count": 33,
      "id": "b3667d9e",
      "metadata": {
        "id": "b3667d9e",
        "outputId": "5ac6310f-f229-4f49-820d-60948f903433",
        "colab": {
          "base_uri": "https://localhost:8080/"
        }
      },
      "outputs": [
        {
          "output_type": "execute_result",
          "data": {
            "text/plain": [
              "(2925, 4)"
            ]
          },
          "metadata": {},
          "execution_count": 33
        }
      ],
      "source": [
        "teams_select.shape"
      ]
    },
    {
      "cell_type": "markdown",
      "id": "8aa6a725",
      "metadata": {
        "id": "8aa6a725"
      },
      "source": [
        "## How can we match these columns?\n",
        "\n",
        "We will need to match on both `teamID` and `yearID` because\n",
        "\n",
        "1. Team names might change\n",
        "2. The teams park depends on the year."
      ]
    },
    {
      "cell_type": "markdown",
      "id": "3f525984",
      "metadata": {
        "id": "3f525984"
      },
      "source": [
        "## Determining the correct join.\n",
        "\n",
        "Facts of the task:\n",
        "\n",
        "* We want batting statistics for all players in 2009\n",
        "* We want only teams names and parks for teams that played that year.\n",
        "\n",
        "**Question:** Which join?\n",
        "**Answer:** `batting >> left_join(teams)` on both year and teamID"
      ]
    },
    {
      "cell_type": "markdown",
      "id": "f5299162",
      "metadata": {
        "id": "f5299162"
      },
      "source": [
        "## How to join on multiple columns\n",
        "\n",
        "Pass a list of columns names to `on`"
      ]
    },
    {
      "cell_type": "code",
      "execution_count": 35,
      "id": "9a3b269c",
      "metadata": {
        "id": "9a3b269c",
        "outputId": "44258c51-e75c-4b21-ea48-40397828f583",
        "colab": {
          "base_uri": "https://localhost:8080/",
          "height": 255
        }
      },
      "outputs": [
        {
          "output_type": "execute_result",
          "data": {
            "text/plain": [
              "shape: (5, 5)\n",
              "┌────────┬────────┬─────┬────────────────────────┬───────────────────────────────────┐\n",
              "│ teamID ┆ yearID ┆ R   ┆ name                   ┆ park                              │\n",
              "│ ---    ┆ ---    ┆ --- ┆ ---                    ┆ ---                               │\n",
              "│ str    ┆ i64    ┆ i64 ┆ str                    ┆ str                               │\n",
              "╞════════╪════════╪═════╪════════════════════════╪═══════════════════════════════════╡\n",
              "│ TRO    ┆ 1871   ┆ 0   ┆ Troy Haymakers         ┆ Haymakers' Grounds                │\n",
              "│ RC1    ┆ 1871   ┆ 30  ┆ Rockford Forest Citys  ┆ Agricultural Society Fair Ground… │\n",
              "│ CL1    ┆ 1871   ┆ 28  ┆ Cleveland Forest Citys ┆ National Association Grounds      │\n",
              "│ WS3    ┆ 1871   ┆ 28  ┆ Washington Olympics    ┆ Olympics Grounds                  │\n",
              "│ RC1    ┆ 1871   ┆ 29  ┆ Rockford Forest Citys  ┆ Agricultural Society Fair Ground… │\n",
              "└────────┴────────┴─────┴────────────────────────┴───────────────────────────────────┘"
            ],
            "text/html": [
              "<div><style>\n",
              ".dataframe > thead > tr,\n",
              ".dataframe > tbody > tr {\n",
              "  text-align: right;\n",
              "  white-space: pre-wrap;\n",
              "}\n",
              "</style>\n",
              "<small>shape: (5, 5)</small><table border=\"1\" class=\"dataframe\"><thead><tr><th>teamID</th><th>yearID</th><th>R</th><th>name</th><th>park</th></tr><tr><td>str</td><td>i64</td><td>i64</td><td>str</td><td>str</td></tr></thead><tbody><tr><td>&quot;TRO&quot;</td><td>1871</td><td>0</td><td>&quot;Troy Haymakers…</td><td>&quot;Haymakers&#x27; Gro…</td></tr><tr><td>&quot;RC1&quot;</td><td>1871</td><td>30</td><td>&quot;Rockford Fores…</td><td>&quot;Agricultural S…</td></tr><tr><td>&quot;CL1&quot;</td><td>1871</td><td>28</td><td>&quot;Cleveland Fore…</td><td>&quot;National Assoc…</td></tr><tr><td>&quot;WS3&quot;</td><td>1871</td><td>28</td><td>&quot;Washington Oly…</td><td>&quot;Olympics Groun…</td></tr><tr><td>&quot;RC1&quot;</td><td>1871</td><td>29</td><td>&quot;Rockford Fores…</td><td>&quot;Agricultural S…</td></tr></tbody></table></div>"
            ]
          },
          "metadata": {},
          "execution_count": 35
        }
      ],
      "source": [
        "df_joined = batting_select.join(teams_select, on=['teamID', 'yearID'], how='left')\n",
        "df_joined.head()"
      ]
    },
    {
      "cell_type": "code",
      "execution_count": 36,
      "id": "b7e08c34",
      "metadata": {
        "id": "b7e08c34",
        "outputId": "850fa479-e04e-4705-e73a-53beddd6e044",
        "colab": {
          "base_uri": "https://localhost:8080/"
        }
      },
      "outputs": [
        {
          "output_type": "execute_result",
          "data": {
            "text/plain": [
              "(107429, 5)"
            ]
          },
          "metadata": {},
          "execution_count": 36
        }
      ],
      "source": [
        "df_joined.shape"
      ]
    },
    {
      "cell_type": "markdown",
      "id": "07e855b3",
      "metadata": {
        "id": "07e855b3"
      },
      "source": [
        "#### Filter, group by, and aggregate to get the desired result."
      ]
    },
    {
      "cell_type": "code",
      "execution_count": 40,
      "id": "54e99fa7",
      "metadata": {
        "id": "54e99fa7",
        "outputId": "15b9c8cc-6e82-481d-f473-8ee589357df5",
        "colab": {
          "base_uri": "https://localhost:8080/",
          "height": 255
        }
      },
      "outputs": [
        {
          "output_type": "execute_result",
          "data": {
            "text/plain": [
              "shape: (5, 3)\n",
              "┌──────────────────────┬─────────────────────────────┬────────────┐\n",
              "│ name                 ┆ park                        ┆ total_runs │\n",
              "│ ---                  ┆ ---                         ┆ ---        │\n",
              "│ str                  ┆ str                         ┆ i64        │\n",
              "╞══════════════════════╪═════════════════════════════╪════════════╡\n",
              "│ Seattle Mariners     ┆ Safeco Field                ┆ 640        │\n",
              "│ Washington Nationals ┆ Nationals Park              ┆ 710        │\n",
              "│ St. Louis Cardinals  ┆ Busch Stadium III           ┆ 730        │\n",
              "│ Pittsburgh Pirates   ┆ PNC Park                    ┆ 636        │\n",
              "│ Baltimore Orioles    ┆ Oriole Park at Camden Yards ┆ 741        │\n",
              "└──────────────────────┴─────────────────────────────┴────────────┘"
            ],
            "text/html": [
              "<div><style>\n",
              ".dataframe > thead > tr,\n",
              ".dataframe > tbody > tr {\n",
              "  text-align: right;\n",
              "  white-space: pre-wrap;\n",
              "}\n",
              "</style>\n",
              "<small>shape: (5, 3)</small><table border=\"1\" class=\"dataframe\"><thead><tr><th>name</th><th>park</th><th>total_runs</th></tr><tr><td>str</td><td>str</td><td>i64</td></tr></thead><tbody><tr><td>&quot;Seattle Marine…</td><td>&quot;Safeco Field&quot;</td><td>640</td></tr><tr><td>&quot;Washington Nat…</td><td>&quot;Nationals Park…</td><td>710</td></tr><tr><td>&quot;St. Louis Card…</td><td>&quot;Busch Stadium …</td><td>730</td></tr><tr><td>&quot;Pittsburgh Pir…</td><td>&quot;PNC Park&quot;</td><td>636</td></tr><tr><td>&quot;Baltimore Orio…</td><td>&quot;Oriole Park at…</td><td>741</td></tr></tbody></table></div>"
            ]
          },
          "metadata": {},
          "execution_count": 40
        }
      ],
      "source": [
        "runs_per_team09 = (df_joined\n",
        "                   .filter(pl.col('yearID') == 2009)\n",
        "                   .group_by([pl.col('name'), pl.col('park')])\n",
        "                   .agg(pl.col('R').sum().alias('total_runs')))\n",
        "runs_per_team09.head()"
      ]
    },
    {
      "cell_type": "code",
      "execution_count": 41,
      "id": "70b7edf0",
      "metadata": {
        "id": "70b7edf0",
        "outputId": "807b32af-e4f3-403d-e0c7-37c77f02705f",
        "colab": {
          "base_uri": "https://localhost:8080/"
        }
      },
      "outputs": [
        {
          "output_type": "execute_result",
          "data": {
            "text/plain": [
              "(30, 3)"
            ]
          },
          "metadata": {},
          "execution_count": 41
        }
      ],
      "source": [
        "runs_per_team09.shape"
      ]
    },
    {
      "cell_type": "markdown",
      "id": "9af4b290",
      "metadata": {
        "id": "9af4b290"
      },
      "source": [
        "## Joins are expensive!\n",
        "\n",
        "**Be careful when joining large tables!! Especially for full outer joins!!!**\n",
        "\n",
        "When joining table `A` to table `B`,\n",
        "\n",
        "* An inner join performs `min(len(A), len(B))` comparisons\n",
        "* An outer join performs `len(A)*len(B)` row comparisons.\n",
        "* Left and Right are somewhere in between (depending on how we treat multiples)."
      ]
    },
    {
      "cell_type": "markdown",
      "id": "4610e077",
      "metadata": {
        "id": "4610e077"
      },
      "source": [
        "## Outer joins (can) produce LARGE tables.\n",
        "\n",
        "**Be careful when joining large tables!! Especially for full outer joins!!!**\n",
        "\n",
        "When joining table `A` to table `B`,\n",
        "\n",
        "* An outer join might produce `len(A)*len(B)` rows (worst case)\n",
        "* Left and right joins are similar if we don't drop multiples."
      ]
    },
    {
      "cell_type": "markdown",
      "id": "513cac52",
      "metadata": {
        "id": "513cac52"
      },
      "source": [
        "#### Last example"
      ]
    },
    {
      "cell_type": "code",
      "execution_count": 43,
      "id": "12ec8b5a",
      "metadata": {
        "id": "12ec8b5a",
        "outputId": "7fb69bc2-7340-41cd-fe68-308ac45f102d",
        "colab": {
          "base_uri": "https://localhost:8080/"
        }
      },
      "outputs": [
        {
          "output_type": "execute_result",
          "data": {
            "text/plain": [
              "314229825"
            ]
          },
          "metadata": {},
          "execution_count": 43
        }
      ],
      "source": [
        "len(batting_select)*len(teams_select)"
      ]
    },
    {
      "cell_type": "markdown",
      "id": "bc209673",
      "metadata": {
        "id": "bc209673"
      },
      "source": [
        "## The joining mantra: Filter/aggregate THEN join\n",
        "\n",
        "By filtering and/or aggregating before joining, you will\n",
        "\n",
        "* reduce the amount of work\n",
        "* protect against really large output"
      ]
    },
    {
      "cell_type": "markdown",
      "id": "c7431b36",
      "metadata": {
        "id": "c7431b36"
      },
      "source": [
        "#### Filter and aggregate to total runs per team per year"
      ]
    },
    {
      "cell_type": "code",
      "execution_count": 45,
      "id": "91c404c6",
      "metadata": {
        "id": "91c404c6",
        "outputId": "1e646f32-94ce-4292-e0c4-c99b5db3f1b8",
        "colab": {
          "base_uri": "https://localhost:8080/",
          "height": 255
        }
      },
      "outputs": [
        {
          "output_type": "execute_result",
          "data": {
            "text/plain": [
              "shape: (5, 2)\n",
              "┌────────┬────────────┐\n",
              "│ teamID ┆ total_runs │\n",
              "│ ---    ┆ ---        │\n",
              "│ str    ┆ i64        │\n",
              "╞════════╪════════════╡\n",
              "│ OAK    ┆ 759        │\n",
              "│ NYN    ┆ 671        │\n",
              "│ LAA    ┆ 883        │\n",
              "│ SDN    ┆ 638        │\n",
              "│ MIN    ┆ 817        │\n",
              "└────────┴────────────┘"
            ],
            "text/html": [
              "<div><style>\n",
              ".dataframe > thead > tr,\n",
              ".dataframe > tbody > tr {\n",
              "  text-align: right;\n",
              "  white-space: pre-wrap;\n",
              "}\n",
              "</style>\n",
              "<small>shape: (5, 2)</small><table border=\"1\" class=\"dataframe\"><thead><tr><th>teamID</th><th>total_runs</th></tr><tr><td>str</td><td>i64</td></tr></thead><tbody><tr><td>&quot;OAK&quot;</td><td>759</td></tr><tr><td>&quot;NYN&quot;</td><td>671</td></tr><tr><td>&quot;LAA&quot;</td><td>883</td></tr><tr><td>&quot;SDN&quot;</td><td>638</td></tr><tr><td>&quot;MIN&quot;</td><td>817</td></tr></tbody></table></div>"
            ]
          },
          "metadata": {},
          "execution_count": 45
        }
      ],
      "source": [
        "runs = (batting_select\n",
        "        .filter(pl.col('yearID') == 2009)\n",
        "        .group_by(pl.col('teamID'))\n",
        "        .agg(pl.col('R').sum().alias('total_runs')))\n",
        "\n",
        "runs.head()"
      ]
    },
    {
      "cell_type": "markdown",
      "id": "3f67b03f",
      "metadata": {
        "id": "3f67b03f"
      },
      "source": [
        "#### Filter down to 2009 teams"
      ]
    },
    {
      "cell_type": "code",
      "execution_count": 46,
      "id": "2e183a75",
      "metadata": {
        "id": "2e183a75",
        "outputId": "dc83e4cb-49ac-4a1d-e013-c16cfff2a4db",
        "colab": {
          "base_uri": "https://localhost:8080/",
          "height": 255
        }
      },
      "outputs": [
        {
          "output_type": "execute_result",
          "data": {
            "text/plain": [
              "shape: (5, 4)\n",
              "┌────────┬────────┬──────────────────────┬─────────────────────────────┐\n",
              "│ yearID ┆ teamID ┆ name                 ┆ park                        │\n",
              "│ ---    ┆ ---    ┆ ---                  ┆ ---                         │\n",
              "│ i64    ┆ str    ┆ str                  ┆ str                         │\n",
              "╞════════╪════════╪══════════════════════╪═════════════════════════════╡\n",
              "│ 2009   ┆ ARI    ┆ Arizona Diamondbacks ┆ Chase Field                 │\n",
              "│ 2009   ┆ ATL    ┆ Atlanta Braves       ┆ Turner Field                │\n",
              "│ 2009   ┆ BAL    ┆ Baltimore Orioles    ┆ Oriole Park at Camden Yards │\n",
              "│ 2009   ┆ BOS    ┆ Boston Red Sox       ┆ Fenway Park II              │\n",
              "│ 2009   ┆ CHA    ┆ Chicago White Sox    ┆ U.S. Cellular Field         │\n",
              "└────────┴────────┴──────────────────────┴─────────────────────────────┘"
            ],
            "text/html": [
              "<div><style>\n",
              ".dataframe > thead > tr,\n",
              ".dataframe > tbody > tr {\n",
              "  text-align: right;\n",
              "  white-space: pre-wrap;\n",
              "}\n",
              "</style>\n",
              "<small>shape: (5, 4)</small><table border=\"1\" class=\"dataframe\"><thead><tr><th>yearID</th><th>teamID</th><th>name</th><th>park</th></tr><tr><td>i64</td><td>str</td><td>str</td><td>str</td></tr></thead><tbody><tr><td>2009</td><td>&quot;ARI&quot;</td><td>&quot;Arizona Diamon…</td><td>&quot;Chase Field&quot;</td></tr><tr><td>2009</td><td>&quot;ATL&quot;</td><td>&quot;Atlanta Braves…</td><td>&quot;Turner Field&quot;</td></tr><tr><td>2009</td><td>&quot;BAL&quot;</td><td>&quot;Baltimore Orio…</td><td>&quot;Oriole Park at…</td></tr><tr><td>2009</td><td>&quot;BOS&quot;</td><td>&quot;Boston Red Sox…</td><td>&quot;Fenway Park II…</td></tr><tr><td>2009</td><td>&quot;CHA&quot;</td><td>&quot;Chicago White …</td><td>&quot;U.S. Cellular …</td></tr></tbody></table></div>"
            ]
          },
          "metadata": {},
          "execution_count": 46
        }
      ],
      "source": [
        "teams09 = (teams_select\n",
        "           .filter(pl.col('yearID') == 2009)\n",
        "          )\n",
        "teams09.head()"
      ]
    },
    {
      "cell_type": "code",
      "execution_count": 47,
      "id": "46fa7a66",
      "metadata": {
        "id": "46fa7a66",
        "outputId": "35ef80dc-9914-4cf1-97c9-4b1cabedb782",
        "colab": {
          "base_uri": "https://localhost:8080/"
        }
      },
      "outputs": [
        {
          "output_type": "execute_result",
          "data": {
            "text/plain": [
              "900"
            ]
          },
          "metadata": {},
          "execution_count": 47
        }
      ],
      "source": [
        "len(runs)*len(teams09)"
      ]
    },
    {
      "cell_type": "code",
      "execution_count": 48,
      "id": "0e51e84c",
      "metadata": {
        "id": "0e51e84c",
        "outputId": "0fbd3da6-80b2-4a58-e73d-4405727f185e",
        "colab": {
          "base_uri": "https://localhost:8080/",
          "height": 255
        }
      },
      "outputs": [
        {
          "output_type": "execute_result",
          "data": {
            "text/plain": [
              "shape: (5, 4)\n",
              "┌────────────┬────────┬───────────────────────────────┬─────────────────────────────────┐\n",
              "│ total_runs ┆ yearID ┆ name                          ┆ park                            │\n",
              "│ ---        ┆ ---    ┆ ---                           ┆ ---                             │\n",
              "│ i64        ┆ i64    ┆ str                           ┆ str                             │\n",
              "╞════════════╪════════╪═══════════════════════════════╪═════════════════════════════════╡\n",
              "│ 759        ┆ 2009   ┆ Oakland Athletics             ┆ Oakland-Alameda County Coliseum │\n",
              "│ 671        ┆ 2009   ┆ New York Mets                 ┆ Citi Field                      │\n",
              "│ 883        ┆ 2009   ┆ Los Angeles Angels of Anaheim ┆ Angel Stadium                   │\n",
              "│ 638        ┆ 2009   ┆ San Diego Padres              ┆ Petco Park                      │\n",
              "│ 817        ┆ 2009   ┆ Minnesota Twins               ┆ Hubert H Humphrey Metrodome     │\n",
              "└────────────┴────────┴───────────────────────────────┴─────────────────────────────────┘"
            ],
            "text/html": [
              "<div><style>\n",
              ".dataframe > thead > tr,\n",
              ".dataframe > tbody > tr {\n",
              "  text-align: right;\n",
              "  white-space: pre-wrap;\n",
              "}\n",
              "</style>\n",
              "<small>shape: (5, 4)</small><table border=\"1\" class=\"dataframe\"><thead><tr><th>total_runs</th><th>yearID</th><th>name</th><th>park</th></tr><tr><td>i64</td><td>i64</td><td>str</td><td>str</td></tr></thead><tbody><tr><td>759</td><td>2009</td><td>&quot;Oakland Athlet…</td><td>&quot;Oakland-Alamed…</td></tr><tr><td>671</td><td>2009</td><td>&quot;New York Mets&quot;</td><td>&quot;Citi Field&quot;</td></tr><tr><td>883</td><td>2009</td><td>&quot;Los Angeles An…</td><td>&quot;Angel Stadium&quot;</td></tr><tr><td>638</td><td>2009</td><td>&quot;San Diego Padr…</td><td>&quot;Petco Park&quot;</td></tr><tr><td>817</td><td>2009</td><td>&quot;Minnesota Twin…</td><td>&quot;Hubert H Humph…</td></tr></tbody></table></div>"
            ]
          },
          "metadata": {},
          "execution_count": 48
        }
      ],
      "source": [
        "runs_per_team09_new = (runs\n",
        "                       .join(teams09, on='teamID', how='left')\n",
        "                       .drop('teamID')\n",
        "                      )\n",
        "runs_per_team09_new.head()"
      ]
    },
    {
      "cell_type": "code",
      "execution_count": 49,
      "id": "40b92f96",
      "metadata": {
        "id": "40b92f96",
        "outputId": "172c2f02-bab2-4d93-903f-8b769033d2d7",
        "colab": {
          "base_uri": "https://localhost:8080/"
        }
      },
      "outputs": [
        {
          "output_type": "execute_result",
          "data": {
            "text/plain": [
              "(30, 4)"
            ]
          },
          "metadata": {},
          "execution_count": 49
        }
      ],
      "source": [
        "runs_per_team09_new.shape"
      ]
    },
    {
      "cell_type": "markdown",
      "id": "9684ce4d",
      "metadata": {
        "id": "9684ce4d"
      },
      "source": [
        "## Don't worry about speed until it matters!\n",
        "\n",
        "* I don't emphasize speed most of the time.\n",
        "* In this case, either approach was nearly instant.\n",
        "* Still ... `join`s are *so dangerous* that I make an exception here!"
      ]
    },
    {
      "cell_type": "markdown",
      "id": "7de88060",
      "metadata": {
        "id": "7de88060"
      },
      "source": [
        "## <font color=\"red\"> Exercise 7.3.1 </font>\n",
        "\n",
        "Determine all the players that have hit more than 50 home runs in a season.  The final table should include the players proper name, as well as the team name.  \n",
        "\n",
        "**Hint:** You will need join the `Batting.csv`, `People.csv`, and `Teams.csv` files.  To get credit for this exercise, use the join methods presented above."
      ]
    },
    {
      "cell_type": "code",
      "execution_count": null,
      "id": "9a022558",
      "metadata": {
        "id": "9a022558"
      },
      "outputs": [],
      "source": [
        "# Your code here"
      ]
    }
  ],
  "metadata": {
    "celltoolbar": "Slideshow",
    "kernelspec": {
      "display_name": "Python 3 (ipykernel)",
      "language": "python",
      "name": "python3"
    },
    "language_info": {
      "codemirror_mode": {
        "name": "ipython",
        "version": 3
      },
      "file_extension": ".py",
      "mimetype": "text/x-python",
      "name": "python",
      "nbconvert_exporter": "python",
      "pygments_lexer": "ipython3",
      "version": "3.9.12"
    },
    "varInspector": {
      "cols": {
        "lenName": 16,
        "lenType": 16,
        "lenVar": 40
      },
      "kernels_config": {
        "python": {
          "delete_cmd_postfix": "",
          "delete_cmd_prefix": "del ",
          "library": "var_list.py",
          "varRefreshCmd": "print(var_dic_list())"
        },
        "r": {
          "delete_cmd_postfix": ") ",
          "delete_cmd_prefix": "rm(",
          "library": "var_list.r",
          "varRefreshCmd": "cat(var_dic_list()) "
        }
      },
      "types_to_exclude": [
        "module",
        "function",
        "builtin_function_or_method",
        "instance",
        "_Feature"
      ],
      "window_display": false
    },
    "colab": {
      "provenance": [],
      "include_colab_link": true
    }
  },
  "nbformat": 4,
  "nbformat_minor": 5
}